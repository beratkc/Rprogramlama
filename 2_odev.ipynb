{
  "nbformat": 4,
  "nbformat_minor": 0,
  "metadata": {
    "colab": {
      "provenance": [],
      "authorship_tag": "ABX9TyP37mMrG4JnJ87a/FHca6NS",
      "include_colab_link": true
    },
    "kernelspec": {
      "name": "ir",
      "display_name": "R"
    },
    "language_info": {
      "name": "R"
    }
  },
  "cells": [
    {
      "cell_type": "markdown",
      "metadata": {
        "id": "view-in-github",
        "colab_type": "text"
      },
      "source": [
        "<a href=\"https://colab.research.google.com/github/beratkc/Rprogramlama/blob/main/%C3%B6dev2.ipynb\" target=\"_parent\"><img src=\"https://colab.research.google.com/assets/colab-badge.svg\" alt=\"Open In Colab\"/></a>"
      ]
    },
    {
      "cell_type": "markdown",
      "source": [
        "# 1. soru\n",
        " # 1-100 arası tamsayılardan oluşan bir vektör oluşturunuz\n"
      ],
      "metadata": {
        "id": "nMMiQYyzPzny"
      }
    },
    {
      "cell_type": "code",
      "execution_count": 4,
      "metadata": {
        "id": "3VmrFXnkPpYb",
        "colab": {
          "base_uri": "https://localhost:8080/"
        },
        "outputId": "1790d202-44d0-4e0d-ef68-fc786ef84164"
      },
      "outputs": [
        {
          "output_type": "stream",
          "name": "stdout",
          "text": [
            "[1] 14 93 30  8 66 33\n"
          ]
        }
      ],
      "source": [
        "\n",
        "vektor <- sample(1:100, 6) #1-100 arasında 6 elemanlı vektör oluşruma\n",
        "print(vektor)\n"
      ]
    },
    {
      "cell_type": "markdown",
      "source": [
        "# 2. soru\n",
        " # Bir vektör içinden x[3] ve x[9] değerlerini bulunuz\n"
      ],
      "metadata": {
        "id": "HGgFbVsBP_b7"
      }
    },
    {
      "cell_type": "code",
      "source": [
        "x<-c(25,43,21,12,55,67,89,59,67,83)\n",
        "x[3]\n",
        "x[9]"
      ],
      "metadata": {
        "id": "IrEz_ty1QQMi",
        "colab": {
          "base_uri": "https://localhost:8080/",
          "height": 52
        },
        "outputId": "ef5d4639-8cc4-4c62-c4ca-1b0c400cbe03"
      },
      "execution_count": 6,
      "outputs": [
        {
          "output_type": "display_data",
          "data": {
            "text/html": [
              "21"
            ],
            "text/markdown": "21",
            "text/latex": "21",
            "text/plain": [
              "[1] 21"
            ]
          },
          "metadata": {}
        },
        {
          "output_type": "display_data",
          "data": {
            "text/html": [
              "67"
            ],
            "text/markdown": "67",
            "text/latex": "67",
            "text/plain": [
              "[1] 67"
            ]
          },
          "metadata": {}
        }
      ]
    },
    {
      "cell_type": "markdown",
      "source": [
        "# 3. soru\n",
        " # Yukarıdaki vektörün eleman sayısını bulunuz\n"
      ],
      "metadata": {
        "id": "rWmxei72QQjx"
      }
    },
    {
      "cell_type": "code",
      "source": [
        "length(x) # x vektörünün kaç elamanlı olduğunu gösterir"
      ],
      "metadata": {
        "id": "LpT7BylYQYX8",
        "colab": {
          "base_uri": "https://localhost:8080/",
          "height": 34
        },
        "outputId": "c8c18f5e-f525-41c2-a860-b79efbc570a5"
      },
      "execution_count": 7,
      "outputs": [
        {
          "output_type": "display_data",
          "data": {
            "text/html": [
              "10"
            ],
            "text/markdown": "10",
            "text/latex": "10",
            "text/plain": [
              "[1] 10"
            ]
          },
          "metadata": {}
        }
      ]
    },
    {
      "cell_type": "markdown",
      "source": [
        "# 4. soru\n",
        " # Tablonun BOY sütünda yer alan verilerin ortalamsını ve Toplamanı hesaplayanız\n"
      ],
      "metadata": {
        "id": "bvEgS3vhQaBm"
      }
    },
    {
      "cell_type": "code",
      "source": [
        "boy<-c(175,166,180,185,160)\n",
        "mean(boy) #ortalama\n",
        "sum(boy) #toplamı\n"
      ],
      "metadata": {
        "colab": {
          "base_uri": "https://localhost:8080/",
          "height": 52
        },
        "id": "sAmETeKNYB2J",
        "outputId": "2aa7d6ff-0545-40b8-8917-6f5cbe82db5e"
      },
      "execution_count": 9,
      "outputs": [
        {
          "output_type": "display_data",
          "data": {
            "text/html": [
              "173.2"
            ],
            "text/markdown": "173.2",
            "text/latex": "173.2",
            "text/plain": [
              "[1] 173.2"
            ]
          },
          "metadata": {}
        },
        {
          "output_type": "display_data",
          "data": {
            "text/html": [
              "866"
            ],
            "text/markdown": "866",
            "text/latex": "866",
            "text/plain": [
              "[1] 866"
            ]
          },
          "metadata": {}
        }
      ]
    },
    {
      "cell_type": "markdown",
      "source": [
        "# 5. soru\n",
        " # Bir vektörün göz önüne alalım.Bu vektörün içerdiği veriler arasında 10'dan büyük olanları seçerek bulunuz."
      ],
      "metadata": {
        "id": "GBgqqO8LYCFQ"
      }
    },
    {
      "cell_type": "code",
      "source": [
        "y<-c(11,15,9,7,12,13)\n",
        "z<-y[y>10] # y vektörünün içindeki 10dan büyük olan elamanları z vektörüne ekler\n",
        "show(z)"
      ],
      "metadata": {
        "id": "1NVtewZ0crsx",
        "colab": {
          "base_uri": "https://localhost:8080/"
        },
        "outputId": "f3f3515d-a9e1-47f7-87fe-7209d965b693"
      },
      "execution_count": 10,
      "outputs": [
        {
          "output_type": "stream",
          "name": "stdout",
          "text": [
            "[1] 11 15 12 13\n"
          ]
        }
      ]
    },
    {
      "cell_type": "markdown",
      "source": [
        "# 6. soru\n",
        " # Tablomuzdaki isimlerden oluşan birinci sütündaki veriyi bir vektör içinde tanımlayarak vektörün yaratılması sağlayan R kodlarını yazınız\n"
      ],
      "metadata": {
        "id": "Wj-V7xnncsQA"
      }
    },
    {
      "cell_type": "code",
      "source": [
        "isim<-c(\"halit\",\"mehmet\",\"ersin\",\"suat\",\"tuncer\")\n",
        "show(isim)"
      ],
      "metadata": {
        "id": "4Dt9xiiidj5z",
        "colab": {
          "base_uri": "https://localhost:8080/"
        },
        "outputId": "ef624fd1-4ace-41e2-b901-30c2ae06cf72"
      },
      "execution_count": 12,
      "outputs": [
        {
          "output_type": "stream",
          "name": "stdout",
          "text": [
            "[1] \"halit\"  \"mehmet\" \"ersin\"  \"suat\"   \"tuncer\"\n"
          ]
        }
      ]
    },
    {
      "cell_type": "markdown",
      "source": [
        "# 7. soru\n",
        "# a vektörümüzün 4. elemanını 11 olarak değiştiriniz"
      ],
      "metadata": {
        "id": "B9_UbLBXdk7M"
      }
    },
    {
      "cell_type": "code",
      "source": [
        "a<-c(3,22,11,19,16,25)\n",
        "\n",
        "a[4] <- 11 #4. elamanımız 11 değeri ile değiştirildi\n",
        "show(a)\n"
      ],
      "metadata": {
        "id": "sKRqYF6JdtOw",
        "colab": {
          "base_uri": "https://localhost:8080/"
        },
        "outputId": "79cdd7fe-754f-4d06-cf68-b277b52fb00e"
      },
      "execution_count": 14,
      "outputs": [
        {
          "output_type": "stream",
          "name": "stdout",
          "text": [
            "[1]  3 22 11 11 16 25\n"
          ]
        }
      ]
    },
    {
      "cell_type": "markdown",
      "source": [
        "# 8 soru\n",
        " # Yukarıdaki soruda yer alan vektörün 3. elamanını silen R kodunu yazınız"
      ],
      "metadata": {
        "id": "g8bwdRzjdtsC"
      }
    },
    {
      "cell_type": "code",
      "source": [
        "a<-a[-3]\n",
        "\n",
        "show(a)"
      ],
      "metadata": {
        "id": "-Bz1Ua9Deh97",
        "colab": {
          "base_uri": "https://localhost:8080/"
        },
        "outputId": "3819a5ae-0698-45c7-a4b1-29dddc5370c9"
      },
      "execution_count": 15,
      "outputs": [
        {
          "output_type": "stream",
          "name": "stdout",
          "text": [
            "[1]  3 22 11 16 25\n"
          ]
        }
      ]
    },
    {
      "cell_type": "markdown",
      "source": [
        "# 9. soru\n",
        " # Vektörümüzün 3. ile 5. arasındaki tüm elamnları siliniz"
      ],
      "metadata": {
        "id": "ACgn3lbZeiws"
      }
    },
    {
      "cell_type": "code",
      "source": [
        "xx<-c(12,2,4,17,13,19,6,24,15,25)\n",
        "silinecek <- 3:5\n",
        "\n",
        "# Yeni vektörü oluşturalım\n",
        "xx2 <- xx[-silinecek]\n",
        "\n",
        "show(xx2)"
      ],
      "metadata": {
        "id": "A0pi3Q53ey30",
        "colab": {
          "base_uri": "https://localhost:8080/"
        },
        "outputId": "8c3cd2db-8a41-4e14-d742-76cf0d56bb18"
      },
      "execution_count": 31,
      "outputs": [
        {
          "output_type": "stream",
          "name": "stdout",
          "text": [
            "[1] 12  2 19  6 24 15 25\n"
          ]
        }
      ]
    },
    {
      "cell_type": "markdown",
      "source": [
        "# 10. soru\n",
        " # Bir vektörün tüm elamanlarını siliniz\n"
      ],
      "metadata": {
        "id": "iqWzRorke0TY"
      }
    },
    {
      "cell_type": "code",
      "source": [
        "dd<-c(10,20,30,49,65)\n",
        "\n",
        "dd<-c() # Boş bir vektöre eşitledğimiz zaman tüm elamanlar silinmiş olur\n",
        "\n",
        "show(dd)"
      ],
      "metadata": {
        "id": "fNtq0uICe69y",
        "colab": {
          "base_uri": "https://localhost:8080/"
        },
        "outputId": "08cc30eb-5488-438d-b167-b236da700ff9"
      },
      "execution_count": 26,
      "outputs": [
        {
          "output_type": "stream",
          "name": "stdout",
          "text": [
            "NULL\n"
          ]
        }
      ]
    },
    {
      "cell_type": "markdown",
      "source": [
        "#  11. soru\n",
        " # 9. soru da yer alan vektörü sıralamak için nasıl bir yol izlersiniz\n"
      ],
      "metadata": {
        "id": "bzIk28Gfe70c"
      }
    },
    {
      "cell_type": "code",
      "source": [
        "show(xx2)\n",
        "sort(xx2) # vektörün içindeki elemanları sıralar"
      ],
      "metadata": {
        "id": "bXUiyhmpfdfT",
        "colab": {
          "base_uri": "https://localhost:8080/",
          "height": 53
        },
        "outputId": "46e06a7c-856f-45c1-c406-de1a39a4d2f4"
      },
      "execution_count": 34,
      "outputs": [
        {
          "output_type": "stream",
          "name": "stdout",
          "text": [
            "[1] 12  2 19  6 24 15 25\n"
          ]
        },
        {
          "output_type": "display_data",
          "data": {
            "text/html": [
              "<style>\n",
              ".list-inline {list-style: none; margin:0; padding: 0}\n",
              ".list-inline>li {display: inline-block}\n",
              ".list-inline>li:not(:last-child)::after {content: \"\\00b7\"; padding: 0 .5ex}\n",
              "</style>\n",
              "<ol class=list-inline><li>2</li><li>6</li><li>12</li><li>15</li><li>19</li><li>24</li><li>25</li></ol>\n"
            ],
            "text/markdown": "1. 2\n2. 6\n3. 12\n4. 15\n5. 19\n6. 24\n7. 25\n\n\n",
            "text/latex": "\\begin{enumerate*}\n\\item 2\n\\item 6\n\\item 12\n\\item 15\n\\item 19\n\\item 24\n\\item 25\n\\end{enumerate*}\n",
            "text/plain": [
              "[1]  2  6 12 15 19 24 25"
            ]
          },
          "metadata": {}
        }
      ]
    },
    {
      "cell_type": "markdown",
      "source": [
        "# 12. soru\n",
        " # Karakter verilerinden oluşan bir vektör yaratalım ve faktöre çevirelim"
      ],
      "metadata": {
        "id": "dnBn_4JQffol"
      }
    },
    {
      "cell_type": "code",
      "source": [
        "iller<-c(\"ankara\",\"ankara\",\"istanbul\",\"izmir\",\"ankara\",\"izmir\")\n",
        "faktoriller<-factor(iller)\n",
        "show(faktoriller)"
      ],
      "metadata": {
        "id": "lfLgaAxDghdI",
        "colab": {
          "base_uri": "https://localhost:8080/"
        },
        "outputId": "f1cc4e29-8b8d-4ab6-fe75-a6689fa570bc"
      },
      "execution_count": 36,
      "outputs": [
        {
          "output_type": "stream",
          "name": "stdout",
          "text": [
            "[1] ankara   ankara   istanbul izmir    ankara   izmir   \n",
            "Levels: ankara istanbul izmir\n"
          ]
        }
      ]
    },
    {
      "cell_type": "markdown",
      "source": [
        "# 13. soru\n",
        " # İSTANBUL yerine ANTALYA yazan kodu gösteriniz"
      ],
      "metadata": {
        "id": "kU5d4eNXM-1j"
      }
    },
    {
      "cell_type": "code",
      "source": [
        "levels(faktoriller)[levels(faktoriller)==\"istanbul\"]<-\"antalya\"\n",
        "show(faktoriller)"
      ],
      "metadata": {
        "id": "mvm8GpiJM9_C",
        "outputId": "805cc57d-31fb-4df7-8fe4-d3e6ebac0163",
        "colab": {
          "base_uri": "https://localhost:8080/"
        }
      },
      "execution_count": 37,
      "outputs": [
        {
          "output_type": "stream",
          "name": "stdout",
          "text": [
            "[1] ankara  ankara  antalya izmir   ankara  izmir  \n",
            "Levels: ankara antalya izmir\n"
          ]
        }
      ]
    },
    {
      "cell_type": "markdown",
      "source": [
        "# 14. soru\n",
        "# Yuksarıdaki verktöre SİNOP ifadesini ekleyeniz"
      ],
      "metadata": {
        "id": "Pq9fJEL5long"
      }
    },
    {
      "cell_type": "code",
      "source": [
        "\n",
        "iller<-c(iller,\"sinop\")\n",
        "show(iller)"
      ],
      "metadata": {
        "id": "NHYRsCaHlu_F",
        "colab": {
          "base_uri": "https://localhost:8080/"
        },
        "outputId": "e266c638-162c-47b4-d5c7-40be559518b8"
      },
      "execution_count": 41,
      "outputs": [
        {
          "output_type": "stream",
          "name": "stdout",
          "text": [
            "[1] \"ankara\"   \"ankara\"   \"istanbul\" \"izmir\"    \"ankara\"   \"izmir\"    \"sinop\"   \n",
            "[8] \"sinop\"    \"sinop\"   \n"
          ]
        }
      ]
    }
  ]
}
