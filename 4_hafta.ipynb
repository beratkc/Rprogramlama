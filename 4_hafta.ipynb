{
  "nbformat": 4,
  "nbformat_minor": 0,
  "metadata": {
    "colab": {
      "provenance": [],
      "authorship_tag": "ABX9TyOLzxrIexh73mflvdadF5p5",
      "include_colab_link": true
    },
    "kernelspec": {
      "name": "ir",
      "display_name": "R"
    },
    "language_info": {
      "name": "R"
    }
  },
  "cells": [
    {
      "cell_type": "markdown",
      "metadata": {
        "id": "view-in-github",
        "colab_type": "text"
      },
      "source": [
        "<a href=\"https://colab.research.google.com/github/beratkc/Rprogramlama/blob/main/4_hafta.ipynb\" target=\"_parent\"><img src=\"https://colab.research.google.com/assets/colab-badge.svg\" alt=\"Open In Colab\"/></a>"
      ]
    },
    {
      "cell_type": "code",
      "execution_count": 1,
      "metadata": {
        "id": "N2NzG5P_3Jtg"
      },
      "outputs": [],
      "source": [
        "#Listeler\n",
        "#listeler vektorlere benzer, ancak farkli veri turlerini de barindirir\n",
        "#liste olusturma list() fonksiyonu ile\n",
        "list <- list(25) # bir adet sayisal deger içeren liste"
      ]
    },
    {
      "cell_type": "code",
      "source": [
        "lis <- list(25,\"A\",TRUE) #Liste icinde numerik,karakter ve mantiksal deger\n",
        "lis #3 farkli deger iceren bir nesnenin gorunumu"
      ],
      "metadata": {
        "colab": {
          "base_uri": "https://localhost:8080/",
          "height": 97
        },
        "id": "pj7jN4wD3YuR",
        "outputId": "f3647c8d-4991-4a07-cb63-8bee792b354e"
      },
      "execution_count": 2,
      "outputs": [
        {
          "output_type": "display_data",
          "data": {
            "text/html": [
              "<ol>\n",
              "\t<li>25</li>\n",
              "\t<li>'A'</li>\n",
              "\t<li>TRUE</li>\n",
              "</ol>\n"
            ],
            "text/markdown": "1. 25\n2. 'A'\n3. TRUE\n\n\n",
            "text/latex": "\\begin{enumerate}\n\\item 25\n\\item 'A'\n\\item TRUE\n\\end{enumerate}\n",
            "text/plain": [
              "[[1]]\n",
              "[1] 25\n",
              "\n",
              "[[2]]\n",
              "[1] \"A\"\n",
              "\n",
              "[[3]]\n",
              "[1] TRUE\n"
            ]
          },
          "metadata": {}
        }
      ]
    },
    {
      "cell_type": "code",
      "source": [
        "# farkli verilerden olusan vektor olusturalim\n",
        "#bu vektorlerden olusan bir liste yapalim\n",
        "yas <- c(25,30,28,36)\n",
        "kan <- c(\"A\",\"B\",\"O\",\"AB\")\n",
        "sonuc <- c(TRUE,FALSE,FALSE)\n",
        "lis <- list(yas,kan,sonuc)\n",
        "lis"
      ],
      "metadata": {
        "colab": {
          "base_uri": "https://localhost:8080/",
          "height": 97
        },
        "id": "BmOg93Mm3c-z",
        "outputId": "025bb59a-69b9-4c49-89c6-a21c527cf343"
      },
      "execution_count": 3,
      "outputs": [
        {
          "output_type": "display_data",
          "data": {
            "text/html": [
              "<ol>\n",
              "\t<li><style>\n",
              ".list-inline {list-style: none; margin:0; padding: 0}\n",
              ".list-inline>li {display: inline-block}\n",
              ".list-inline>li:not(:last-child)::after {content: \"\\00b7\"; padding: 0 .5ex}\n",
              "</style>\n",
              "<ol class=list-inline><li>25</li><li>30</li><li>28</li><li>36</li></ol>\n",
              "</li>\n",
              "\t<li><style>\n",
              ".list-inline {list-style: none; margin:0; padding: 0}\n",
              ".list-inline>li {display: inline-block}\n",
              ".list-inline>li:not(:last-child)::after {content: \"\\00b7\"; padding: 0 .5ex}\n",
              "</style>\n",
              "<ol class=list-inline><li>'A'</li><li>'B'</li><li>'O'</li><li>'AB'</li></ol>\n",
              "</li>\n",
              "\t<li><style>\n",
              ".list-inline {list-style: none; margin:0; padding: 0}\n",
              ".list-inline>li {display: inline-block}\n",
              ".list-inline>li:not(:last-child)::after {content: \"\\00b7\"; padding: 0 .5ex}\n",
              "</style>\n",
              "<ol class=list-inline><li>TRUE</li><li>FALSE</li><li>FALSE</li></ol>\n",
              "</li>\n",
              "</ol>\n"
            ],
            "text/markdown": "1. 1. 25\n2. 30\n3. 28\n4. 36\n\n\n\n2. 1. 'A'\n2. 'B'\n3. 'O'\n4. 'AB'\n\n\n\n3. 1. TRUE\n2. FALSE\n3. FALSE\n\n\n\n\n\n",
            "text/latex": "\\begin{enumerate}\n\\item \\begin{enumerate*}\n\\item 25\n\\item 30\n\\item 28\n\\item 36\n\\end{enumerate*}\n\n\\item \\begin{enumerate*}\n\\item 'A'\n\\item 'B'\n\\item 'O'\n\\item 'AB'\n\\end{enumerate*}\n\n\\item \\begin{enumerate*}\n\\item TRUE\n\\item FALSE\n\\item FALSE\n\\end{enumerate*}\n\n\\end{enumerate}\n",
            "text/plain": [
              "[[1]]\n",
              "[1] 25 30 28 36\n",
              "\n",
              "[[2]]\n",
              "[1] \"A\"  \"B\"  \"O\"  \"AB\"\n",
              "\n",
              "[[3]]\n",
              "[1]  TRUE FALSE FALSE\n"
            ]
          },
          "metadata": {}
        }
      ]
    },
    {
      "cell_type": "code",
      "source": [
        "#farkli uc nesnenin bir liste icinde yer almasi\n",
        "vek <- c(5,7,3,1,0,-1)\n",
        "df <- data.frame(c(1,2,5),c(\"A\",\"B\",\"C\"))\n",
        "mat <- matrix(c(12,17,23,15,46,17,3,45,29),3)\n",
        "lis <- list(vek,df,mat)\n",
        "lis"
      ],
      "metadata": {
        "colab": {
          "base_uri": "https://localhost:8080/",
          "height": 366
        },
        "id": "0HEi9tVI3oxt",
        "outputId": "08c1299f-ca2e-489f-b5fb-4d4d1152ee99"
      },
      "execution_count": 4,
      "outputs": [
        {
          "output_type": "display_data",
          "data": {
            "text/html": [
              "<ol>\n",
              "\t<li><style>\n",
              ".list-inline {list-style: none; margin:0; padding: 0}\n",
              ".list-inline>li {display: inline-block}\n",
              ".list-inline>li:not(:last-child)::after {content: \"\\00b7\"; padding: 0 .5ex}\n",
              "</style>\n",
              "<ol class=list-inline><li>5</li><li>7</li><li>3</li><li>1</li><li>0</li><li>-1</li></ol>\n",
              "</li>\n",
              "\t<li><table class=\"dataframe\">\n",
              "<caption>A data.frame: 3 × 2</caption>\n",
              "<thead>\n",
              "\t<tr><th scope=col>c.1..2..5.</th><th scope=col>c..A....B....C..</th></tr>\n",
              "\t<tr><th scope=col>&lt;dbl&gt;</th><th scope=col>&lt;chr&gt;</th></tr>\n",
              "</thead>\n",
              "<tbody>\n",
              "\t<tr><td>1</td><td>A</td></tr>\n",
              "\t<tr><td>2</td><td>B</td></tr>\n",
              "\t<tr><td>5</td><td>C</td></tr>\n",
              "</tbody>\n",
              "</table>\n",
              "</li>\n",
              "\t<li><table class=\"dataframe\">\n",
              "<caption>A matrix: 3 × 3 of type dbl</caption>\n",
              "<tbody>\n",
              "\t<tr><td>12</td><td>15</td><td> 3</td></tr>\n",
              "\t<tr><td>17</td><td>46</td><td>45</td></tr>\n",
              "\t<tr><td>23</td><td>17</td><td>29</td></tr>\n",
              "</tbody>\n",
              "</table>\n",
              "</li>\n",
              "</ol>\n"
            ],
            "text/markdown": "1. 1. 5\n2. 7\n3. 3\n4. 1\n5. 0\n6. -1\n\n\n\n2. \nA data.frame: 3 × 2\n\n| c.1..2..5. &lt;dbl&gt; | c..A....B....C.. &lt;chr&gt; |\n|---|---|\n| 1 | A |\n| 2 | B |\n| 5 | C |\n\n\n3. \nA matrix: 3 × 3 of type dbl\n\n| 12 | 15 |  3 |\n| 17 | 46 | 45 |\n| 23 | 17 | 29 |\n\n\n\n\n",
            "text/latex": "\\begin{enumerate}\n\\item \\begin{enumerate*}\n\\item 5\n\\item 7\n\\item 3\n\\item 1\n\\item 0\n\\item -1\n\\end{enumerate*}\n\n\\item A data.frame: 3 × 2\n\\begin{tabular}{ll}\n c.1..2..5. & c..A....B....C..\\\\\n <dbl> & <chr>\\\\\n\\hline\n\t 1 & A\\\\\n\t 2 & B\\\\\n\t 5 & C\\\\\n\\end{tabular}\n\n\\item A matrix: 3 × 3 of type dbl\n\\begin{tabular}{lll}\n\t 12 & 15 &  3\\\\\n\t 17 & 46 & 45\\\\\n\t 23 & 17 & 29\\\\\n\\end{tabular}\n\n\\end{enumerate}\n",
            "text/plain": [
              "[[1]]\n",
              "[1]  5  7  3  1  0 -1\n",
              "\n",
              "[[2]]\n",
              "  c.1..2..5. c..A....B....C..\n",
              "1          1                A\n",
              "2          2                B\n",
              "3          5                C\n",
              "\n",
              "[[3]]\n",
              "     [,1] [,2] [,3]\n",
              "[1,]   12   15    3\n",
              "[2,]   17   46   45\n",
              "[3,]   23   17   29\n"
            ]
          },
          "metadata": {}
        }
      ]
    },
    {
      "cell_type": "code",
      "source": [
        "#vektorun liste olmaya zorlanmasi as.list()\n",
        "isimler <- c(\"nur\",\"kuban\",\"sevgi\")\n",
        "as.list(isimler)"
      ],
      "metadata": {
        "colab": {
          "base_uri": "https://localhost:8080/",
          "height": 97
        },
        "id": "U5oH28L837QM",
        "outputId": "f310e2b7-07fc-47af-c3a7-b48821ce8745"
      },
      "execution_count": 5,
      "outputs": [
        {
          "output_type": "display_data",
          "data": {
            "text/html": [
              "<ol>\n",
              "\t<li>'nur'</li>\n",
              "\t<li>'kuban'</li>\n",
              "\t<li>'sevgi'</li>\n",
              "</ol>\n"
            ],
            "text/markdown": "1. 'nur'\n2. 'kuban'\n3. 'sevgi'\n\n\n",
            "text/latex": "\\begin{enumerate}\n\\item 'nur'\n\\item 'kuban'\n\\item 'sevgi'\n\\end{enumerate}\n",
            "text/plain": [
              "[[1]]\n",
              "[1] \"nur\"\n",
              "\n",
              "[[2]]\n",
              "[1] \"kuban\"\n",
              "\n",
              "[[3]]\n",
              "[1] \"sevgi\"\n"
            ]
          },
          "metadata": {}
        }
      ]
    },
    {
      "cell_type": "code",
      "source": [
        "#bos liste\n",
        "lis <- vector(\"list\",5)\n",
        "lis"
      ],
      "metadata": {
        "colab": {
          "base_uri": "https://localhost:8080/",
          "height": 132
        },
        "id": "Dx1xNIkZ4BYE",
        "outputId": "1b04f95c-883b-4da4-fd77-7e5751fb7d2a"
      },
      "execution_count": 6,
      "outputs": [
        {
          "output_type": "display_data",
          "data": {
            "text/html": [
              "<ol>\n",
              "\t<li>NULL</li>\n",
              "\t<li>NULL</li>\n",
              "\t<li>NULL</li>\n",
              "\t<li>NULL</li>\n",
              "\t<li>NULL</li>\n",
              "</ol>\n"
            ],
            "text/markdown": "1. NULL\n2. NULL\n3. NULL\n4. NULL\n5. NULL\n\n\n",
            "text/latex": "\\begin{enumerate}\n\\item NULL\n\\item NULL\n\\item NULL\n\\item NULL\n\\item NULL\n\\end{enumerate}\n",
            "text/plain": [
              "[[1]]\n",
              "NULL\n",
              "\n",
              "[[2]]\n",
              "NULL\n",
              "\n",
              "[[3]]\n",
              "NULL\n",
              "\n",
              "[[4]]\n",
              "NULL\n",
              "\n",
              "[[5]]\n",
              "NULL\n"
            ]
          },
          "metadata": {}
        }
      ]
    },
    {
      "cell_type": "code",
      "source": [
        "#isimlendirilmis liste uyesleri\n",
        "vek <- c(5,7,3,1,0,-1)\n",
        "df <- data.frame(c(1,2,5),c(\"A\",\"B\",\"C\"))\n",
        "mat <- matrix(c(12,17,23,15,46,17,3,45,29),3)\n",
        "lis <- list(vek,df,mat)\n",
        "lis"
      ],
      "metadata": {
        "colab": {
          "base_uri": "https://localhost:8080/",
          "height": 366
        },
        "id": "Vx1xmIyi4FoM",
        "outputId": "7514e44b-5cc1-4027-f610-c88f5340971e"
      },
      "execution_count": 7,
      "outputs": [
        {
          "output_type": "display_data",
          "data": {
            "text/html": [
              "<ol>\n",
              "\t<li><style>\n",
              ".list-inline {list-style: none; margin:0; padding: 0}\n",
              ".list-inline>li {display: inline-block}\n",
              ".list-inline>li:not(:last-child)::after {content: \"\\00b7\"; padding: 0 .5ex}\n",
              "</style>\n",
              "<ol class=list-inline><li>5</li><li>7</li><li>3</li><li>1</li><li>0</li><li>-1</li></ol>\n",
              "</li>\n",
              "\t<li><table class=\"dataframe\">\n",
              "<caption>A data.frame: 3 × 2</caption>\n",
              "<thead>\n",
              "\t<tr><th scope=col>c.1..2..5.</th><th scope=col>c..A....B....C..</th></tr>\n",
              "\t<tr><th scope=col>&lt;dbl&gt;</th><th scope=col>&lt;chr&gt;</th></tr>\n",
              "</thead>\n",
              "<tbody>\n",
              "\t<tr><td>1</td><td>A</td></tr>\n",
              "\t<tr><td>2</td><td>B</td></tr>\n",
              "\t<tr><td>5</td><td>C</td></tr>\n",
              "</tbody>\n",
              "</table>\n",
              "</li>\n",
              "\t<li><table class=\"dataframe\">\n",
              "<caption>A matrix: 3 × 3 of type dbl</caption>\n",
              "<tbody>\n",
              "\t<tr><td>12</td><td>15</td><td> 3</td></tr>\n",
              "\t<tr><td>17</td><td>46</td><td>45</td></tr>\n",
              "\t<tr><td>23</td><td>17</td><td>29</td></tr>\n",
              "</tbody>\n",
              "</table>\n",
              "</li>\n",
              "</ol>\n"
            ],
            "text/markdown": "1. 1. 5\n2. 7\n3. 3\n4. 1\n5. 0\n6. -1\n\n\n\n2. \nA data.frame: 3 × 2\n\n| c.1..2..5. &lt;dbl&gt; | c..A....B....C.. &lt;chr&gt; |\n|---|---|\n| 1 | A |\n| 2 | B |\n| 5 | C |\n\n\n3. \nA matrix: 3 × 3 of type dbl\n\n| 12 | 15 |  3 |\n| 17 | 46 | 45 |\n| 23 | 17 | 29 |\n\n\n\n\n",
            "text/latex": "\\begin{enumerate}\n\\item \\begin{enumerate*}\n\\item 5\n\\item 7\n\\item 3\n\\item 1\n\\item 0\n\\item -1\n\\end{enumerate*}\n\n\\item A data.frame: 3 × 2\n\\begin{tabular}{ll}\n c.1..2..5. & c..A....B....C..\\\\\n <dbl> & <chr>\\\\\n\\hline\n\t 1 & A\\\\\n\t 2 & B\\\\\n\t 5 & C\\\\\n\\end{tabular}\n\n\\item A matrix: 3 × 3 of type dbl\n\\begin{tabular}{lll}\n\t 12 & 15 &  3\\\\\n\t 17 & 46 & 45\\\\\n\t 23 & 17 & 29\\\\\n\\end{tabular}\n\n\\end{enumerate}\n",
            "text/plain": [
              "[[1]]\n",
              "[1]  5  7  3  1  0 -1\n",
              "\n",
              "[[2]]\n",
              "  c.1..2..5. c..A....B....C..\n",
              "1          1                A\n",
              "2          2                B\n",
              "3          5                C\n",
              "\n",
              "[[3]]\n",
              "     [,1] [,2] [,3]\n",
              "[1,]   12   15    3\n",
              "[2,]   17   46   45\n",
              "[3,]   23   17   29\n"
            ]
          },
          "metadata": {}
        }
      ]
    },
    {
      "cell_type": "code",
      "source": [
        "#elde edilen liste elemanlari matris olduguna gore herhangi bir elemana ulasmak icin\n",
        "#indeks kullanilir\n",
        "lis[[3]][2,3] # 3ün 2. satırın 3 sütunu"
      ],
      "metadata": {
        "colab": {
          "base_uri": "https://localhost:8080/",
          "height": 34
        },
        "id": "frp3Ivaw4RTq",
        "outputId": "aef0a2cf-2923-4407-82a2-e99c02e79f54"
      },
      "execution_count": 8,
      "outputs": [
        {
          "output_type": "display_data",
          "data": {
            "text/html": [
              "45"
            ],
            "text/markdown": "45",
            "text/latex": "45",
            "text/plain": [
              "[1] 45"
            ]
          },
          "metadata": {}
        }
      ]
    },
    {
      "cell_type": "code",
      "source": [
        "#liste dilimleme\n",
        "#uye indeks numaralari yerine liste uyelerinin isimleri kullanilarak dilimlenmesi\n",
        "#boylece liste disinda bir kopyasinin olusturulmasi soz konusu olabilir\n",
        "\n",
        "vek <- c(5,7,3,1,0,-1)\n",
        "df <- data.frame(c(1,2,5),c(\"A\",\"B\",\"C\"))\n",
        "mat <- matrix(c(12,17,23,15,46,17,3,45,29),3)\n",
        "lis <- list(v=vek,d=df,m=mat)\n",
        "l <- lis[\"m\"]\n",
        "l"
      ],
      "metadata": {
        "colab": {
          "base_uri": "https://localhost:8080/",
          "height": 163
        },
        "id": "PWfyEUj_4f0Z",
        "outputId": "1773467c-ffbc-4490-e21e-2d855b0090e5"
      },
      "execution_count": 9,
      "outputs": [
        {
          "output_type": "display_data",
          "data": {
            "text/html": [
              "<strong>$m</strong> = <table class=\"dataframe\">\n",
              "<caption>A matrix: 3 × 3 of type dbl</caption>\n",
              "<tbody>\n",
              "\t<tr><td>12</td><td>15</td><td> 3</td></tr>\n",
              "\t<tr><td>17</td><td>46</td><td>45</td></tr>\n",
              "\t<tr><td>23</td><td>17</td><td>29</td></tr>\n",
              "</tbody>\n",
              "</table>\n"
            ],
            "text/markdown": "**$m** = \nA matrix: 3 × 3 of type dbl\n\n| 12 | 15 |  3 |\n| 17 | 46 | 45 |\n| 23 | 17 | 29 |\n\n",
            "text/latex": "\\textbf{\\$m} = A matrix: 3 × 3 of type dbl\n\\begin{tabular}{lll}\n\t 12 & 15 &  3\\\\\n\t 17 & 46 & 45\\\\\n\t 23 & 17 & 29\\\\\n\\end{tabular}\n",
            "text/plain": [
              "$m\n",
              "     [,1] [,2] [,3]\n",
              "[1,]   12   15    3\n",
              "[2,]   17   46   45\n",
              "[3,]   23   17   29\n"
            ]
          },
          "metadata": {}
        }
      ]
    },
    {
      "cell_type": "code",
      "source": [
        "#istenirse birden fazla uye dilimlenebilir\n",
        "l <- lis[c(\"d\",\"m\")]\n",
        "l"
      ],
      "metadata": {
        "colab": {
          "base_uri": "https://localhost:8080/",
          "height": 383
        },
        "id": "9s6tN-Gv40KI",
        "outputId": "6747e8c3-0bdf-4fc6-84a5-f1b081179994"
      },
      "execution_count": 10,
      "outputs": [
        {
          "output_type": "display_data",
          "data": {
            "text/html": [
              "<dl>\n",
              "\t<dt>$d</dt>\n",
              "\t\t<dd><table class=\"dataframe\">\n",
              "<caption>A data.frame: 3 × 2</caption>\n",
              "<thead>\n",
              "\t<tr><th scope=col>c.1..2..5.</th><th scope=col>c..A....B....C..</th></tr>\n",
              "\t<tr><th scope=col>&lt;dbl&gt;</th><th scope=col>&lt;chr&gt;</th></tr>\n",
              "</thead>\n",
              "<tbody>\n",
              "\t<tr><td>1</td><td>A</td></tr>\n",
              "\t<tr><td>2</td><td>B</td></tr>\n",
              "\t<tr><td>5</td><td>C</td></tr>\n",
              "</tbody>\n",
              "</table>\n",
              "</dd>\n",
              "\t<dt>$m</dt>\n",
              "\t\t<dd><table class=\"dataframe\">\n",
              "<caption>A matrix: 3 × 3 of type dbl</caption>\n",
              "<tbody>\n",
              "\t<tr><td>12</td><td>15</td><td> 3</td></tr>\n",
              "\t<tr><td>17</td><td>46</td><td>45</td></tr>\n",
              "\t<tr><td>23</td><td>17</td><td>29</td></tr>\n",
              "</tbody>\n",
              "</table>\n",
              "</dd>\n",
              "</dl>\n"
            ],
            "text/markdown": "$d\n:   \nA data.frame: 3 × 2\n\n| c.1..2..5. &lt;dbl&gt; | c..A....B....C.. &lt;chr&gt; |\n|---|---|\n| 1 | A |\n| 2 | B |\n| 5 | C |\n\n\n$m\n:   \nA matrix: 3 × 3 of type dbl\n\n| 12 | 15 |  3 |\n| 17 | 46 | 45 |\n| 23 | 17 | 29 |\n\n\n\n\n",
            "text/latex": "\\begin{description}\n\\item[\\$d] A data.frame: 3 × 2\n\\begin{tabular}{ll}\n c.1..2..5. & c..A....B....C..\\\\\n <dbl> & <chr>\\\\\n\\hline\n\t 1 & A\\\\\n\t 2 & B\\\\\n\t 5 & C\\\\\n\\end{tabular}\n\n\\item[\\$m] A matrix: 3 × 3 of type dbl\n\\begin{tabular}{lll}\n\t 12 & 15 &  3\\\\\n\t 17 & 46 & 45\\\\\n\t 23 & 17 & 29\\\\\n\\end{tabular}\n\n\\end{description}\n",
            "text/plain": [
              "$d\n",
              "  c.1..2..5. c..A....B....C..\n",
              "1          1                A\n",
              "2          2                B\n",
              "3          5                C\n",
              "\n",
              "$m\n",
              "     [,1] [,2] [,3]\n",
              "[1,]   12   15    3\n",
              "[2,]   17   46   45\n",
              "[3,]   23   17   29\n"
            ]
          },
          "metadata": {}
        }
      ]
    },
    {
      "cell_type": "code",
      "source": [
        "#uyelere erisim\n",
        "#isimlendirilmis uyelere sahip bir listede bir uyeye ulasmak icin uye ismini kullanmak gerekebilir\n",
        "#lis isimli listenin \"m\" isimli uyelerine erisim saglayalim\n",
        "vek <- c(5,7,3,1,0,-1)\n",
        "df <- data.frame(c(1,2,5),c(\"A\",\"B\",\"C\"))\n",
        "mat <- matrix(c(12,17,23,15,46,17,3,45,29),3)\n",
        "lis <- list(v=vek,d=df,m=mat)\n",
        "l <- lis[\"m\"]\n"
      ],
      "metadata": {
        "colab": {
          "base_uri": "https://localhost:8080/",
          "height": 163
        },
        "id": "Mt1a3ZYq47U8",
        "outputId": "588b3d14-11df-43a7-9cd1-772075969ac6"
      },
      "execution_count": 13,
      "outputs": [
        {
          "output_type": "display_data",
          "data": {
            "text/html": [
              "<strong>$m</strong> = <table class=\"dataframe\">\n",
              "<caption>A matrix: 3 × 3 of type dbl</caption>\n",
              "<tbody>\n",
              "\t<tr><td>12</td><td>15</td><td> 3</td></tr>\n",
              "\t<tr><td>17</td><td>46</td><td>45</td></tr>\n",
              "\t<tr><td>23</td><td>17</td><td>29</td></tr>\n",
              "</tbody>\n",
              "</table>\n"
            ],
            "text/markdown": "**$m** = \nA matrix: 3 × 3 of type dbl\n\n| 12 | 15 |  3 |\n| 17 | 46 | 45 |\n| 23 | 17 | 29 |\n\n",
            "text/latex": "\\textbf{\\$m} = A matrix: 3 × 3 of type dbl\n\\begin{tabular}{lll}\n\t 12 & 15 &  3\\\\\n\t 17 & 46 & 45\\\\\n\t 23 & 17 & 29\\\\\n\\end{tabular}\n",
            "text/plain": [
              "$m\n",
              "     [,1] [,2] [,3]\n",
              "[1,]   12   15    3\n",
              "[2,]   17   46   45\n",
              "[3,]   23   17   29\n"
            ]
          },
          "metadata": {}
        }
      ]
    },
    {
      "cell_type": "code",
      "source": [
        "#ayni amaca ulasmak icin uye isnmini $ operatoru ile birlikte kullanabiliriz\n",
        "lis$m\n",
        "\n",
        "#uye isimlerini kullanarak bu uyenin bir elemanina ulasilabilir\n",
        "#ornegin \"m\" isimli matrisin [2,2]] elemanini eldeetmek icin lis$m tanimina\n",
        "#soz konusu matrisin elemani eklenir\n",
        "lis$m[2,2]"
      ],
      "metadata": {
        "colab": {
          "base_uri": "https://localhost:8080/",
          "height": 163
        },
        "id": "UaAygkBQ5GY-",
        "outputId": "9b4e20f5-99ae-4a44-efde-0e31a9f43624"
      },
      "execution_count": 19,
      "outputs": [
        {
          "output_type": "display_data",
          "data": {
            "text/html": [
              "<table class=\"dataframe\">\n",
              "<caption>A matrix: 3 × 3 of type dbl</caption>\n",
              "<tbody>\n",
              "\t<tr><td>12</td><td>15</td><td> 3</td></tr>\n",
              "\t<tr><td>17</td><td>46</td><td>45</td></tr>\n",
              "\t<tr><td>23</td><td>17</td><td>29</td></tr>\n",
              "</tbody>\n",
              "</table>\n"
            ],
            "text/markdown": "\nA matrix: 3 × 3 of type dbl\n\n| 12 | 15 |  3 |\n| 17 | 46 | 45 |\n| 23 | 17 | 29 |\n\n",
            "text/latex": "A matrix: 3 × 3 of type dbl\n\\begin{tabular}{lll}\n\t 12 & 15 &  3\\\\\n\t 17 & 46 & 45\\\\\n\t 23 & 17 & 29\\\\\n\\end{tabular}\n",
            "text/plain": [
              "     [,1] [,2] [,3]\n",
              "[1,] 12   15    3  \n",
              "[2,] 17   46   45  \n",
              "[3,] 23   17   29  "
            ]
          },
          "metadata": {}
        },
        {
          "output_type": "display_data",
          "data": {
            "text/html": [
              "46"
            ],
            "text/markdown": "46",
            "text/latex": "46",
            "text/plain": [
              "[1] 46"
            ]
          },
          "metadata": {}
        }
      ]
    },
    {
      "cell_type": "code",
      "source": [
        "#liste isimlerinin dogrudan kullanimi\n",
        "#uyelere liste adi belirlemeden ulasmak icin attach() fonksiyonu\n",
        "attach(lis)\n",
        "m\n",
        "v"
      ],
      "metadata": {
        "colab": {
          "base_uri": "https://localhost:8080/",
          "height": 528
        },
        "id": "OiK2NeLH5Ru7",
        "outputId": "7fdc1be9-327b-4dd7-e9ca-65672fa81ab9"
      },
      "execution_count": 20,
      "outputs": [
        {
          "output_type": "stream",
          "name": "stderr",
          "text": [
            "The following objects are masked from lis (pos = 3):\n",
            "\n",
            "    d, m, v\n",
            "\n",
            "\n",
            "The following objects are masked from lis (pos = 4):\n",
            "\n",
            "    d, m, v\n",
            "\n",
            "\n",
            "The following objects are masked from lis (pos = 5):\n",
            "\n",
            "    d, m, v\n",
            "\n",
            "\n",
            "The following objects are masked from lis (pos = 6):\n",
            "\n",
            "    d, m, v\n",
            "\n",
            "\n"
          ]
        },
        {
          "output_type": "display_data",
          "data": {
            "text/html": [
              "<table class=\"dataframe\">\n",
              "<caption>A matrix: 3 × 3 of type dbl</caption>\n",
              "<tbody>\n",
              "\t<tr><td>12</td><td>15</td><td> 3</td></tr>\n",
              "\t<tr><td>17</td><td>46</td><td>45</td></tr>\n",
              "\t<tr><td>23</td><td>17</td><td>29</td></tr>\n",
              "</tbody>\n",
              "</table>\n"
            ],
            "text/markdown": "\nA matrix: 3 × 3 of type dbl\n\n| 12 | 15 |  3 |\n| 17 | 46 | 45 |\n| 23 | 17 | 29 |\n\n",
            "text/latex": "A matrix: 3 × 3 of type dbl\n\\begin{tabular}{lll}\n\t 12 & 15 &  3\\\\\n\t 17 & 46 & 45\\\\\n\t 23 & 17 & 29\\\\\n\\end{tabular}\n",
            "text/plain": [
              "     [,1] [,2] [,3]\n",
              "[1,] 12   15    3  \n",
              "[2,] 17   46   45  \n",
              "[3,] 23   17   29  "
            ]
          },
          "metadata": {}
        },
        {
          "output_type": "display_data",
          "data": {
            "text/html": [
              "<style>\n",
              ".list-inline {list-style: none; margin:0; padding: 0}\n",
              ".list-inline>li {display: inline-block}\n",
              ".list-inline>li:not(:last-child)::after {content: \"\\00b7\"; padding: 0 .5ex}\n",
              "</style>\n",
              "<ol class=list-inline><li>5</li><li>7</li><li>3</li><li>1</li><li>0</li><li>-1</li></ol>\n"
            ],
            "text/markdown": "1. 5\n2. 7\n3. 3\n4. 1\n5. 0\n6. -1\n\n\n",
            "text/latex": "\\begin{enumerate*}\n\\item 5\n\\item 7\n\\item 3\n\\item 1\n\\item 0\n\\item -1\n\\end{enumerate*}\n",
            "text/plain": [
              "[1]  5  7  3  1  0 -1"
            ]
          },
          "metadata": {}
        }
      ]
    },
    {
      "cell_type": "code",
      "source": [
        "#liste uzerinde islemler\n",
        "#listeye uye ekleme\n",
        "#once liste olusturalim\n",
        "vek <- c(5,7,3,1,0,-1)\n",
        "lis <- list(v=vek)\n",
        "lis"
      ],
      "metadata": {
        "colab": {
          "base_uri": "https://localhost:8080/",
          "height": 52
        },
        "id": "p--P8aLg5kJI",
        "outputId": "336e197b-0837-4443-896a-61dd81764090"
      },
      "execution_count": 21,
      "outputs": [
        {
          "output_type": "display_data",
          "data": {
            "text/html": [
              "<strong>$v</strong> = <style>\n",
              ".list-inline {list-style: none; margin:0; padding: 0}\n",
              ".list-inline>li {display: inline-block}\n",
              ".list-inline>li:not(:last-child)::after {content: \"\\00b7\"; padding: 0 .5ex}\n",
              "</style>\n",
              "<ol class=list-inline><li>5</li><li>7</li><li>3</li><li>1</li><li>0</li><li>-1</li></ol>\n"
            ],
            "text/markdown": "**$v** = 1. 5\n2. 7\n3. 3\n4. 1\n5. 0\n6. -1\n\n\n",
            "text/latex": "\\textbf{\\$v} = \\begin{enumerate*}\n\\item 5\n\\item 7\n\\item 3\n\\item 1\n\\item 0\n\\item -1\n\\end{enumerate*}\n",
            "text/plain": [
              "$v\n",
              "[1]  5  7  3  1  0 -1\n"
            ]
          },
          "metadata": {}
        }
      ]
    },
    {
      "cell_type": "code",
      "source": [
        "#olusturulan bu listeye v1 isimli yeni bir vektor uyesi daha eklenmek istemektedir\n",
        "#bu eklenen listenin 2. uyesi olacaktir\n",
        "lis[[2]] <- c(-2,4,6)\n",
        "lis"
      ],
      "metadata": {
        "colab": {
          "base_uri": "https://localhost:8080/",
          "height": 114
        },
        "id": "1RtG5tY15sVy",
        "outputId": "b7cb638a-5088-49be-97d5-83accb4b4331"
      },
      "execution_count": 22,
      "outputs": [
        {
          "output_type": "display_data",
          "data": {
            "text/html": [
              "<dl>\n",
              "\t<dt>$v</dt>\n",
              "\t\t<dd><style>\n",
              ".list-inline {list-style: none; margin:0; padding: 0}\n",
              ".list-inline>li {display: inline-block}\n",
              ".list-inline>li:not(:last-child)::after {content: \"\\00b7\"; padding: 0 .5ex}\n",
              "</style>\n",
              "<ol class=list-inline><li>5</li><li>7</li><li>3</li><li>1</li><li>0</li><li>-1</li></ol>\n",
              "</dd>\n",
              "\t<dt>[[2]]</dt>\n",
              "\t\t<dd><style>\n",
              ".list-inline {list-style: none; margin:0; padding: 0}\n",
              ".list-inline>li {display: inline-block}\n",
              ".list-inline>li:not(:last-child)::after {content: \"\\00b7\"; padding: 0 .5ex}\n",
              "</style>\n",
              "<ol class=list-inline><li>-2</li><li>4</li><li>6</li></ol>\n",
              "</dd>\n",
              "</dl>\n"
            ],
            "text/markdown": "$v\n:   1. 5\n2. 7\n3. 3\n4. 1\n5. 0\n6. -1\n\n\n\n[[2]]\n:   1. -2\n2. 4\n3. 6\n\n\n\n\n\n",
            "text/latex": "\\begin{description}\n\\item[\\$v] \\begin{enumerate*}\n\\item 5\n\\item 7\n\\item 3\n\\item 1\n\\item 0\n\\item -1\n\\end{enumerate*}\n\n\\item[{[[2]]}] \\begin{enumerate*}\n\\item -2\n\\item 4\n\\item 6\n\\end{enumerate*}\n\n\\end{description}\n",
            "text/plain": [
              "$v\n",
              "[1]  5  7  3  1  0 -1\n",
              "\n",
              "[[2]]\n",
              "[1] -2  4  6\n"
            ]
          },
          "metadata": {}
        }
      ]
    },
    {
      "cell_type": "code",
      "source": [
        "#bu listenin herhangi bir uyesine ulasmak icin uye isimlerini kullanabilecegimize gore\n",
        "#$ operatoru kullanilarak bir uyesinin degerini degistirmek mumkundur\n",
        "#ornegin yukarida en son yapilan islemlerin yerine bu kez lis$v1 erisim bilgisi kullalim\n",
        "vek <- c(5,7,3,1,0,-1)\n",
        "lis <- list(v=vek)\n",
        "lis\n",
        "lis$v1 <- c(-2,4,6)\n",
        "lis"
      ],
      "metadata": {
        "colab": {
          "base_uri": "https://localhost:8080/",
          "height": 149
        },
        "id": "2FBvgLxc54pi",
        "outputId": "f15d0aa1-0480-4d02-cbab-6516f2104981"
      },
      "execution_count": 25,
      "outputs": [
        {
          "output_type": "display_data",
          "data": {
            "text/html": [
              "<strong>$v</strong> = <style>\n",
              ".list-inline {list-style: none; margin:0; padding: 0}\n",
              ".list-inline>li {display: inline-block}\n",
              ".list-inline>li:not(:last-child)::after {content: \"\\00b7\"; padding: 0 .5ex}\n",
              "</style>\n",
              "<ol class=list-inline><li>5</li><li>7</li><li>3</li><li>1</li><li>0</li><li>-1</li></ol>\n"
            ],
            "text/markdown": "**$v** = 1. 5\n2. 7\n3. 3\n4. 1\n5. 0\n6. -1\n\n\n",
            "text/latex": "\\textbf{\\$v} = \\begin{enumerate*}\n\\item 5\n\\item 7\n\\item 3\n\\item 1\n\\item 0\n\\item -1\n\\end{enumerate*}\n",
            "text/plain": [
              "$v\n",
              "[1]  5  7  3  1  0 -1\n"
            ]
          },
          "metadata": {}
        },
        {
          "output_type": "display_data",
          "data": {
            "text/html": [
              "<dl>\n",
              "\t<dt>$v</dt>\n",
              "\t\t<dd><style>\n",
              ".list-inline {list-style: none; margin:0; padding: 0}\n",
              ".list-inline>li {display: inline-block}\n",
              ".list-inline>li:not(:last-child)::after {content: \"\\00b7\"; padding: 0 .5ex}\n",
              "</style>\n",
              "<ol class=list-inline><li>5</li><li>7</li><li>3</li><li>1</li><li>0</li><li>-1</li></ol>\n",
              "</dd>\n",
              "\t<dt>$v1</dt>\n",
              "\t\t<dd><style>\n",
              ".list-inline {list-style: none; margin:0; padding: 0}\n",
              ".list-inline>li {display: inline-block}\n",
              ".list-inline>li:not(:last-child)::after {content: \"\\00b7\"; padding: 0 .5ex}\n",
              "</style>\n",
              "<ol class=list-inline><li>-2</li><li>4</li><li>6</li></ol>\n",
              "</dd>\n",
              "</dl>\n"
            ],
            "text/markdown": "$v\n:   1. 5\n2. 7\n3. 3\n4. 1\n5. 0\n6. -1\n\n\n\n$v1\n:   1. -2\n2. 4\n3. 6\n\n\n\n\n\n",
            "text/latex": "\\begin{description}\n\\item[\\$v] \\begin{enumerate*}\n\\item 5\n\\item 7\n\\item 3\n\\item 1\n\\item 0\n\\item -1\n\\end{enumerate*}\n\n\\item[\\$v1] \\begin{enumerate*}\n\\item -2\n\\item 4\n\\item 6\n\\end{enumerate*}\n\n\\end{description}\n",
            "text/plain": [
              "$v\n",
              "[1]  5  7  3  1  0 -1\n",
              "\n",
              "$v1\n",
              "[1] -2  4  6\n"
            ]
          },
          "metadata": {}
        }
      ]
    },
    {
      "cell_type": "code",
      "source": [
        "#listedeki bir uyeyi silme\n",
        "#bir liste olusturulduktan sonra istenen uyeyi silmek mumkundur\n",
        "\n",
        "lis[[2]] <- NULL\n",
        "lis"
      ],
      "metadata": {
        "colab": {
          "base_uri": "https://localhost:8080/",
          "height": 52
        },
        "id": "Q5m1pVNx567d",
        "outputId": "79af66a7-83e4-4772-f29f-11e007da48a2"
      },
      "execution_count": 26,
      "outputs": [
        {
          "output_type": "display_data",
          "data": {
            "text/html": [
              "<strong>$v</strong> = <style>\n",
              ".list-inline {list-style: none; margin:0; padding: 0}\n",
              ".list-inline>li {display: inline-block}\n",
              ".list-inline>li:not(:last-child)::after {content: \"\\00b7\"; padding: 0 .5ex}\n",
              "</style>\n",
              "<ol class=list-inline><li>5</li><li>7</li><li>3</li><li>1</li><li>0</li><li>-1</li></ol>\n"
            ],
            "text/markdown": "**$v** = 1. 5\n2. 7\n3. 3\n4. 1\n5. 0\n6. -1\n\n\n",
            "text/latex": "\\textbf{\\$v} = \\begin{enumerate*}\n\\item 5\n\\item 7\n\\item 3\n\\item 1\n\\item 0\n\\item -1\n\\end{enumerate*}\n",
            "text/plain": [
              "$v\n",
              "[1]  5  7  3  1  0 -1\n"
            ]
          },
          "metadata": {}
        }
      ]
    },
    {
      "cell_type": "code",
      "source": [
        "#liste uyesinin ismini kullanarak da silmek mumkundur\n",
        "lis$v1 <- NULL\n",
        "lis"
      ],
      "metadata": {
        "colab": {
          "base_uri": "https://localhost:8080/",
          "height": 52
        },
        "id": "0UxkfKbf6Gxg",
        "outputId": "3b670e2c-a5fa-43be-d436-ff76aa5245bf"
      },
      "execution_count": 27,
      "outputs": [
        {
          "output_type": "display_data",
          "data": {
            "text/html": [
              "<strong>$v</strong> = <style>\n",
              ".list-inline {list-style: none; margin:0; padding: 0}\n",
              ".list-inline>li {display: inline-block}\n",
              ".list-inline>li:not(:last-child)::after {content: \"\\00b7\"; padding: 0 .5ex}\n",
              "</style>\n",
              "<ol class=list-inline><li>5</li><li>7</li><li>3</li><li>1</li><li>0</li><li>-1</li></ol>\n"
            ],
            "text/markdown": "**$v** = 1. 5\n2. 7\n3. 3\n4. 1\n5. 0\n6. -1\n\n\n",
            "text/latex": "\\textbf{\\$v} = \\begin{enumerate*}\n\\item 5\n\\item 7\n\\item 3\n\\item 1\n\\item 0\n\\item -1\n\\end{enumerate*}\n",
            "text/plain": [
              "$v\n",
              "[1]  5  7  3  1  0 -1\n"
            ]
          },
          "metadata": {}
        }
      ]
    },
    {
      "cell_type": "code",
      "source": [
        "#listenin bir uyesini guncelleme\n",
        "#listenin herhangi bir uyesini guncellemek mumkundur\n",
        "\n",
        "vek <- c(5,7,3,1,0,-1)\n",
        "df <- data.frame(sira=c(1,2,5),kod=c(\"A\",\"B\",\"C\"))\n",
        "mat <- matrix(c(12,17,23,15,46,17,3,45,29),3)\n",
        "lis <- list(v=vek,d=df,m=mat)\n",
        "lis"
      ],
      "metadata": {
        "colab": {
          "base_uri": "https://localhost:8080/",
          "height": 435
        },
        "id": "ga3Xg8NW6I__",
        "outputId": "06f52798-a32e-45b6-8a67-0978811f38e2"
      },
      "execution_count": 28,
      "outputs": [
        {
          "output_type": "display_data",
          "data": {
            "text/html": [
              "<dl>\n",
              "\t<dt>$v</dt>\n",
              "\t\t<dd><style>\n",
              ".list-inline {list-style: none; margin:0; padding: 0}\n",
              ".list-inline>li {display: inline-block}\n",
              ".list-inline>li:not(:last-child)::after {content: \"\\00b7\"; padding: 0 .5ex}\n",
              "</style>\n",
              "<ol class=list-inline><li>5</li><li>7</li><li>3</li><li>1</li><li>0</li><li>-1</li></ol>\n",
              "</dd>\n",
              "\t<dt>$d</dt>\n",
              "\t\t<dd><table class=\"dataframe\">\n",
              "<caption>A data.frame: 3 × 2</caption>\n",
              "<thead>\n",
              "\t<tr><th scope=col>sira</th><th scope=col>kod</th></tr>\n",
              "\t<tr><th scope=col>&lt;dbl&gt;</th><th scope=col>&lt;chr&gt;</th></tr>\n",
              "</thead>\n",
              "<tbody>\n",
              "\t<tr><td>1</td><td>A</td></tr>\n",
              "\t<tr><td>2</td><td>B</td></tr>\n",
              "\t<tr><td>5</td><td>C</td></tr>\n",
              "</tbody>\n",
              "</table>\n",
              "</dd>\n",
              "\t<dt>$m</dt>\n",
              "\t\t<dd><table class=\"dataframe\">\n",
              "<caption>A matrix: 3 × 3 of type dbl</caption>\n",
              "<tbody>\n",
              "\t<tr><td>12</td><td>15</td><td> 3</td></tr>\n",
              "\t<tr><td>17</td><td>46</td><td>45</td></tr>\n",
              "\t<tr><td>23</td><td>17</td><td>29</td></tr>\n",
              "</tbody>\n",
              "</table>\n",
              "</dd>\n",
              "</dl>\n"
            ],
            "text/markdown": "$v\n:   1. 5\n2. 7\n3. 3\n4. 1\n5. 0\n6. -1\n\n\n\n$d\n:   \nA data.frame: 3 × 2\n\n| sira &lt;dbl&gt; | kod &lt;chr&gt; |\n|---|---|\n| 1 | A |\n| 2 | B |\n| 5 | C |\n\n\n$m\n:   \nA matrix: 3 × 3 of type dbl\n\n| 12 | 15 |  3 |\n| 17 | 46 | 45 |\n| 23 | 17 | 29 |\n\n\n\n\n",
            "text/latex": "\\begin{description}\n\\item[\\$v] \\begin{enumerate*}\n\\item 5\n\\item 7\n\\item 3\n\\item 1\n\\item 0\n\\item -1\n\\end{enumerate*}\n\n\\item[\\$d] A data.frame: 3 × 2\n\\begin{tabular}{ll}\n sira & kod\\\\\n <dbl> & <chr>\\\\\n\\hline\n\t 1 & A\\\\\n\t 2 & B\\\\\n\t 5 & C\\\\\n\\end{tabular}\n\n\\item[\\$m] A matrix: 3 × 3 of type dbl\n\\begin{tabular}{lll}\n\t 12 & 15 &  3\\\\\n\t 17 & 46 & 45\\\\\n\t 23 & 17 & 29\\\\\n\\end{tabular}\n\n\\end{description}\n",
            "text/plain": [
              "$v\n",
              "[1]  5  7  3  1  0 -1\n",
              "\n",
              "$d\n",
              "  sira kod\n",
              "1    1   A\n",
              "2    2   B\n",
              "3    5   C\n",
              "\n",
              "$m\n",
              "     [,1] [,2] [,3]\n",
              "[1,]   12   15    3\n",
              "[2,]   17   46   45\n",
              "[3,]   23   17   29\n"
            ]
          },
          "metadata": {}
        }
      ]
    },
    {
      "cell_type": "code",
      "source": [
        "#bir listenin \"v\" isimli vektorunun 3. elemanini \"15 olarak,\n",
        "#\"d\" isimli veri cercevesinin ise [3,1] elamanini \"3 olarak\n",
        "#\"m\" isimli matris uyesinin [1,1] elemanini 10 olarak degistirmek icin\n",
        "lis$v[3] <- 15\n",
        "lis$d[3,1] <- 3\n",
        "lis$m[1,1] <-10\n",
        "lis\n"
      ],
      "metadata": {
        "colab": {
          "base_uri": "https://localhost:8080/",
          "height": 435
        },
        "id": "yNmeCJCi6LZt",
        "outputId": "4158b2e6-fb01-4465-d476-6295187b63e7"
      },
      "execution_count": 29,
      "outputs": [
        {
          "output_type": "display_data",
          "data": {
            "text/html": [
              "<dl>\n",
              "\t<dt>$v</dt>\n",
              "\t\t<dd><style>\n",
              ".list-inline {list-style: none; margin:0; padding: 0}\n",
              ".list-inline>li {display: inline-block}\n",
              ".list-inline>li:not(:last-child)::after {content: \"\\00b7\"; padding: 0 .5ex}\n",
              "</style>\n",
              "<ol class=list-inline><li>5</li><li>7</li><li>15</li><li>1</li><li>0</li><li>-1</li></ol>\n",
              "</dd>\n",
              "\t<dt>$d</dt>\n",
              "\t\t<dd><table class=\"dataframe\">\n",
              "<caption>A data.frame: 3 × 2</caption>\n",
              "<thead>\n",
              "\t<tr><th scope=col>sira</th><th scope=col>kod</th></tr>\n",
              "\t<tr><th scope=col>&lt;dbl&gt;</th><th scope=col>&lt;chr&gt;</th></tr>\n",
              "</thead>\n",
              "<tbody>\n",
              "\t<tr><td>1</td><td>A</td></tr>\n",
              "\t<tr><td>2</td><td>B</td></tr>\n",
              "\t<tr><td>3</td><td>C</td></tr>\n",
              "</tbody>\n",
              "</table>\n",
              "</dd>\n",
              "\t<dt>$m</dt>\n",
              "\t\t<dd><table class=\"dataframe\">\n",
              "<caption>A matrix: 3 × 3 of type dbl</caption>\n",
              "<tbody>\n",
              "\t<tr><td>10</td><td>15</td><td> 3</td></tr>\n",
              "\t<tr><td>17</td><td>46</td><td>45</td></tr>\n",
              "\t<tr><td>23</td><td>17</td><td>29</td></tr>\n",
              "</tbody>\n",
              "</table>\n",
              "</dd>\n",
              "</dl>\n"
            ],
            "text/markdown": "$v\n:   1. 5\n2. 7\n3. 15\n4. 1\n5. 0\n6. -1\n\n\n\n$d\n:   \nA data.frame: 3 × 2\n\n| sira &lt;dbl&gt; | kod &lt;chr&gt; |\n|---|---|\n| 1 | A |\n| 2 | B |\n| 3 | C |\n\n\n$m\n:   \nA matrix: 3 × 3 of type dbl\n\n| 10 | 15 |  3 |\n| 17 | 46 | 45 |\n| 23 | 17 | 29 |\n\n\n\n\n",
            "text/latex": "\\begin{description}\n\\item[\\$v] \\begin{enumerate*}\n\\item 5\n\\item 7\n\\item 15\n\\item 1\n\\item 0\n\\item -1\n\\end{enumerate*}\n\n\\item[\\$d] A data.frame: 3 × 2\n\\begin{tabular}{ll}\n sira & kod\\\\\n <dbl> & <chr>\\\\\n\\hline\n\t 1 & A\\\\\n\t 2 & B\\\\\n\t 3 & C\\\\\n\\end{tabular}\n\n\\item[\\$m] A matrix: 3 × 3 of type dbl\n\\begin{tabular}{lll}\n\t 10 & 15 &  3\\\\\n\t 17 & 46 & 45\\\\\n\t 23 & 17 & 29\\\\\n\\end{tabular}\n\n\\end{description}\n",
            "text/plain": [
              "$v\n",
              "[1]  5  7 15  1  0 -1\n",
              "\n",
              "$d\n",
              "  sira kod\n",
              "1    1   A\n",
              "2    2   B\n",
              "3    3   C\n",
              "\n",
              "$m\n",
              "     [,1] [,2] [,3]\n",
              "[1,]   10   15    3\n",
              "[2,]   17   46   45\n",
              "[3,]   23   17   29\n"
            ]
          },
          "metadata": {}
        }
      ]
    },
    {
      "cell_type": "code",
      "source": [
        "#ayni amaca su sekilde de ulasilir\n",
        "lis[[1]][3] <-15\n",
        "lis[[2]] [3,1] <-3\n",
        "lis[[3]][1,1] <-10"
      ],
      "metadata": {
        "id": "aNINE8st6NvE"
      },
      "execution_count": 31,
      "outputs": []
    }
  ]
}