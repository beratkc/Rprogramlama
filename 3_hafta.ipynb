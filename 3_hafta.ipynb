{
  "nbformat": 4,
  "nbformat_minor": 0,
  "metadata": {
    "colab": {
      "provenance": [],
      "authorship_tag": "ABX9TyNWiHP5EgIyusmwyfR5HE3k",
      "include_colab_link": true
    },
    "kernelspec": {
      "name": "ir",
      "display_name": "R"
    },
    "language_info": {
      "name": "R"
    }
  },
  "cells": [
    {
      "cell_type": "markdown",
      "metadata": {
        "id": "view-in-github",
        "colab_type": "text"
      },
      "source": [
        "<a href=\"https://colab.research.google.com/github/beratkc/Rprogramlama/blob/main/3_hafta.ipynb\" target=\"_parent\"><img src=\"https://colab.research.google.com/assets/colab-badge.svg\" alt=\"Open In Colab\"/></a>"
      ]
    },
    {
      "cell_type": "code",
      "execution_count": null,
      "metadata": {
        "id": "HmKWkkKL3nMH"
      },
      "outputs": [],
      "source": [
        "# 22/10/2024"
      ]
    },
    {
      "cell_type": "code",
      "source": [
        "# faktör oluşturma fac() fonksiyonu\n",
        "x <- factor(c(\"a\",\"a\",\"b\",\"c\",\"a\"))\n",
        "print(x)\n"
      ],
      "metadata": {
        "colab": {
          "base_uri": "https://localhost:8080/"
        },
        "id": "ta8p8O5137d-",
        "outputId": "6f140dcb-610f-451c-dd6e-eeb9b2969e15"
      },
      "execution_count": 1,
      "outputs": [
        {
          "output_type": "stream",
          "name": "stdout",
          "text": [
            "[1] a a b c a\n",
            "Levels: a b c\n"
          ]
        }
      ]
    },
    {
      "cell_type": "code",
      "source": [
        "# düzey öğrenme\n",
        "levels(x)"
      ],
      "metadata": {
        "colab": {
          "base_uri": "https://localhost:8080/",
          "height": 34
        },
        "id": "mBcQYFupAH5y",
        "outputId": "e5bec19d-3f21-4c58-fdc9-46249ebd9033"
      },
      "execution_count": 2,
      "outputs": [
        {
          "output_type": "display_data",
          "data": {
            "text/html": [
              "<style>\n",
              ".list-inline {list-style: none; margin:0; padding: 0}\n",
              ".list-inline>li {display: inline-block}\n",
              ".list-inline>li:not(:last-child)::after {content: \"\\00b7\"; padding: 0 .5ex}\n",
              "</style>\n",
              "<ol class=list-inline><li>'a'</li><li>'b'</li><li>'c'</li></ol>\n"
            ],
            "text/markdown": "1. 'a'\n2. 'b'\n3. 'c'\n\n\n",
            "text/latex": "\\begin{enumerate*}\n\\item 'a'\n\\item 'b'\n\\item 'c'\n\\end{enumerate*}\n",
            "text/plain": [
              "[1] \"a\" \"b\" \"c\""
            ]
          },
          "metadata": {}
        }
      ]
    },
    {
      "cell_type": "code",
      "source": [
        "# sayısal değerler\n",
        "numfac<-faktor(c(3,2,2,4,1,5,5,2))\n",
        "\n",
        "# sayısal değerler doğrudan aritmatik işlmelerde  kullanılamaz\n",
        "# as.numeric ile dönüştürülür.\n",
        "\n"
      ],
      "metadata": {
        "colab": {
          "base_uri": "https://localhost:8080/",
          "height": 74
        },
        "id": "zlqQuzyoAY7-",
        "outputId": "fc865d9e-1630-47a5-a562-193ee8972424"
      },
      "execution_count": 5,
      "outputs": [
        {
          "output_type": "error",
          "ename": "ERROR",
          "evalue": "Error in faktor(c(3, 2, 2, 4, 1, 5, 5, 2)): could not find function \"faktor\"\n",
          "traceback": [
            "Error in faktor(c(3, 2, 2, 4, 1, 5, 5, 2)): could not find function \"faktor\"\nTraceback:\n"
          ]
        }
      ]
    },
    {
      "cell_type": "code",
      "source": [
        "# faktöre dönüştürme vektörü\n",
        "vec <- c(\"c\",\"c\",\"d\",\"c\",\"d\")\n",
        "fact <- as.factor(vec)\n",
        "fact\n",
        "class(fack)\n"
      ],
      "metadata": {
        "colab": {
          "base_uri": "https://localhost:8080/",
          "height": 69
        },
        "id": "PXe4XCn1A98J",
        "outputId": "06bab0b3-9a0d-4fa4-8ec4-2f6bba4c2096"
      },
      "execution_count": 11,
      "outputs": [
        {
          "output_type": "display_data",
          "data": {
            "text/html": [
              "<style>\n",
              ".list-inline {list-style: none; margin:0; padding: 0}\n",
              ".list-inline>li {display: inline-block}\n",
              ".list-inline>li:not(:last-child)::after {content: \"\\00b7\"; padding: 0 .5ex}\n",
              "</style>\n",
              "<ol class=list-inline><li>c</li><li>c</li><li>d</li><li>c</li><li>d</li></ol>\n",
              "\n",
              "<details>\n",
              "\t<summary style=display:list-item;cursor:pointer>\n",
              "\t\t<strong>Levels</strong>:\n",
              "\t</summary>\n",
              "\t<style>\n",
              "\t.list-inline {list-style: none; margin:0; padding: 0}\n",
              "\t.list-inline>li {display: inline-block}\n",
              "\t.list-inline>li:not(:last-child)::after {content: \"\\00b7\"; padding: 0 .5ex}\n",
              "\t</style>\n",
              "\t<ol class=list-inline><li>'c'</li><li>'d'</li></ol>\n",
              "</details>"
            ],
            "text/markdown": "1. c\n2. c\n3. d\n4. c\n5. d\n\n\n\n**Levels**: 1. 'c'\n2. 'd'\n\n\n",
            "text/latex": "\\begin{enumerate*}\n\\item c\n\\item c\n\\item d\n\\item c\n\\item d\n\\end{enumerate*}\n\n\\emph{Levels}: \\begin{enumerate*}\n\\item 'c'\n\\item 'd'\n\\end{enumerate*}\n",
            "text/plain": [
              "[1] c c d c d\n",
              "Levels: c d"
            ]
          },
          "metadata": {}
        },
        {
          "output_type": "display_data",
          "data": {
            "text/html": [
              "'factor'"
            ],
            "text/markdown": "'factor'",
            "text/latex": "'factor'",
            "text/plain": [
              "[1] \"factor\""
            ]
          },
          "metadata": {}
        }
      ]
    },
    {
      "cell_type": "code",
      "source": [
        "# faktörün elamalarını erişmek ve değiştirmek\n",
        "fact[3] <- \"c\"\n",
        "# değerler için de olmayan eleman ile değişim yapılamaz!!\n",
        "fact[2] <- \"e\""
      ],
      "metadata": {
        "colab": {
          "base_uri": "https://localhost:8080/"
        },
        "id": "T20NcW3ZBdPW",
        "outputId": "ef57735e-ad0b-4970-fa4e-ccbbca32ff46"
      },
      "execution_count": 13,
      "outputs": [
        {
          "output_type": "stream",
          "name": "stderr",
          "text": [
            "Warning message in `[<-.factor`(`*tmp*`, 2, value = \"e\"):\n",
            "“invalid factor level, NA generated”\n"
          ]
        }
      ]
    },
    {
      "cell_type": "code",
      "source": [
        "fact <- factor(c(\"c\",\"c\",\"d\",\"c\",\"d\"))\n",
        "fact[c(3,5)]<-\"c\"\n",
        "fact[c(3:5)]<- \"c\"\n",
        "show(fact)\n"
      ],
      "metadata": {
        "colab": {
          "base_uri": "https://localhost:8080/"
        },
        "id": "ZIvFinM7CJsW",
        "outputId": "11ec1c70-b3c7-4965-d05c-050071ef09cf"
      },
      "execution_count": 17,
      "outputs": [
        {
          "output_type": "stream",
          "name": "stdout",
          "text": [
            "[1] c c c c c\n",
            "Levels: c d\n"
          ]
        }
      ]
    },
    {
      "cell_type": "code",
      "source": [
        "# yeni bir eleman ekleme\n",
        "fact[6]<-\"d\"\n",
        "show(fact)"
      ],
      "metadata": {
        "colab": {
          "base_uri": "https://localhost:8080/"
        },
        "id": "cGIqtj0kDaF8",
        "outputId": "912b0bb9-f7bd-4a6a-8fc2-a1b81ff73cea"
      },
      "execution_count": 19,
      "outputs": [
        {
          "output_type": "stream",
          "name": "stdout",
          "text": [
            "[1] c c c c c d\n",
            "Levels: c d\n"
          ]
        }
      ]
    },
    {
      "cell_type": "code",
      "source": [
        "# yeni bir düzey ekleme\n",
        "fat <- factor(c(\"a\",\"a\",\"b\",\"a\",\"b\"))\n",
        "levels(fat) <- c(levels(fat),\"c\") # c düzeyi eklendi\n",
        "show(fat)"
      ],
      "metadata": {
        "colab": {
          "base_uri": "https://localhost:8080/"
        },
        "id": "QC20smK2DqXM",
        "outputId": "1f1be225-b64f-466e-83fd-370b40f532e6"
      },
      "execution_count": 20,
      "outputs": [
        {
          "output_type": "stream",
          "name": "stdout",
          "text": [
            "[1] a a b a b\n",
            "Levels: a b c\n"
          ]
        }
      ]
    },
    {
      "cell_type": "code",
      "source": [
        "levels(fat)[4]<- \"d\"\n",
        "show(fat)\n"
      ],
      "metadata": {
        "colab": {
          "base_uri": "https://localhost:8080/"
        },
        "id": "-Kp9Pje7EMso",
        "outputId": "4f11680f-69a9-4f42-f069-ec10f78145bf"
      },
      "execution_count": 29,
      "outputs": [
        {
          "output_type": "stream",
          "name": "stdout",
          "text": [
            "[1] a a b a b\n",
            "Levels: a b c d\n"
          ]
        }
      ]
    },
    {
      "cell_type": "code",
      "source": [
        "# özet\n",
        "summary(fat)\n",
        "# tablo ile aynı işlemi yapalım tabel()\n",
        "table(fat)\n"
      ],
      "metadata": {
        "colab": {
          "base_uri": "https://localhost:8080/",
          "height": 89
        },
        "id": "Znan58FlEvc9",
        "outputId": "59875d7b-d149-4fab-9e96-9e6abb7487a2"
      },
      "execution_count": 32,
      "outputs": [
        {
          "output_type": "display_data",
          "data": {
            "text/html": [
              "<style>\n",
              ".dl-inline {width: auto; margin:0; padding: 0}\n",
              ".dl-inline>dt, .dl-inline>dd {float: none; width: auto; display: inline-block}\n",
              ".dl-inline>dt::after {content: \":\\0020\"; padding-right: .5ex}\n",
              ".dl-inline>dt:not(:first-of-type) {padding-left: .5ex}\n",
              "</style><dl class=dl-inline><dt>a</dt><dd>3</dd><dt>b</dt><dd>2</dd><dt>c</dt><dd>0</dd><dt>d</dt><dd>0</dd></dl>\n"
            ],
            "text/markdown": "a\n:   3b\n:   2c\n:   0d\n:   0\n\n",
            "text/latex": "\\begin{description*}\n\\item[a] 3\n\\item[b] 2\n\\item[c] 0\n\\item[d] 0\n\\end{description*}\n",
            "text/plain": [
              "a b c d \n",
              "3 2 0 0 "
            ]
          },
          "metadata": {}
        },
        {
          "output_type": "display_data",
          "data": {
            "text/plain": [
              "fat\n",
              "a b c d \n",
              "3 2 0 0 "
            ]
          },
          "metadata": {}
        }
      ]
    },
    {
      "cell_type": "code",
      "source": [
        "# düzey sırası\n",
        "vec <- c(\"alihan\",\"efe\",\"mert\",\"nazlican\",\"melda\",\"yunus\",\"yusuf\",\"melih\",\"emre\",\"nur\")\n",
        "fac <- factor(vec)\n",
        "fac #duzey isimleri alfabetik sira ile gelir levels\n",
        "\n",
        "#siradaki isimleri tekrar duzenlemek istersem\n",
        "yeni <- factor(fac, levels=c(\"mert\",\"yunus\",\"yusuf\",\"alihan\",\"nur\",\"nurcan\",\"emre\",\"melih\",\"melda\",\"efe\"))\n",
        "yeni\n"
      ],
      "metadata": {
        "colab": {
          "base_uri": "https://localhost:8080/",
          "height": 86
        },
        "id": "VnQUfaGUFOWV",
        "outputId": "1dc71a80-7f13-4010-fbea-7102a2442b07"
      },
      "execution_count": 40,
      "outputs": [
        {
          "output_type": "display_data",
          "data": {
            "text/html": [
              "<style>\n",
              ".list-inline {list-style: none; margin:0; padding: 0}\n",
              ".list-inline>li {display: inline-block}\n",
              ".list-inline>li:not(:last-child)::after {content: \"\\00b7\"; padding: 0 .5ex}\n",
              "</style>\n",
              "<ol class=list-inline><li>alihan</li><li>efe</li><li>mert</li><li>nazlican</li><li>melda</li><li>yunus</li><li>yusuf</li><li>melih</li><li>emre</li><li>nur</li></ol>\n",
              "\n",
              "<details>\n",
              "\t<summary style=display:list-item;cursor:pointer>\n",
              "\t\t<strong>Levels</strong>:\n",
              "\t</summary>\n",
              "\t<style>\n",
              "\t.list-inline {list-style: none; margin:0; padding: 0}\n",
              "\t.list-inline>li {display: inline-block}\n",
              "\t.list-inline>li:not(:last-child)::after {content: \"\\00b7\"; padding: 0 .5ex}\n",
              "\t</style>\n",
              "\t<ol class=list-inline><li>'alihan'</li><li>'efe'</li><li>'emre'</li><li>'melda'</li><li>'melih'</li><li>'mert'</li><li>'nazlican'</li><li>'nur'</li><li>'yunus'</li><li>'yusuf'</li></ol>\n",
              "</details>"
            ],
            "text/markdown": "1. alihan\n2. efe\n3. mert\n4. nazlican\n5. melda\n6. yunus\n7. yusuf\n8. melih\n9. emre\n10. nur\n\n\n\n**Levels**: 1. 'alihan'\n2. 'efe'\n3. 'emre'\n4. 'melda'\n5. 'melih'\n6. 'mert'\n7. 'nazlican'\n8. 'nur'\n9. 'yunus'\n10. 'yusuf'\n\n\n",
            "text/latex": "\\begin{enumerate*}\n\\item alihan\n\\item efe\n\\item mert\n\\item nazlican\n\\item melda\n\\item yunus\n\\item yusuf\n\\item melih\n\\item emre\n\\item nur\n\\end{enumerate*}\n\n\\emph{Levels}: \\begin{enumerate*}\n\\item 'alihan'\n\\item 'efe'\n\\item 'emre'\n\\item 'melda'\n\\item 'melih'\n\\item 'mert'\n\\item 'nazlican'\n\\item 'nur'\n\\item 'yunus'\n\\item 'yusuf'\n\\end{enumerate*}\n",
            "text/plain": [
              " [1] alihan   efe      mert     nazlican melda    yunus    yusuf    melih   \n",
              " [9] emre     nur     \n",
              "Levels: alihan efe emre melda melih mert nazlican nur yunus yusuf"
            ]
          },
          "metadata": {}
        },
        {
          "output_type": "display_data",
          "data": {
            "text/html": [
              "<style>\n",
              ".list-inline {list-style: none; margin:0; padding: 0}\n",
              ".list-inline>li {display: inline-block}\n",
              ".list-inline>li:not(:last-child)::after {content: \"\\00b7\"; padding: 0 .5ex}\n",
              "</style>\n",
              "<ol class=list-inline><li>alihan</li><li>efe</li><li>mert</li><li>&lt;NA&gt;</li><li>melda</li><li>yunus</li><li>yusuf</li><li>melih</li><li>emre</li><li>nur</li></ol>\n",
              "\n",
              "<details>\n",
              "\t<summary style=display:list-item;cursor:pointer>\n",
              "\t\t<strong>Levels</strong>:\n",
              "\t</summary>\n",
              "\t<style>\n",
              "\t.list-inline {list-style: none; margin:0; padding: 0}\n",
              "\t.list-inline>li {display: inline-block}\n",
              "\t.list-inline>li:not(:last-child)::after {content: \"\\00b7\"; padding: 0 .5ex}\n",
              "\t</style>\n",
              "\t<ol class=list-inline><li>'mert'</li><li>'yunus'</li><li>'yusuf'</li><li>'alihan'</li><li>'nur'</li><li>'nurcan'</li><li>'emre'</li><li>'melih'</li><li>'melda'</li><li>'efe'</li></ol>\n",
              "</details>"
            ],
            "text/markdown": "1. alihan\n2. efe\n3. mert\n4. &lt;NA&gt;\n5. melda\n6. yunus\n7. yusuf\n8. melih\n9. emre\n10. nur\n\n\n\n**Levels**: 1. 'mert'\n2. 'yunus'\n3. 'yusuf'\n4. 'alihan'\n5. 'nur'\n6. 'nurcan'\n7. 'emre'\n8. 'melih'\n9. 'melda'\n10. 'efe'\n\n\n",
            "text/latex": "\\begin{enumerate*}\n\\item alihan\n\\item efe\n\\item mert\n\\item <NA>\n\\item melda\n\\item yunus\n\\item yusuf\n\\item melih\n\\item emre\n\\item nur\n\\end{enumerate*}\n\n\\emph{Levels}: \\begin{enumerate*}\n\\item 'mert'\n\\item 'yunus'\n\\item 'yusuf'\n\\item 'alihan'\n\\item 'nur'\n\\item 'nurcan'\n\\item 'emre'\n\\item 'melih'\n\\item 'melda'\n\\item 'efe'\n\\end{enumerate*}\n",
            "text/plain": [
              " [1] alihan efe    mert   <NA>   melda  yunus  yusuf  melih  emre   nur   \n",
              "Levels: mert yunus yusuf alihan nur nurcan emre melih melda efe"
            ]
          },
          "metadata": {}
        }
      ]
    },
    {
      "cell_type": "code",
      "source": [
        "# aritmatik işlemler\n",
        "fac <- factor(c(1,5,7,3,-1,2))\n",
        "fac\n",
        "sum(as.numeric(levels(fac)[fac])) #sayisala donusturup topladim\n",
        "mean(as.numeric(levels(fac)[fac])) #sayisala donusturup ortalama alma\n",
        "var(as.numeric(levels(fac)[fac])) #sayisala donusturup varyans alma"
      ],
      "metadata": {
        "colab": {
          "base_uri": "https://localhost:8080/",
          "height": 104
        },
        "id": "wRq-2va3F7ua",
        "outputId": "dbaf01aa-bbf6-4905-8cc6-1ffbd02e353f"
      },
      "execution_count": 39,
      "outputs": [
        {
          "output_type": "display_data",
          "data": {
            "text/html": [
              "<style>\n",
              ".list-inline {list-style: none; margin:0; padding: 0}\n",
              ".list-inline>li {display: inline-block}\n",
              ".list-inline>li:not(:last-child)::after {content: \"\\00b7\"; padding: 0 .5ex}\n",
              "</style>\n",
              "<ol class=list-inline><li>1</li><li>5</li><li>7</li><li>3</li><li>-1</li><li>2</li></ol>\n",
              "\n",
              "<details>\n",
              "\t<summary style=display:list-item;cursor:pointer>\n",
              "\t\t<strong>Levels</strong>:\n",
              "\t</summary>\n",
              "\t<style>\n",
              "\t.list-inline {list-style: none; margin:0; padding: 0}\n",
              "\t.list-inline>li {display: inline-block}\n",
              "\t.list-inline>li:not(:last-child)::after {content: \"\\00b7\"; padding: 0 .5ex}\n",
              "\t</style>\n",
              "\t<ol class=list-inline><li>'-1'</li><li>'1'</li><li>'2'</li><li>'3'</li><li>'5'</li><li>'7'</li></ol>\n",
              "</details>"
            ],
            "text/markdown": "1. 1\n2. 5\n3. 7\n4. 3\n5. -1\n6. 2\n\n\n\n**Levels**: 1. '-1'\n2. '1'\n3. '2'\n4. '3'\n5. '5'\n6. '7'\n\n\n",
            "text/latex": "\\begin{enumerate*}\n\\item 1\n\\item 5\n\\item 7\n\\item 3\n\\item -1\n\\item 2\n\\end{enumerate*}\n\n\\emph{Levels}: \\begin{enumerate*}\n\\item '-1'\n\\item '1'\n\\item '2'\n\\item '3'\n\\item '5'\n\\item '7'\n\\end{enumerate*}\n",
            "text/plain": [
              "[1] 1  5  7  3  -1 2 \n",
              "Levels: -1 1 2 3 5 7"
            ]
          },
          "metadata": {}
        },
        {
          "output_type": "display_data",
          "data": {
            "text/html": [
              "17"
            ],
            "text/markdown": "17",
            "text/latex": "17",
            "text/plain": [
              "[1] 17"
            ]
          },
          "metadata": {}
        },
        {
          "output_type": "display_data",
          "data": {
            "text/html": [
              "2.83333333333333"
            ],
            "text/markdown": "2.83333333333333",
            "text/latex": "2.83333333333333",
            "text/plain": [
              "[1] 2.833333"
            ]
          },
          "metadata": {}
        },
        {
          "output_type": "display_data",
          "data": {
            "text/html": [
              "8.16666666666667"
            ],
            "text/markdown": "8.16666666666667",
            "text/latex": "8.16666666666667",
            "text/plain": [
              "[1] 8.166667"
            ]
          },
          "metadata": {}
        }
      ]
    },
    {
      "cell_type": "code",
      "source": [
        "# R da daha fazla boyutlu ornegin 3 boyutlu bir veri yapisi dizi olarak olusturulabilir\n",
        "#dizi boyutlari dim() fonksiyonu ile belirlenebilir\n",
        "#ornegin bir vektor biciminde tanimlanan d dizisi 2*2*3 boyutlu diziye su sekilde donusturulur\n",
        " d <- c(4,2,3,-1,0,3,3,12,8,2,14,5)\n",
        "dim(d) <- c(2,2,3)\n",
        "d"
      ],
      "metadata": {
        "colab": {
          "base_uri": "https://localhost:8080/",
          "height": 34
        },
        "id": "pJN1TqSTQM63",
        "outputId": "353a661c-15d2-4c87-87d3-27136f607d15"
      },
      "execution_count": 41,
      "outputs": [
        {
          "output_type": "display_data",
          "data": {
            "text/html": [
              "<style>\n",
              ".list-inline {list-style: none; margin:0; padding: 0}\n",
              ".list-inline>li {display: inline-block}\n",
              ".list-inline>li:not(:last-child)::after {content: \"\\00b7\"; padding: 0 .5ex}\n",
              "</style>\n",
              "<ol class=list-inline><li>4</li><li>2</li><li>3</li><li>-1</li><li>0</li><li>3</li><li>3</li><li>12</li><li>8</li><li>2</li><li>14</li><li>5</li></ol>\n"
            ],
            "text/markdown": "1. 4\n2. 2\n3. 3\n4. -1\n5. 0\n6. 3\n7. 3\n8. 12\n9. 8\n10. 2\n11. 14\n12. 5\n\n\n",
            "text/latex": "\\begin{enumerate*}\n\\item 4\n\\item 2\n\\item 3\n\\item -1\n\\item 0\n\\item 3\n\\item 3\n\\item 12\n\\item 8\n\\item 2\n\\item 14\n\\item 5\n\\end{enumerate*}\n",
            "text/plain": [
              ", , 1\n",
              "\n",
              "     [,1] [,2]\n",
              "[1,]    4    3\n",
              "[2,]    2   -1\n",
              "\n",
              ", , 2\n",
              "\n",
              "     [,1] [,2]\n",
              "[1,]    0    3\n",
              "[2,]    3   12\n",
              "\n",
              ", , 3\n",
              "\n",
              "     [,1] [,2]\n",
              "[1,]    8   14\n",
              "[2,]    2    5\n"
            ]
          },
          "metadata": {}
        }
      ]
    },
    {
      "cell_type": "code",
      "source": [
        "#array fonksiyonu da dizi olusturmak icin kullanilir\n",
        "d <- c(4,2,3,-1,0,3,3,12,8,2,14,5)\n",
        "array(d,c(2,2,3))\n"
      ],
      "metadata": {
        "colab": {
          "base_uri": "https://localhost:8080/",
          "height": 34
        },
        "id": "FBHHuRTBR2rW",
        "outputId": "af43664f-9c5a-4c64-c1ec-acc3e1fbb349"
      },
      "execution_count": 42,
      "outputs": [
        {
          "output_type": "display_data",
          "data": {
            "text/html": [
              "<style>\n",
              ".list-inline {list-style: none; margin:0; padding: 0}\n",
              ".list-inline>li {display: inline-block}\n",
              ".list-inline>li:not(:last-child)::after {content: \"\\00b7\"; padding: 0 .5ex}\n",
              "</style>\n",
              "<ol class=list-inline><li>4</li><li>2</li><li>3</li><li>-1</li><li>0</li><li>3</li><li>3</li><li>12</li><li>8</li><li>2</li><li>14</li><li>5</li></ol>\n"
            ],
            "text/markdown": "1. 4\n2. 2\n3. 3\n4. -1\n5. 0\n6. 3\n7. 3\n8. 12\n9. 8\n10. 2\n11. 14\n12. 5\n\n\n",
            "text/latex": "\\begin{enumerate*}\n\\item 4\n\\item 2\n\\item 3\n\\item -1\n\\item 0\n\\item 3\n\\item 3\n\\item 12\n\\item 8\n\\item 2\n\\item 14\n\\item 5\n\\end{enumerate*}\n",
            "text/plain": [
              ", , 1\n",
              "\n",
              "     [,1] [,2]\n",
              "[1,]    4    3\n",
              "[2,]    2   -1\n",
              "\n",
              ", , 2\n",
              "\n",
              "     [,1] [,2]\n",
              "[1,]    0    3\n",
              "[2,]    3   12\n",
              "\n",
              ", , 3\n",
              "\n",
              "     [,1] [,2]\n",
              "[1,]    8   14\n",
              "[2,]    2    5\n"
            ]
          },
          "metadata": {}
        }
      ]
    },
    {
      "cell_type": "code",
      "source": [
        "m<-matrix(c(5,3,2,2,7,1),3,2, byrow = T) #byrow satır öncelikli olsun mu T veya F\n",
        "m                # satırları doldura doldura yerleştiri elamanları\n",
        "# eğere byrow kullanmasaydık\n",
        "mb<-matrix(c(5,3,2,2,7,1),3,2)\n",
        "mb"
      ],
      "metadata": {
        "colab": {
          "base_uri": "https://localhost:8080/",
          "height": 379
        },
        "id": "6yaVi7QcSHxg",
        "outputId": "369b858d-82b6-4487-900f-9481c20cc7ec"
      },
      "execution_count": 45,
      "outputs": [
        {
          "output_type": "display_data",
          "data": {
            "text/html": [
              "<table class=\"dataframe\">\n",
              "<caption>A matrix: 3 × 2 of type dbl</caption>\n",
              "<tbody>\n",
              "\t<tr><td>5</td><td>3</td></tr>\n",
              "\t<tr><td>2</td><td>2</td></tr>\n",
              "\t<tr><td>7</td><td>1</td></tr>\n",
              "</tbody>\n",
              "</table>\n"
            ],
            "text/markdown": "\nA matrix: 3 × 2 of type dbl\n\n| 5 | 3 |\n| 2 | 2 |\n| 7 | 1 |\n\n",
            "text/latex": "A matrix: 3 × 2 of type dbl\n\\begin{tabular}{ll}\n\t 5 & 3\\\\\n\t 2 & 2\\\\\n\t 7 & 1\\\\\n\\end{tabular}\n",
            "text/plain": [
              "     [,1] [,2]\n",
              "[1,] 5    3   \n",
              "[2,] 2    2   \n",
              "[3,] 7    1   "
            ]
          },
          "metadata": {}
        },
        {
          "output_type": "display_data",
          "data": {
            "text/html": [
              "<table class=\"dataframe\">\n",
              "<caption>A matrix: 3 × 2 of type dbl</caption>\n",
              "<tbody>\n",
              "\t<tr><td>5</td><td>2</td></tr>\n",
              "\t<tr><td>3</td><td>7</td></tr>\n",
              "\t<tr><td>2</td><td>1</td></tr>\n",
              "</tbody>\n",
              "</table>\n"
            ],
            "text/markdown": "\nA matrix: 3 × 2 of type dbl\n\n| 5 | 2 |\n| 3 | 7 |\n| 2 | 1 |\n\n",
            "text/latex": "A matrix: 3 × 2 of type dbl\n\\begin{tabular}{ll}\n\t 5 & 2\\\\\n\t 3 & 7\\\\\n\t 2 & 1\\\\\n\\end{tabular}\n",
            "text/plain": [
              "     [,1] [,2]\n",
              "[1,] 5    2   \n",
              "[2,] 3    7   \n",
              "[3,] 2    1   "
            ]
          },
          "metadata": {}
        }
      ]
    },
    {
      "cell_type": "code",
      "source": [
        "#eger matris boyutu esitse tek bir boyutun tanimlanmasi yeterlidir\n",
        "m <- matrix(c(12,17,23,15,46,17,3,45,29),3)\n",
        "m\n",
        "#mevcut bir matrisin boyutlarini ogrenmek icin dim()\n",
        "dim(m)"
      ],
      "metadata": {
        "colab": {
          "base_uri": "https://localhost:8080/",
          "height": 163
        },
        "id": "83WjBjUBSzQN",
        "outputId": "f94b01eb-f9a1-44dc-dac2-cff1c33ce4c0"
      },
      "execution_count": 47,
      "outputs": [
        {
          "output_type": "display_data",
          "data": {
            "text/html": [
              "<table class=\"dataframe\">\n",
              "<caption>A matrix: 3 × 3 of type dbl</caption>\n",
              "<tbody>\n",
              "\t<tr><td>12</td><td>15</td><td> 3</td></tr>\n",
              "\t<tr><td>17</td><td>46</td><td>45</td></tr>\n",
              "\t<tr><td>23</td><td>17</td><td>29</td></tr>\n",
              "</tbody>\n",
              "</table>\n"
            ],
            "text/markdown": "\nA matrix: 3 × 3 of type dbl\n\n| 12 | 15 |  3 |\n| 17 | 46 | 45 |\n| 23 | 17 | 29 |\n\n",
            "text/latex": "A matrix: 3 × 3 of type dbl\n\\begin{tabular}{lll}\n\t 12 & 15 &  3\\\\\n\t 17 & 46 & 45\\\\\n\t 23 & 17 & 29\\\\\n\\end{tabular}\n",
            "text/plain": [
              "     [,1] [,2] [,3]\n",
              "[1,] 12   15    3  \n",
              "[2,] 17   46   45  \n",
              "[3,] 23   17   29  "
            ]
          },
          "metadata": {}
        },
        {
          "output_type": "display_data",
          "data": {
            "text/html": [
              "<style>\n",
              ".list-inline {list-style: none; margin:0; padding: 0}\n",
              ".list-inline>li {display: inline-block}\n",
              ".list-inline>li:not(:last-child)::after {content: \"\\00b7\"; padding: 0 .5ex}\n",
              "</style>\n",
              "<ol class=list-inline><li>3</li><li>3</li></ol>\n"
            ],
            "text/markdown": "1. 3\n2. 3\n\n\n",
            "text/latex": "\\begin{enumerate*}\n\\item 3\n\\item 3\n\\end{enumerate*}\n",
            "text/plain": [
              "[1] 3 3"
            ]
          },
          "metadata": {}
        }
      ]
    },
    {
      "cell_type": "code",
      "source": [
        "#matris elde etmek icin matrix() fonskiyonu kullanmadan da islem yapabiliriz\n",
        "#birden fazla vektor birlestirilerek de matris elde edilebilir\n",
        "#vektorleri birlestirme islemini satirlara gore yapacaksak rbind()\n",
        "#vektor birlestirme islemini sutunlara gore yapacaksak cbind()\n",
        "#3 vektoru birlestirerek matris elde edelim\n",
        "\n",
        "m <- cbind(c(12,26,28),c(25,13,10),c(7,9,11)) #sutunlara gore\n",
        "m\n",
        "\n",
        "m <- rbind(c(12,26,28),c(25,13,10),c(7,9,11)) #satirlara gore\n",
        "m"
      ],
      "metadata": {
        "colab": {
          "base_uri": "https://localhost:8080/",
          "height": 274
        },
        "id": "Zgs8fRelTK6T",
        "outputId": "584714f2-7a93-4099-ac6d-68b8b7de1e6e"
      },
      "execution_count": 48,
      "outputs": [
        {
          "output_type": "display_data",
          "data": {
            "text/html": [
              "<table class=\"dataframe\">\n",
              "<caption>A matrix: 3 × 3 of type dbl</caption>\n",
              "<tbody>\n",
              "\t<tr><td>12</td><td>25</td><td> 7</td></tr>\n",
              "\t<tr><td>26</td><td>13</td><td> 9</td></tr>\n",
              "\t<tr><td>28</td><td>10</td><td>11</td></tr>\n",
              "</tbody>\n",
              "</table>\n"
            ],
            "text/markdown": "\nA matrix: 3 × 3 of type dbl\n\n| 12 | 25 |  7 |\n| 26 | 13 |  9 |\n| 28 | 10 | 11 |\n\n",
            "text/latex": "A matrix: 3 × 3 of type dbl\n\\begin{tabular}{lll}\n\t 12 & 25 &  7\\\\\n\t 26 & 13 &  9\\\\\n\t 28 & 10 & 11\\\\\n\\end{tabular}\n",
            "text/plain": [
              "     [,1] [,2] [,3]\n",
              "[1,] 12   25    7  \n",
              "[2,] 26   13    9  \n",
              "[3,] 28   10   11  "
            ]
          },
          "metadata": {}
        },
        {
          "output_type": "display_data",
          "data": {
            "text/html": [
              "<table class=\"dataframe\">\n",
              "<caption>A matrix: 3 × 3 of type dbl</caption>\n",
              "<tbody>\n",
              "\t<tr><td>12</td><td>26</td><td>28</td></tr>\n",
              "\t<tr><td>25</td><td>13</td><td>10</td></tr>\n",
              "\t<tr><td> 7</td><td> 9</td><td>11</td></tr>\n",
              "</tbody>\n",
              "</table>\n"
            ],
            "text/markdown": "\nA matrix: 3 × 3 of type dbl\n\n| 12 | 26 | 28 |\n| 25 | 13 | 10 |\n|  7 |  9 | 11 |\n\n",
            "text/latex": "A matrix: 3 × 3 of type dbl\n\\begin{tabular}{lll}\n\t 12 & 26 & 28\\\\\n\t 25 & 13 & 10\\\\\n\t  7 &  9 & 11\\\\\n\\end{tabular}\n",
            "text/plain": [
              "     [,1] [,2] [,3]\n",
              "[1,] 12   26   28  \n",
              "[2,] 25   13   10  \n",
              "[3,]  7    9   11  "
            ]
          },
          "metadata": {}
        }
      ]
    },
    {
      "cell_type": "code",
      "source": [
        "#rbind() ve cbind() fonksiyonu ile mevcut matrise satir ve sutun ilave edilebilir\n",
        "m <- rbind(c(12,26,28),c(25,13,10),c(7,9,11))\n",
        "m <- rbind(m,c(1,9,4)) # ekleme işlemi # r (row) satır c (column) sütün\n",
        "m\n"
      ],
      "metadata": {
        "colab": {
          "base_uri": "https://localhost:8080/",
          "height": 177
        },
        "id": "FxIaPYc0TRuT",
        "outputId": "bc577765-68db-4522-b815-e2788a3785dc"
      },
      "execution_count": 51,
      "outputs": [
        {
          "output_type": "display_data",
          "data": {
            "text/html": [
              "<table class=\"dataframe\">\n",
              "<caption>A matrix: 4 × 3 of type dbl</caption>\n",
              "<tbody>\n",
              "\t<tr><td>12</td><td>26</td><td>28</td></tr>\n",
              "\t<tr><td>25</td><td>13</td><td>10</td></tr>\n",
              "\t<tr><td> 7</td><td> 9</td><td>11</td></tr>\n",
              "\t<tr><td> 1</td><td> 9</td><td> 4</td></tr>\n",
              "</tbody>\n",
              "</table>\n"
            ],
            "text/markdown": "\nA matrix: 4 × 3 of type dbl\n\n| 12 | 26 | 28 |\n| 25 | 13 | 10 |\n|  7 |  9 | 11 |\n|  1 |  9 |  4 |\n\n",
            "text/latex": "A matrix: 4 × 3 of type dbl\n\\begin{tabular}{lll}\n\t 12 & 26 & 28\\\\\n\t 25 & 13 & 10\\\\\n\t  7 &  9 & 11\\\\\n\t  1 &  9 &  4\\\\\n\\end{tabular}\n",
            "text/plain": [
              "     [,1] [,2] [,3]\n",
              "[1,] 12   26   28  \n",
              "[2,] 25   13   10  \n",
              "[3,]  7    9   11  \n",
              "[4,]  1    9    4  "
            ]
          },
          "metadata": {}
        }
      ]
    },
    {
      "cell_type": "code",
      "source": [
        "#vektorleri boyutlandirarak matris elde etme dim()\n",
        " d <- c(32,46,73,12,42,46,56,91,77)\n",
        "dim(d) <-c(3,3)\n",
        "d\n"
      ],
      "metadata": {
        "colab": {
          "base_uri": "https://localhost:8080/",
          "height": 146
        },
        "id": "KjkbSw6GTs3g",
        "outputId": "b27b7d7c-4f4f-47ee-bf5c-7d3b4c8d11c8"
      },
      "execution_count": 52,
      "outputs": [
        {
          "output_type": "display_data",
          "data": {
            "text/html": [
              "<table class=\"dataframe\">\n",
              "<caption>A matrix: 3 × 3 of type dbl</caption>\n",
              "<tbody>\n",
              "\t<tr><td>32</td><td>12</td><td>56</td></tr>\n",
              "\t<tr><td>46</td><td>42</td><td>91</td></tr>\n",
              "\t<tr><td>73</td><td>46</td><td>77</td></tr>\n",
              "</tbody>\n",
              "</table>\n"
            ],
            "text/markdown": "\nA matrix: 3 × 3 of type dbl\n\n| 32 | 12 | 56 |\n| 46 | 42 | 91 |\n| 73 | 46 | 77 |\n\n",
            "text/latex": "A matrix: 3 × 3 of type dbl\n\\begin{tabular}{lll}\n\t 32 & 12 & 56\\\\\n\t 46 & 42 & 91\\\\\n\t 73 & 46 & 77\\\\\n\\end{tabular}\n",
            "text/plain": [
              "     [,1] [,2] [,3]\n",
              "[1,] 32   12   56  \n",
              "[2,] 46   42   91  \n",
              "[3,] 73   46   77  "
            ]
          },
          "metadata": {}
        }
      ]
    },
    {
      "cell_type": "code",
      "source": [
        "#satir ve sutunlari isimlendirme\n",
        "#matrix fonksiyonu icinde dimnames parametresi kullanilir\n",
        "m <- matrix(c(12,17,23,15,46,17,3,45,29),3,dimnames=list(c(\"I\",\"II\",\"III\"), c(\"A\",\"B\",\"C\")))\n",
        "m"
      ],
      "metadata": {
        "colab": {
          "base_uri": "https://localhost:8080/",
          "height": 178
        },
        "id": "d_RfvdJ8T9sN",
        "outputId": "5ebaf562-5bc0-4797-bc7d-05e407591d7b"
      },
      "execution_count": 53,
      "outputs": [
        {
          "output_type": "display_data",
          "data": {
            "text/html": [
              "<table class=\"dataframe\">\n",
              "<caption>A matrix: 3 × 3 of type dbl</caption>\n",
              "<thead>\n",
              "\t<tr><th></th><th scope=col>A</th><th scope=col>B</th><th scope=col>C</th></tr>\n",
              "</thead>\n",
              "<tbody>\n",
              "\t<tr><th scope=row>I</th><td>12</td><td>15</td><td> 3</td></tr>\n",
              "\t<tr><th scope=row>II</th><td>17</td><td>46</td><td>45</td></tr>\n",
              "\t<tr><th scope=row>III</th><td>23</td><td>17</td><td>29</td></tr>\n",
              "</tbody>\n",
              "</table>\n"
            ],
            "text/markdown": "\nA matrix: 3 × 3 of type dbl\n\n| <!--/--> | A | B | C |\n|---|---|---|---|\n| I | 12 | 15 |  3 |\n| II | 17 | 46 | 45 |\n| III | 23 | 17 | 29 |\n\n",
            "text/latex": "A matrix: 3 × 3 of type dbl\n\\begin{tabular}{r|lll}\n  & A & B & C\\\\\n\\hline\n\tI & 12 & 15 &  3\\\\\n\tII & 17 & 46 & 45\\\\\n\tIII & 23 & 17 & 29\\\\\n\\end{tabular}\n",
            "text/plain": [
              "    A  B  C \n",
              "I   12 15  3\n",
              "II  17 46 45\n",
              "III 23 17 29"
            ]
          },
          "metadata": {}
        }
      ]
    },
    {
      "cell_type": "code",
      "source": [
        "#bunu yapmanin bir diger seklide\n",
        "m <- matrix(c(12,17,23,15,46,17,3,45,29),3)\n",
        "rownames(m) <- c(\"I\",\"II\",\"III\") #sutun isimleri\n",
        "colnames(m) <- c(\"A\",\"B\",\"C\") #satir isimleri\n",
        "m"
      ],
      "metadata": {
        "colab": {
          "base_uri": "https://localhost:8080/",
          "height": 178
        },
        "id": "4USfWCXnUQKj",
        "outputId": "9b2a8cdd-8498-4ab8-bb6f-ddedac75cbec"
      },
      "execution_count": 56,
      "outputs": [
        {
          "output_type": "display_data",
          "data": {
            "text/html": [
              "<table class=\"dataframe\">\n",
              "<caption>A matrix: 3 × 3 of type dbl</caption>\n",
              "<thead>\n",
              "\t<tr><th></th><th scope=col>A</th><th scope=col>B</th><th scope=col>C</th></tr>\n",
              "</thead>\n",
              "<tbody>\n",
              "\t<tr><th scope=row>I</th><td>12</td><td>15</td><td> 3</td></tr>\n",
              "\t<tr><th scope=row>II</th><td>17</td><td>46</td><td>45</td></tr>\n",
              "\t<tr><th scope=row>III</th><td>23</td><td>17</td><td>29</td></tr>\n",
              "</tbody>\n",
              "</table>\n"
            ],
            "text/markdown": "\nA matrix: 3 × 3 of type dbl\n\n| <!--/--> | A | B | C |\n|---|---|---|---|\n| I | 12 | 15 |  3 |\n| II | 17 | 46 | 45 |\n| III | 23 | 17 | 29 |\n\n",
            "text/latex": "A matrix: 3 × 3 of type dbl\n\\begin{tabular}{r|lll}\n  & A & B & C\\\\\n\\hline\n\tI & 12 & 15 &  3\\\\\n\tII & 17 & 46 & 45\\\\\n\tIII & 23 & 17 & 29\\\\\n\\end{tabular}\n",
            "text/plain": [
              "    A  B  C \n",
              "I   12 15  3\n",
              "II  17 46 45\n",
              "III 23 17 29"
            ]
          },
          "metadata": {}
        }
      ]
    },
    {
      "cell_type": "code",
      "source": [
        "#satir ve sutun isimlerini silelim\n",
        "dimnames(m) <- list(NULL,NULL)\n",
        "m"
      ],
      "metadata": {
        "colab": {
          "base_uri": "https://localhost:8080/",
          "height": 146
        },
        "id": "0UZhip6cUwGi",
        "outputId": "8abac0e3-15c4-4acf-d825-631b2f050a37"
      },
      "execution_count": 57,
      "outputs": [
        {
          "output_type": "display_data",
          "data": {
            "text/html": [
              "<table class=\"dataframe\">\n",
              "<caption>A matrix: 3 × 3 of type dbl</caption>\n",
              "<tbody>\n",
              "\t<tr><td>12</td><td>15</td><td> 3</td></tr>\n",
              "\t<tr><td>17</td><td>46</td><td>45</td></tr>\n",
              "\t<tr><td>23</td><td>17</td><td>29</td></tr>\n",
              "</tbody>\n",
              "</table>\n"
            ],
            "text/markdown": "\nA matrix: 3 × 3 of type dbl\n\n| 12 | 15 |  3 |\n| 17 | 46 | 45 |\n| 23 | 17 | 29 |\n\n",
            "text/latex": "A matrix: 3 × 3 of type dbl\n\\begin{tabular}{lll}\n\t 12 & 15 &  3\\\\\n\t 17 & 46 & 45\\\\\n\t 23 & 17 & 29\\\\\n\\end{tabular}\n",
            "text/plain": [
              "     [,1] [,2] [,3]\n",
              "[1,] 12   15    3  \n",
              "[2,] 17   46   45  \n",
              "[3,] 23   17   29  "
            ]
          },
          "metadata": {}
        }
      ]
    },
    {
      "cell_type": "code",
      "source": [
        "#matris elemanina erisim indeksleri kullanacagiz\n",
        "#matrisler iki boyutlu oldugu icin iki boyutunda indeksini tanimlamaliyiz\n",
        "#ornegin bir matrisin 2. satir ve sutun 3. sutununda elemana erismek icin [2,3]\n",
        "m <- matrix(c(12,17,23,15,46,17,3,45,29),3)\n",
        "m\n",
        "m[2,3] # 2. satır 3. sütünu göster\n",
        "m[,3] # 3. sütün\n",
        "m[1,] # 1. satır"
      ],
      "metadata": {
        "colab": {
          "base_uri": "https://localhost:8080/",
          "height": 198
        },
        "id": "8oDuU1pkUy23",
        "outputId": "16d2aefa-ccf2-4841-96c5-0770f4880fd2"
      },
      "execution_count": 61,
      "outputs": [
        {
          "output_type": "display_data",
          "data": {
            "text/html": [
              "<table class=\"dataframe\">\n",
              "<caption>A matrix: 3 × 3 of type dbl</caption>\n",
              "<tbody>\n",
              "\t<tr><td>12</td><td>15</td><td> 3</td></tr>\n",
              "\t<tr><td>17</td><td>46</td><td>45</td></tr>\n",
              "\t<tr><td>23</td><td>17</td><td>29</td></tr>\n",
              "</tbody>\n",
              "</table>\n"
            ],
            "text/markdown": "\nA matrix: 3 × 3 of type dbl\n\n| 12 | 15 |  3 |\n| 17 | 46 | 45 |\n| 23 | 17 | 29 |\n\n",
            "text/latex": "A matrix: 3 × 3 of type dbl\n\\begin{tabular}{lll}\n\t 12 & 15 &  3\\\\\n\t 17 & 46 & 45\\\\\n\t 23 & 17 & 29\\\\\n\\end{tabular}\n",
            "text/plain": [
              "     [,1] [,2] [,3]\n",
              "[1,] 12   15    3  \n",
              "[2,] 17   46   45  \n",
              "[3,] 23   17   29  "
            ]
          },
          "metadata": {}
        },
        {
          "output_type": "display_data",
          "data": {
            "text/html": [
              "45"
            ],
            "text/markdown": "45",
            "text/latex": "45",
            "text/plain": [
              "[1] 45"
            ]
          },
          "metadata": {}
        },
        {
          "output_type": "display_data",
          "data": {
            "text/html": [
              "<style>\n",
              ".list-inline {list-style: none; margin:0; padding: 0}\n",
              ".list-inline>li {display: inline-block}\n",
              ".list-inline>li:not(:last-child)::after {content: \"\\00b7\"; padding: 0 .5ex}\n",
              "</style>\n",
              "<ol class=list-inline><li>3</li><li>45</li><li>29</li></ol>\n"
            ],
            "text/markdown": "1. 3\n2. 45\n3. 29\n\n\n",
            "text/latex": "\\begin{enumerate*}\n\\item 3\n\\item 45\n\\item 29\n\\end{enumerate*}\n",
            "text/plain": [
              "[1]  3 45 29"
            ]
          },
          "metadata": {}
        },
        {
          "output_type": "display_data",
          "data": {
            "text/html": [
              "<style>\n",
              ".list-inline {list-style: none; margin:0; padding: 0}\n",
              ".list-inline>li {display: inline-block}\n",
              ".list-inline>li:not(:last-child)::after {content: \"\\00b7\"; padding: 0 .5ex}\n",
              "</style>\n",
              "<ol class=list-inline><li>12</li><li>15</li><li>3</li></ol>\n"
            ],
            "text/markdown": "1. 12\n2. 15\n3. 3\n\n\n",
            "text/latex": "\\begin{enumerate*}\n\\item 12\n\\item 15\n\\item 3\n\\end{enumerate*}\n",
            "text/plain": [
              "[1] 12 15  3"
            ]
          },
          "metadata": {}
        }
      ]
    },
    {
      "cell_type": "code",
      "source": [
        "#matrisin ilk iki satirini iceren bir alt matris olusturalim\n",
        "m[1:2,]"
      ],
      "metadata": {
        "colab": {
          "base_uri": "https://localhost:8080/",
          "height": 114
        },
        "id": "Pb5_5Hh9VJbA",
        "outputId": "860685f7-7798-4522-8aa3-468ca5a22607"
      },
      "execution_count": 62,
      "outputs": [
        {
          "output_type": "display_data",
          "data": {
            "text/html": [
              "<table class=\"dataframe\">\n",
              "<caption>A matrix: 2 × 3 of type dbl</caption>\n",
              "<tbody>\n",
              "\t<tr><td>12</td><td>15</td><td> 3</td></tr>\n",
              "\t<tr><td>17</td><td>46</td><td>45</td></tr>\n",
              "</tbody>\n",
              "</table>\n"
            ],
            "text/markdown": "\nA matrix: 2 × 3 of type dbl\n\n| 12 | 15 |  3 |\n| 17 | 46 | 45 |\n\n",
            "text/latex": "A matrix: 2 × 3 of type dbl\n\\begin{tabular}{lll}\n\t 12 & 15 &  3\\\\\n\t 17 & 46 & 45\\\\\n\\end{tabular}\n",
            "text/plain": [
              "     [,1] [,2] [,3]\n",
              "[1,] 12   15    3  \n",
              "[2,] 17   46   45  "
            ]
          },
          "metadata": {}
        }
      ]
    },
    {
      "cell_type": "code",
      "source": [
        "m\n",
        "#matrisin 1 ile 3. satirini ve 2 ile 3. sutunlarini goz onune alalim\n",
        "m [c(1,3),c(2,3)]"
      ],
      "metadata": {
        "colab": {
          "base_uri": "https://localhost:8080/",
          "height": 260
        },
        "id": "7baZgm9JVUoH",
        "outputId": "eb6a6348-5fa3-4fba-95dc-e813144a6215"
      },
      "execution_count": 64,
      "outputs": [
        {
          "output_type": "display_data",
          "data": {
            "text/html": [
              "<table class=\"dataframe\">\n",
              "<caption>A matrix: 3 × 3 of type dbl</caption>\n",
              "<tbody>\n",
              "\t<tr><td>12</td><td>15</td><td> 3</td></tr>\n",
              "\t<tr><td>17</td><td>46</td><td>45</td></tr>\n",
              "\t<tr><td>23</td><td>17</td><td>29</td></tr>\n",
              "</tbody>\n",
              "</table>\n"
            ],
            "text/markdown": "\nA matrix: 3 × 3 of type dbl\n\n| 12 | 15 |  3 |\n| 17 | 46 | 45 |\n| 23 | 17 | 29 |\n\n",
            "text/latex": "A matrix: 3 × 3 of type dbl\n\\begin{tabular}{lll}\n\t 12 & 15 &  3\\\\\n\t 17 & 46 & 45\\\\\n\t 23 & 17 & 29\\\\\n\\end{tabular}\n",
            "text/plain": [
              "     [,1] [,2] [,3]\n",
              "[1,] 12   15    3  \n",
              "[2,] 17   46   45  \n",
              "[3,] 23   17   29  "
            ]
          },
          "metadata": {}
        },
        {
          "output_type": "display_data",
          "data": {
            "text/html": [
              "<table class=\"dataframe\">\n",
              "<caption>A matrix: 2 × 2 of type dbl</caption>\n",
              "<tbody>\n",
              "\t<tr><td>15</td><td> 3</td></tr>\n",
              "\t<tr><td>17</td><td>29</td></tr>\n",
              "</tbody>\n",
              "</table>\n"
            ],
            "text/markdown": "\nA matrix: 2 × 2 of type dbl\n\n| 15 |  3 |\n| 17 | 29 |\n\n",
            "text/latex": "A matrix: 2 × 2 of type dbl\n\\begin{tabular}{ll}\n\t 15 &  3\\\\\n\t 17 & 29\\\\\n\\end{tabular}\n",
            "text/plain": [
              "     [,1] [,2]\n",
              "[1,] 15    3  \n",
              "[2,] 17   29  "
            ]
          },
          "metadata": {}
        }
      ]
    },
    {
      "cell_type": "code",
      "source": [
        "\n",
        "#bir kosula uyan matris elemaninin bulunmasi\n",
        "#ornegin 20 den kucuk olanlari bulalim\n",
        "m <- matrix(c(12,17,23,15,46,17,3,45,29),3)\n",
        "m\n",
        "m [m <20]"
      ],
      "metadata": {
        "colab": {
          "base_uri": "https://localhost:8080/",
          "height": 163
        },
        "id": "NgaYcYsaVrYy",
        "outputId": "10bb98e5-3a5b-409e-fb0b-63234c60748c"
      },
      "execution_count": 65,
      "outputs": [
        {
          "output_type": "display_data",
          "data": {
            "text/html": [
              "<table class=\"dataframe\">\n",
              "<caption>A matrix: 3 × 3 of type dbl</caption>\n",
              "<tbody>\n",
              "\t<tr><td>12</td><td>15</td><td> 3</td></tr>\n",
              "\t<tr><td>17</td><td>46</td><td>45</td></tr>\n",
              "\t<tr><td>23</td><td>17</td><td>29</td></tr>\n",
              "</tbody>\n",
              "</table>\n"
            ],
            "text/markdown": "\nA matrix: 3 × 3 of type dbl\n\n| 12 | 15 |  3 |\n| 17 | 46 | 45 |\n| 23 | 17 | 29 |\n\n",
            "text/latex": "A matrix: 3 × 3 of type dbl\n\\begin{tabular}{lll}\n\t 12 & 15 &  3\\\\\n\t 17 & 46 & 45\\\\\n\t 23 & 17 & 29\\\\\n\\end{tabular}\n",
            "text/plain": [
              "     [,1] [,2] [,3]\n",
              "[1,] 12   15    3  \n",
              "[2,] 17   46   45  \n",
              "[3,] 23   17   29  "
            ]
          },
          "metadata": {}
        },
        {
          "output_type": "display_data",
          "data": {
            "text/html": [
              "<style>\n",
              ".list-inline {list-style: none; margin:0; padding: 0}\n",
              ".list-inline>li {display: inline-block}\n",
              ".list-inline>li:not(:last-child)::after {content: \"\\00b7\"; padding: 0 .5ex}\n",
              "</style>\n",
              "<ol class=list-inline><li>12</li><li>17</li><li>15</li><li>17</li><li>3</li></ol>\n"
            ],
            "text/markdown": "1. 12\n2. 17\n3. 15\n4. 17\n5. 3\n\n\n",
            "text/latex": "\\begin{enumerate*}\n\\item 12\n\\item 17\n\\item 15\n\\item 17\n\\item 3\n\\end{enumerate*}\n",
            "text/plain": [
              "[1] 12 17 15 17  3"
            ]
          },
          "metadata": {}
        }
      ]
    },
    {
      "cell_type": "code",
      "source": [
        "#isimlendirilmis matris elemanlarina erisim\n",
        "m <- matrix(c(12,17,23,15,46,17,3,45,29),3,dimnames=list(c(\"I\",\"II\",\"III\"), c(\"A\",\"B\",\"C\")))\n",
        "m\n",
        "m[\"I\",\"A\"]"
      ],
      "metadata": {
        "colab": {
          "base_uri": "https://localhost:8080/",
          "height": 195
        },
        "id": "kzjIslwOVu2w",
        "outputId": "0967d745-7ecf-477d-b1e9-c21f8c1d640b"
      },
      "execution_count": 66,
      "outputs": [
        {
          "output_type": "display_data",
          "data": {
            "text/html": [
              "<table class=\"dataframe\">\n",
              "<caption>A matrix: 3 × 3 of type dbl</caption>\n",
              "<thead>\n",
              "\t<tr><th></th><th scope=col>A</th><th scope=col>B</th><th scope=col>C</th></tr>\n",
              "</thead>\n",
              "<tbody>\n",
              "\t<tr><th scope=row>I</th><td>12</td><td>15</td><td> 3</td></tr>\n",
              "\t<tr><th scope=row>II</th><td>17</td><td>46</td><td>45</td></tr>\n",
              "\t<tr><th scope=row>III</th><td>23</td><td>17</td><td>29</td></tr>\n",
              "</tbody>\n",
              "</table>\n"
            ],
            "text/markdown": "\nA matrix: 3 × 3 of type dbl\n\n| <!--/--> | A | B | C |\n|---|---|---|---|\n| I | 12 | 15 |  3 |\n| II | 17 | 46 | 45 |\n| III | 23 | 17 | 29 |\n\n",
            "text/latex": "A matrix: 3 × 3 of type dbl\n\\begin{tabular}{r|lll}\n  & A & B & C\\\\\n\\hline\n\tI & 12 & 15 &  3\\\\\n\tII & 17 & 46 & 45\\\\\n\tIII & 23 & 17 & 29\\\\\n\\end{tabular}\n",
            "text/plain": [
              "    A  B  C \n",
              "I   12 15  3\n",
              "II  17 46 45\n",
              "III 23 17 29"
            ]
          },
          "metadata": {}
        },
        {
          "output_type": "display_data",
          "data": {
            "text/html": [
              "12"
            ],
            "text/markdown": "12",
            "text/latex": "12",
            "text/plain": [
              "[1] 12"
            ]
          },
          "metadata": {}
        }
      ]
    },
    {
      "cell_type": "code",
      "source": [
        "#matrisin sadece sutunlari isimlendirilmis ise bu matrisiN \"A\", ve \"C\"sutunlarina bakalim\n",
        "m <- matrix(c(12,17,23,15,46,17,3,45,29),3)\n",
        "colnames(m) <- c(\"A\",\"B\",\"C\")\n",
        "m\n",
        "\n",
        "m[,c(\"A\",\"C\")]"
      ],
      "metadata": {
        "colab": {
          "base_uri": "https://localhost:8080/",
          "height": 356
        },
        "id": "hS753z9EVyi4",
        "outputId": "7a78c498-d103-42f6-c2d4-f514a2e2a00e"
      },
      "execution_count": 67,
      "outputs": [
        {
          "output_type": "display_data",
          "data": {
            "text/html": [
              "<table class=\"dataframe\">\n",
              "<caption>A matrix: 3 × 3 of type dbl</caption>\n",
              "<thead>\n",
              "\t<tr><th scope=col>A</th><th scope=col>B</th><th scope=col>C</th></tr>\n",
              "</thead>\n",
              "<tbody>\n",
              "\t<tr><td>12</td><td>15</td><td> 3</td></tr>\n",
              "\t<tr><td>17</td><td>46</td><td>45</td></tr>\n",
              "\t<tr><td>23</td><td>17</td><td>29</td></tr>\n",
              "</tbody>\n",
              "</table>\n"
            ],
            "text/markdown": "\nA matrix: 3 × 3 of type dbl\n\n| A | B | C |\n|---|---|---|\n| 12 | 15 |  3 |\n| 17 | 46 | 45 |\n| 23 | 17 | 29 |\n\n",
            "text/latex": "A matrix: 3 × 3 of type dbl\n\\begin{tabular}{lll}\n A & B & C\\\\\n\\hline\n\t 12 & 15 &  3\\\\\n\t 17 & 46 & 45\\\\\n\t 23 & 17 & 29\\\\\n\\end{tabular}\n",
            "text/plain": [
              "     A  B  C \n",
              "[1,] 12 15  3\n",
              "[2,] 17 46 45\n",
              "[3,] 23 17 29"
            ]
          },
          "metadata": {}
        },
        {
          "output_type": "display_data",
          "data": {
            "text/html": [
              "<table class=\"dataframe\">\n",
              "<caption>A matrix: 3 × 2 of type dbl</caption>\n",
              "<thead>\n",
              "\t<tr><th scope=col>A</th><th scope=col>C</th></tr>\n",
              "</thead>\n",
              "<tbody>\n",
              "\t<tr><td>12</td><td> 3</td></tr>\n",
              "\t<tr><td>17</td><td>45</td></tr>\n",
              "\t<tr><td>23</td><td>29</td></tr>\n",
              "</tbody>\n",
              "</table>\n"
            ],
            "text/markdown": "\nA matrix: 3 × 2 of type dbl\n\n| A | C |\n|---|---|\n| 12 |  3 |\n| 17 | 45 |\n| 23 | 29 |\n\n",
            "text/latex": "A matrix: 3 × 2 of type dbl\n\\begin{tabular}{ll}\n A & C\\\\\n\\hline\n\t 12 &  3\\\\\n\t 17 & 45\\\\\n\t 23 & 29\\\\\n\\end{tabular}\n",
            "text/plain": [
              "     A  C \n",
              "[1,] 12  3\n",
              "[2,] 17 45\n",
              "[3,] 23 29"
            ]
          },
          "metadata": {}
        }
      ]
    },
    {
      "cell_type": "code",
      "source": [
        "#matris elemanlarinin degistirilmesi\n",
        "#matrisin elemanlari indeksler kullanilarak degistirilebilir\n",
        "#ornegin 2. satir 3. sutundaki 45 elemanini 20 olarak degistirelim\n",
        "m <- matrix(c(12,17,23,15,46,17,3,45,29),3)\n",
        "m\n",
        "\n",
        "m[2,3] <- 20\n",
        "m"
      ],
      "metadata": {
        "id": "EBwioQkLV2C4"
      },
      "execution_count": null,
      "outputs": []
    },
    {
      "cell_type": "code",
      "source": [
        "#matrisin 3. sutununu topluca 10 yapalim\n",
        "m[,3] <- 10\n",
        "m"
      ],
      "metadata": {
        "colab": {
          "base_uri": "https://localhost:8080/",
          "height": 178
        },
        "id": "Pxu5USoaV_Fg",
        "outputId": "dc820678-bb3b-4ac6-e78d-678a1f319e49"
      },
      "execution_count": 68,
      "outputs": [
        {
          "output_type": "display_data",
          "data": {
            "text/html": [
              "<table class=\"dataframe\">\n",
              "<caption>A matrix: 3 × 3 of type dbl</caption>\n",
              "<thead>\n",
              "\t<tr><th scope=col>A</th><th scope=col>B</th><th scope=col>C</th></tr>\n",
              "</thead>\n",
              "<tbody>\n",
              "\t<tr><td>12</td><td>15</td><td>10</td></tr>\n",
              "\t<tr><td>17</td><td>46</td><td>10</td></tr>\n",
              "\t<tr><td>23</td><td>17</td><td>10</td></tr>\n",
              "</tbody>\n",
              "</table>\n"
            ],
            "text/markdown": "\nA matrix: 3 × 3 of type dbl\n\n| A | B | C |\n|---|---|---|\n| 12 | 15 | 10 |\n| 17 | 46 | 10 |\n| 23 | 17 | 10 |\n\n",
            "text/latex": "A matrix: 3 × 3 of type dbl\n\\begin{tabular}{lll}\n A & B & C\\\\\n\\hline\n\t 12 & 15 & 10\\\\\n\t 17 & 46 & 10\\\\\n\t 23 & 17 & 10\\\\\n\\end{tabular}\n",
            "text/plain": [
              "     A  B  C \n",
              "[1,] 12 15 10\n",
              "[2,] 17 46 10\n",
              "[3,] 23 17 10"
            ]
          },
          "metadata": {}
        }
      ]
    },
    {
      "cell_type": "code",
      "source": [
        "#bir koşul tanimalayarak 25 ten kucuk olanlarin yerine 0 atayalim\n",
        "m <- matrix(c(12,17,23,15,46,17,3,45,29),3)\n",
        "m\n",
        "\n",
        "m [m <25] <- 0\n",
        "m"
      ],
      "metadata": {
        "colab": {
          "base_uri": "https://localhost:8080/",
          "height": 274
        },
        "id": "7P4VYhpoWDiv",
        "outputId": "496cc092-2f06-453e-cfd2-76efd0511581"
      },
      "execution_count": 69,
      "outputs": [
        {
          "output_type": "display_data",
          "data": {
            "text/html": [
              "<table class=\"dataframe\">\n",
              "<caption>A matrix: 3 × 3 of type dbl</caption>\n",
              "<tbody>\n",
              "\t<tr><td>12</td><td>15</td><td> 3</td></tr>\n",
              "\t<tr><td>17</td><td>46</td><td>45</td></tr>\n",
              "\t<tr><td>23</td><td>17</td><td>29</td></tr>\n",
              "</tbody>\n",
              "</table>\n"
            ],
            "text/markdown": "\nA matrix: 3 × 3 of type dbl\n\n| 12 | 15 |  3 |\n| 17 | 46 | 45 |\n| 23 | 17 | 29 |\n\n",
            "text/latex": "A matrix: 3 × 3 of type dbl\n\\begin{tabular}{lll}\n\t 12 & 15 &  3\\\\\n\t 17 & 46 & 45\\\\\n\t 23 & 17 & 29\\\\\n\\end{tabular}\n",
            "text/plain": [
              "     [,1] [,2] [,3]\n",
              "[1,] 12   15    3  \n",
              "[2,] 17   46   45  \n",
              "[3,] 23   17   29  "
            ]
          },
          "metadata": {}
        },
        {
          "output_type": "display_data",
          "data": {
            "text/html": [
              "<table class=\"dataframe\">\n",
              "<caption>A matrix: 3 × 3 of type dbl</caption>\n",
              "<tbody>\n",
              "\t<tr><td>0</td><td> 0</td><td> 0</td></tr>\n",
              "\t<tr><td>0</td><td>46</td><td>45</td></tr>\n",
              "\t<tr><td>0</td><td> 0</td><td>29</td></tr>\n",
              "</tbody>\n",
              "</table>\n"
            ],
            "text/markdown": "\nA matrix: 3 × 3 of type dbl\n\n| 0 |  0 |  0 |\n| 0 | 46 | 45 |\n| 0 |  0 | 29 |\n\n",
            "text/latex": "A matrix: 3 × 3 of type dbl\n\\begin{tabular}{lll}\n\t 0 &  0 &  0\\\\\n\t 0 & 46 & 45\\\\\n\t 0 &  0 & 29\\\\\n\\end{tabular}\n",
            "text/plain": [
              "     [,1] [,2] [,3]\n",
              "[1,] 0     0    0  \n",
              "[2,] 0    46   45  \n",
              "[3,] 0     0   29  "
            ]
          },
          "metadata": {}
        }
      ]
    },
    {
      "cell_type": "code",
      "source": [
        "#matris elemanlarinin silinmesi\n",
        "#satir ve sutunlarin elemanlari silinebilir - ile islem yapılır\n",
        "m <- matrix(c(12,17,23,15,46,17,3,45,29),3)\n",
        "m\n",
        "m <- m[-3,] #3. satir silindi\n",
        "m"
      ],
      "metadata": {
        "colab": {
          "base_uri": "https://localhost:8080/",
          "height": 243
        },
        "id": "9QuRyEaaWGd2",
        "outputId": "ea187a07-8278-42d2-af4b-0db0e13b2386"
      },
      "execution_count": 70,
      "outputs": [
        {
          "output_type": "display_data",
          "data": {
            "text/html": [
              "<table class=\"dataframe\">\n",
              "<caption>A matrix: 3 × 3 of type dbl</caption>\n",
              "<tbody>\n",
              "\t<tr><td>12</td><td>15</td><td> 3</td></tr>\n",
              "\t<tr><td>17</td><td>46</td><td>45</td></tr>\n",
              "\t<tr><td>23</td><td>17</td><td>29</td></tr>\n",
              "</tbody>\n",
              "</table>\n"
            ],
            "text/markdown": "\nA matrix: 3 × 3 of type dbl\n\n| 12 | 15 |  3 |\n| 17 | 46 | 45 |\n| 23 | 17 | 29 |\n\n",
            "text/latex": "A matrix: 3 × 3 of type dbl\n\\begin{tabular}{lll}\n\t 12 & 15 &  3\\\\\n\t 17 & 46 & 45\\\\\n\t 23 & 17 & 29\\\\\n\\end{tabular}\n",
            "text/plain": [
              "     [,1] [,2] [,3]\n",
              "[1,] 12   15    3  \n",
              "[2,] 17   46   45  \n",
              "[3,] 23   17   29  "
            ]
          },
          "metadata": {}
        },
        {
          "output_type": "display_data",
          "data": {
            "text/html": [
              "<table class=\"dataframe\">\n",
              "<caption>A matrix: 2 × 3 of type dbl</caption>\n",
              "<tbody>\n",
              "\t<tr><td>12</td><td>15</td><td> 3</td></tr>\n",
              "\t<tr><td>17</td><td>46</td><td>45</td></tr>\n",
              "</tbody>\n",
              "</table>\n"
            ],
            "text/markdown": "\nA matrix: 2 × 3 of type dbl\n\n| 12 | 15 |  3 |\n| 17 | 46 | 45 |\n\n",
            "text/latex": "A matrix: 2 × 3 of type dbl\n\\begin{tabular}{lll}\n\t 12 & 15 &  3\\\\\n\t 17 & 46 & 45\\\\\n\\end{tabular}\n",
            "text/plain": [
              "     [,1] [,2] [,3]\n",
              "[1,] 12   15    3  \n",
              "[2,] 17   46   45  "
            ]
          },
          "metadata": {}
        }
      ]
    },
    {
      "cell_type": "code",
      "source": [
        "#simdi de sutun silelim\n",
        "m <- matrix(c(12,17,23,15,46,17,3,45,29),3)\n",
        "m\n",
        "m <- m[,-2] #2. sutun silindi\n",
        "m\n"
      ],
      "metadata": {
        "colab": {
          "base_uri": "https://localhost:8080/",
          "height": 292
        },
        "id": "rQ5yvAcLWMEY",
        "outputId": "1eebc31b-26bd-4579-d5d6-20b4a781bc56"
      },
      "execution_count": 71,
      "outputs": [
        {
          "output_type": "display_data",
          "data": {
            "text/html": [
              "<table class=\"dataframe\">\n",
              "<caption>A matrix: 3 × 3 of type dbl</caption>\n",
              "<tbody>\n",
              "\t<tr><td>12</td><td>15</td><td> 3</td></tr>\n",
              "\t<tr><td>17</td><td>46</td><td>45</td></tr>\n",
              "\t<tr><td>23</td><td>17</td><td>29</td></tr>\n",
              "</tbody>\n",
              "</table>\n"
            ],
            "text/markdown": "\nA matrix: 3 × 3 of type dbl\n\n| 12 | 15 |  3 |\n| 17 | 46 | 45 |\n| 23 | 17 | 29 |\n\n",
            "text/latex": "A matrix: 3 × 3 of type dbl\n\\begin{tabular}{lll}\n\t 12 & 15 &  3\\\\\n\t 17 & 46 & 45\\\\\n\t 23 & 17 & 29\\\\\n\\end{tabular}\n",
            "text/plain": [
              "     [,1] [,2] [,3]\n",
              "[1,] 12   15    3  \n",
              "[2,] 17   46   45  \n",
              "[3,] 23   17   29  "
            ]
          },
          "metadata": {}
        },
        {
          "output_type": "display_data",
          "data": {
            "text/html": [
              "<table class=\"dataframe\">\n",
              "<caption>A matrix: 3 × 2 of type dbl</caption>\n",
              "<tbody>\n",
              "\t<tr><td>12</td><td> 3</td></tr>\n",
              "\t<tr><td>17</td><td>45</td></tr>\n",
              "\t<tr><td>23</td><td>29</td></tr>\n",
              "</tbody>\n",
              "</table>\n"
            ],
            "text/markdown": "\nA matrix: 3 × 2 of type dbl\n\n| 12 |  3 |\n| 17 | 45 |\n| 23 | 29 |\n\n",
            "text/latex": "A matrix: 3 × 2 of type dbl\n\\begin{tabular}{ll}\n\t 12 &  3\\\\\n\t 17 & 45\\\\\n\t 23 & 29\\\\\n\\end{tabular}\n",
            "text/plain": [
              "     [,1] [,2]\n",
              "[1,] 12    3  \n",
              "[2,] 17   45  \n",
              "[3,] 23   29  "
            ]
          },
          "metadata": {}
        }
      ]
    },
    {
      "cell_type": "code",
      "source": [
        "#iki matrisin birlestirilmesi\n",
        "m1 <- matrix(c(12,17,23,15,46,17,3,45,29),3)\n",
        "m1\n",
        "\n",
        "m2 <- matrix(c(8,5,3,1,6,7,34,43,9),3)\n",
        "m2\n",
        "#satirlar bazinda birlestirelim\n",
        "rbind (m1,m2)\n",
        "#sutunlar bazinda birlesitirelim\n",
        "cbind(m1,m2)"
      ],
      "metadata": {
        "colab": {
          "base_uri": "https://localhost:8080/",
          "height": 515
        },
        "id": "I71r5rBrWQHW",
        "outputId": "67a5b8bc-124e-4b85-c767-7f72863bd237"
      },
      "execution_count": 73,
      "outputs": [
        {
          "output_type": "display_data",
          "data": {
            "text/html": [
              "<table class=\"dataframe\">\n",
              "<caption>A matrix: 3 × 3 of type dbl</caption>\n",
              "<tbody>\n",
              "\t<tr><td>12</td><td>15</td><td> 3</td></tr>\n",
              "\t<tr><td>17</td><td>46</td><td>45</td></tr>\n",
              "\t<tr><td>23</td><td>17</td><td>29</td></tr>\n",
              "</tbody>\n",
              "</table>\n"
            ],
            "text/markdown": "\nA matrix: 3 × 3 of type dbl\n\n| 12 | 15 |  3 |\n| 17 | 46 | 45 |\n| 23 | 17 | 29 |\n\n",
            "text/latex": "A matrix: 3 × 3 of type dbl\n\\begin{tabular}{lll}\n\t 12 & 15 &  3\\\\\n\t 17 & 46 & 45\\\\\n\t 23 & 17 & 29\\\\\n\\end{tabular}\n",
            "text/plain": [
              "     [,1] [,2] [,3]\n",
              "[1,] 12   15    3  \n",
              "[2,] 17   46   45  \n",
              "[3,] 23   17   29  "
            ]
          },
          "metadata": {}
        },
        {
          "output_type": "display_data",
          "data": {
            "text/html": [
              "<table class=\"dataframe\">\n",
              "<caption>A matrix: 3 × 3 of type dbl</caption>\n",
              "<tbody>\n",
              "\t<tr><td>8</td><td>1</td><td>34</td></tr>\n",
              "\t<tr><td>5</td><td>6</td><td>43</td></tr>\n",
              "\t<tr><td>3</td><td>7</td><td> 9</td></tr>\n",
              "</tbody>\n",
              "</table>\n"
            ],
            "text/markdown": "\nA matrix: 3 × 3 of type dbl\n\n| 8 | 1 | 34 |\n| 5 | 6 | 43 |\n| 3 | 7 |  9 |\n\n",
            "text/latex": "A matrix: 3 × 3 of type dbl\n\\begin{tabular}{lll}\n\t 8 & 1 & 34\\\\\n\t 5 & 6 & 43\\\\\n\t 3 & 7 &  9\\\\\n\\end{tabular}\n",
            "text/plain": [
              "     [,1] [,2] [,3]\n",
              "[1,] 8    1    34  \n",
              "[2,] 5    6    43  \n",
              "[3,] 3    7     9  "
            ]
          },
          "metadata": {}
        },
        {
          "output_type": "display_data",
          "data": {
            "text/html": [
              "<table class=\"dataframe\">\n",
              "<caption>A matrix: 6 × 3 of type dbl</caption>\n",
              "<tbody>\n",
              "\t<tr><td>12</td><td>15</td><td> 3</td></tr>\n",
              "\t<tr><td>17</td><td>46</td><td>45</td></tr>\n",
              "\t<tr><td>23</td><td>17</td><td>29</td></tr>\n",
              "\t<tr><td> 8</td><td> 1</td><td>34</td></tr>\n",
              "\t<tr><td> 5</td><td> 6</td><td>43</td></tr>\n",
              "\t<tr><td> 3</td><td> 7</td><td> 9</td></tr>\n",
              "</tbody>\n",
              "</table>\n"
            ],
            "text/markdown": "\nA matrix: 6 × 3 of type dbl\n\n| 12 | 15 |  3 |\n| 17 | 46 | 45 |\n| 23 | 17 | 29 |\n|  8 |  1 | 34 |\n|  5 |  6 | 43 |\n|  3 |  7 |  9 |\n\n",
            "text/latex": "A matrix: 6 × 3 of type dbl\n\\begin{tabular}{lll}\n\t 12 & 15 &  3\\\\\n\t 17 & 46 & 45\\\\\n\t 23 & 17 & 29\\\\\n\t  8 &  1 & 34\\\\\n\t  5 &  6 & 43\\\\\n\t  3 &  7 &  9\\\\\n\\end{tabular}\n",
            "text/plain": [
              "     [,1] [,2] [,3]\n",
              "[1,] 12   15    3  \n",
              "[2,] 17   46   45  \n",
              "[3,] 23   17   29  \n",
              "[4,]  8    1   34  \n",
              "[5,]  5    6   43  \n",
              "[6,]  3    7    9  "
            ]
          },
          "metadata": {}
        }
      ]
    },
    {
      "cell_type": "code",
      "source": [
        "#matrisin en buyuk ve en kucuk elemani\n",
        "m <- matrix(c(12,17,23,15,46,17,3,45,29),3)\n",
        "m\n",
        "max(m)\n",
        "min(m)\n"
      ],
      "metadata": {
        "colab": {
          "base_uri": "https://localhost:8080/",
          "height": 180
        },
        "id": "gybFqdFOWXS8",
        "outputId": "939fc140-5ee6-467c-d01e-fd86ed260757"
      },
      "execution_count": 74,
      "outputs": [
        {
          "output_type": "display_data",
          "data": {
            "text/html": [
              "<table class=\"dataframe\">\n",
              "<caption>A matrix: 3 × 3 of type dbl</caption>\n",
              "<tbody>\n",
              "\t<tr><td>12</td><td>15</td><td> 3</td></tr>\n",
              "\t<tr><td>17</td><td>46</td><td>45</td></tr>\n",
              "\t<tr><td>23</td><td>17</td><td>29</td></tr>\n",
              "</tbody>\n",
              "</table>\n"
            ],
            "text/markdown": "\nA matrix: 3 × 3 of type dbl\n\n| 12 | 15 |  3 |\n| 17 | 46 | 45 |\n| 23 | 17 | 29 |\n\n",
            "text/latex": "A matrix: 3 × 3 of type dbl\n\\begin{tabular}{lll}\n\t 12 & 15 &  3\\\\\n\t 17 & 46 & 45\\\\\n\t 23 & 17 & 29\\\\\n\\end{tabular}\n",
            "text/plain": [
              "     [,1] [,2] [,3]\n",
              "[1,] 12   15    3  \n",
              "[2,] 17   46   45  \n",
              "[3,] 23   17   29  "
            ]
          },
          "metadata": {}
        },
        {
          "output_type": "display_data",
          "data": {
            "text/html": [
              "46"
            ],
            "text/markdown": "46",
            "text/latex": "46",
            "text/plain": [
              "[1] 46"
            ]
          },
          "metadata": {}
        },
        {
          "output_type": "display_data",
          "data": {
            "text/html": [
              "3"
            ],
            "text/markdown": "3",
            "text/latex": "3",
            "text/plain": [
              "[1] 3"
            ]
          },
          "metadata": {}
        }
      ]
    },
    {
      "cell_type": "code",
      "source": [
        "#spesifik bir sutundan en buyuk elemani bulacaksak.\n",
        "#mesela 2. sutundan en buyuk eleman\n",
        "max(m[,2])\n",
        "min(m[3,]) #3. satirdan en kucuk eleman"
      ],
      "metadata": {
        "colab": {
          "base_uri": "https://localhost:8080/",
          "height": 52
        },
        "id": "hO_7xwrJWgP2",
        "outputId": "5cab7c9a-9744-497e-fd98-6f8fdd126df1"
      },
      "execution_count": 75,
      "outputs": [
        {
          "output_type": "display_data",
          "data": {
            "text/html": [
              "46"
            ],
            "text/markdown": "46",
            "text/latex": "46",
            "text/plain": [
              "[1] 46"
            ]
          },
          "metadata": {}
        },
        {
          "output_type": "display_data",
          "data": {
            "text/html": [
              "17"
            ],
            "text/markdown": "17",
            "text/latex": "17",
            "text/plain": [
              "[1] 17"
            ]
          },
          "metadata": {}
        }
      ]
    },
    {
      "cell_type": "code",
      "source": [
        "#satir ve sutunlarin toplami\n",
        "m <- matrix(c(12,17,23,15,46,17,3,45,29),3)\n",
        "m\n",
        "sum(m)\n",
        "#tum sutunlari vektor halinde toplamak icin\n",
        "colSums(m)\n",
        "#sutunlarin toplamini tek tek gormek icin\n",
        "colSums(m)[1]#BİRİNCİ SUTUN TOPLAMİ\n",
        "colSums(m)[2]#İKİNCİ SUTUN TOPLAMI\n",
        "colSums(m)[3]#UCUNCU SUTUN TOPLAMI\n",
        "#ayni sonuca su sekilde de ulasilir\n",
        "sum(m[,1])#BİRİNCİ SUTUN TOPLAMİ"
      ],
      "metadata": {
        "id": "2KvAD_QdWlQQ"
      },
      "execution_count": null,
      "outputs": []
    },
    {
      "cell_type": "code",
      "source": [
        "#tum satirlari vektor halinde toplamak icin\n",
        "rowSums(m) # 30 108 69\n",
        "\n",
        "#satir ve sutun ortalamalari rowMeans colMeans\n",
        "m <- matrix(c(12,17,23,15,46,17,3,45,29),3)\n",
        "m\n",
        "rowMeans(m)\n",
        "colMeans(m)\n",
        "mean(m)"
      ],
      "metadata": {
        "id": "qb9jeMdhWo8y"
      },
      "execution_count": null,
      "outputs": []
    },
    {
      "cell_type": "code",
      "source": [
        "## apply fonksiyonu\n",
        "#apply(matris, kenar, foksiyon)\n",
        "# matrislere bir fonksiyon ile tanimlanan bir islem uygulamamiz soz konusu ise\n",
        "#eger satir islemleri yapilacak ise kenar parametresi olarak 1,\n",
        "#sutun islemleri yapilacak ise kenar parametresi olarak 2 kaydedilir\n",
        "#ornegin herbir satirin toplamini ayri ayri hesaplayarak bir vektor biciminde goruntulenmek uzere\n",
        "#sum fonksiyonunu kullanalim\n",
        "m <- matrix(c(12,17,23,15,46,17,3,45,29),3)\n",
        "m\n",
        "apply(m,1,sum)\n",
        "\n"
      ],
      "metadata": {
        "colab": {
          "base_uri": "https://localhost:8080/",
          "height": 163
        },
        "id": "lRBik5nFWyeQ",
        "outputId": "5e133253-547c-461e-ecf3-ded5f0b016a8"
      },
      "execution_count": 79,
      "outputs": [
        {
          "output_type": "display_data",
          "data": {
            "text/html": [
              "<table class=\"dataframe\">\n",
              "<caption>A matrix: 3 × 3 of type dbl</caption>\n",
              "<tbody>\n",
              "\t<tr><td>12</td><td>15</td><td> 3</td></tr>\n",
              "\t<tr><td>17</td><td>46</td><td>45</td></tr>\n",
              "\t<tr><td>23</td><td>17</td><td>29</td></tr>\n",
              "</tbody>\n",
              "</table>\n"
            ],
            "text/markdown": "\nA matrix: 3 × 3 of type dbl\n\n| 12 | 15 |  3 |\n| 17 | 46 | 45 |\n| 23 | 17 | 29 |\n\n",
            "text/latex": "A matrix: 3 × 3 of type dbl\n\\begin{tabular}{lll}\n\t 12 & 15 &  3\\\\\n\t 17 & 46 & 45\\\\\n\t 23 & 17 & 29\\\\\n\\end{tabular}\n",
            "text/plain": [
              "     [,1] [,2] [,3]\n",
              "[1,] 12   15    3  \n",
              "[2,] 17   46   45  \n",
              "[3,] 23   17   29  "
            ]
          },
          "metadata": {}
        },
        {
          "output_type": "display_data",
          "data": {
            "text/html": [
              "<style>\n",
              ".list-inline {list-style: none; margin:0; padding: 0}\n",
              ".list-inline>li {display: inline-block}\n",
              ".list-inline>li:not(:last-child)::after {content: \"\\00b7\"; padding: 0 .5ex}\n",
              "</style>\n",
              "<ol class=list-inline><li>30</li><li>108</li><li>69</li></ol>\n"
            ],
            "text/markdown": "1. 30\n2. 108\n3. 69\n\n\n",
            "text/latex": "\\begin{enumerate*}\n\\item 30\n\\item 108\n\\item 69\n\\end{enumerate*}\n",
            "text/plain": [
              "[1]  30 108  69"
            ]
          },
          "metadata": {}
        }
      ]
    },
    {
      "cell_type": "code",
      "source": [
        "#ayni islemi sutunlar uzerinden yapalim\n",
        "apply(m,2,sum)\n",
        "\n",
        "#her bir satir icindeki en buyuk degerleri elde etmek icin max parametresi kullanilabilir\n",
        "apply(m,1,max)"
      ],
      "metadata": {
        "colab": {
          "base_uri": "https://localhost:8080/",
          "height": 52
        },
        "id": "zWU20HRFXAJI",
        "outputId": "bd2a26bc-c33f-4d55-81b9-e72ace6394e5"
      },
      "execution_count": 78,
      "outputs": [
        {
          "output_type": "display_data",
          "data": {
            "text/html": [
              "<style>\n",
              ".list-inline {list-style: none; margin:0; padding: 0}\n",
              ".list-inline>li {display: inline-block}\n",
              ".list-inline>li:not(:last-child)::after {content: \"\\00b7\"; padding: 0 .5ex}\n",
              "</style>\n",
              "<ol class=list-inline><li>52</li><li>78</li><li>77</li></ol>\n"
            ],
            "text/markdown": "1. 52\n2. 78\n3. 77\n\n\n",
            "text/latex": "\\begin{enumerate*}\n\\item 52\n\\item 78\n\\item 77\n\\end{enumerate*}\n",
            "text/plain": [
              "[1] 52 78 77"
            ]
          },
          "metadata": {}
        },
        {
          "output_type": "display_data",
          "data": {
            "text/html": [
              "<style>\n",
              ".list-inline {list-style: none; margin:0; padding: 0}\n",
              ".list-inline>li {display: inline-block}\n",
              ".list-inline>li:not(:last-child)::after {content: \"\\00b7\"; padding: 0 .5ex}\n",
              "</style>\n",
              "<ol class=list-inline><li>15</li><li>46</li><li>29</li></ol>\n"
            ],
            "text/markdown": "1. 15\n2. 46\n3. 29\n\n\n",
            "text/latex": "\\begin{enumerate*}\n\\item 15\n\\item 46\n\\item 29\n\\end{enumerate*}\n",
            "text/plain": [
              "[1] 15 46 29"
            ]
          },
          "metadata": {}
        }
      ]
    },
    {
      "cell_type": "code",
      "source": [
        "#Matrislerle cebirsel islemler\n",
        "#kosegen islemleri\n",
        "m <- matrix(c(12,17,23,15,46,17,3,45,29),3)\n",
        "m\n",
        "#       [,1]  [,2]  [,3]\n",
        "#[1,]   *12    15     3\n",
        "#[2,]    17   *46    45\n",
        "#[3,]    23    17   *29"
      ],
      "metadata": {
        "colab": {
          "base_uri": "https://localhost:8080/",
          "height": 146
        },
        "id": "ORdstX_aXHw_",
        "outputId": "cda04323-7382-4e10-e7eb-a25abbac29b8"
      },
      "execution_count": 80,
      "outputs": [
        {
          "output_type": "display_data",
          "data": {
            "text/html": [
              "<table class=\"dataframe\">\n",
              "<caption>A matrix: 3 × 3 of type dbl</caption>\n",
              "<tbody>\n",
              "\t<tr><td>12</td><td>15</td><td> 3</td></tr>\n",
              "\t<tr><td>17</td><td>46</td><td>45</td></tr>\n",
              "\t<tr><td>23</td><td>17</td><td>29</td></tr>\n",
              "</tbody>\n",
              "</table>\n"
            ],
            "text/markdown": "\nA matrix: 3 × 3 of type dbl\n\n| 12 | 15 |  3 |\n| 17 | 46 | 45 |\n| 23 | 17 | 29 |\n\n",
            "text/latex": "A matrix: 3 × 3 of type dbl\n\\begin{tabular}{lll}\n\t 12 & 15 &  3\\\\\n\t 17 & 46 & 45\\\\\n\t 23 & 17 & 29\\\\\n\\end{tabular}\n",
            "text/plain": [
              "     [,1] [,2] [,3]\n",
              "[1,] 12   15    3  \n",
              "[2,] 17   46   45  \n",
              "[3,] 23   17   29  "
            ]
          },
          "metadata": {}
        }
      ]
    },
    {
      "cell_type": "code",
      "source": [
        "#matrisin kosegenleri 12,46,29 bu kosegenleri R ile elde edelim\n",
        "diag(m)\n",
        "#kosegen elemanlarinin toplamini hesaplayalim\n",
        "sum(diag(m))\n",
        "\n",
        "#kosegen degerlerinin tumunu 1 yapalim\n",
        "m <- matrix(c(12,17,23,15,46,17,3,45,29),3)\n",
        "m\n",
        "diag(m) <- 1"
      ],
      "metadata": {
        "colab": {
          "base_uri": "https://localhost:8080/",
          "height": 180
        },
        "id": "wFaYSiMLXLkZ",
        "outputId": "f66a410b-ca8e-4658-dd83-811c2ad222fb"
      },
      "execution_count": 81,
      "outputs": [
        {
          "output_type": "display_data",
          "data": {
            "text/html": [
              "<style>\n",
              ".list-inline {list-style: none; margin:0; padding: 0}\n",
              ".list-inline>li {display: inline-block}\n",
              ".list-inline>li:not(:last-child)::after {content: \"\\00b7\"; padding: 0 .5ex}\n",
              "</style>\n",
              "<ol class=list-inline><li>12</li><li>46</li><li>29</li></ol>\n"
            ],
            "text/markdown": "1. 12\n2. 46\n3. 29\n\n\n",
            "text/latex": "\\begin{enumerate*}\n\\item 12\n\\item 46\n\\item 29\n\\end{enumerate*}\n",
            "text/plain": [
              "[1] 12 46 29"
            ]
          },
          "metadata": {}
        },
        {
          "output_type": "display_data",
          "data": {
            "text/html": [
              "87"
            ],
            "text/markdown": "87",
            "text/latex": "87",
            "text/plain": [
              "[1] 87"
            ]
          },
          "metadata": {}
        },
        {
          "output_type": "display_data",
          "data": {
            "text/html": [
              "<table class=\"dataframe\">\n",
              "<caption>A matrix: 3 × 3 of type dbl</caption>\n",
              "<tbody>\n",
              "\t<tr><td>12</td><td>15</td><td> 3</td></tr>\n",
              "\t<tr><td>17</td><td>46</td><td>45</td></tr>\n",
              "\t<tr><td>23</td><td>17</td><td>29</td></tr>\n",
              "</tbody>\n",
              "</table>\n"
            ],
            "text/markdown": "\nA matrix: 3 × 3 of type dbl\n\n| 12 | 15 |  3 |\n| 17 | 46 | 45 |\n| 23 | 17 | 29 |\n\n",
            "text/latex": "A matrix: 3 × 3 of type dbl\n\\begin{tabular}{lll}\n\t 12 & 15 &  3\\\\\n\t 17 & 46 & 45\\\\\n\t 23 & 17 & 29\\\\\n\\end{tabular}\n",
            "text/plain": [
              "     [,1] [,2] [,3]\n",
              "[1,] 12   15    3  \n",
              "[2,] 17   46   45  \n",
              "[3,] 23   17   29  "
            ]
          },
          "metadata": {}
        }
      ]
    },
    {
      "cell_type": "code",
      "source": [
        "#birim matris\n",
        "#birim matris kosegen elemanlari 1 diger elemanlari 0 olan bir kare matristir\n",
        "# diag() kosegen fonksiyonu birim matris elde etmek icin kullanalim\n",
        "m1 <- diag(3)\n",
        "m1"
      ],
      "metadata": {
        "colab": {
          "base_uri": "https://localhost:8080/",
          "height": 163
        },
        "id": "RiD44a_LXSWG",
        "outputId": "2d078d2e-5aa6-4d85-e0f3-586920d334a8"
      },
      "execution_count": 82,
      "outputs": [
        {
          "output_type": "display_data",
          "data": {
            "text/html": [
              "<table class=\"dataframe\">\n",
              "<caption>A matrix: 3 × 3 of type dbl</caption>\n",
              "<tbody>\n",
              "\t<tr><td>1</td><td>0</td><td>0</td></tr>\n",
              "\t<tr><td>0</td><td>1</td><td>0</td></tr>\n",
              "\t<tr><td>0</td><td>0</td><td>1</td></tr>\n",
              "</tbody>\n",
              "</table>\n"
            ],
            "text/markdown": "\nA matrix: 3 × 3 of type dbl\n\n| 1 | 0 | 0 |\n| 0 | 1 | 0 |\n| 0 | 0 | 1 |\n\n",
            "text/latex": "A matrix: 3 × 3 of type dbl\n\\begin{tabular}{lll}\n\t 1 & 0 & 0\\\\\n\t 0 & 1 & 0\\\\\n\t 0 & 0 & 1\\\\\n\\end{tabular}\n",
            "text/plain": [
              "     [,1] [,2] [,3]\n",
              "[1,] 1    0    0   \n",
              "[2,] 0    1    0   \n",
              "[3,] 0    0    1   "
            ]
          },
          "metadata": {}
        }
      ]
    },
    {
      "cell_type": "code",
      "source": [
        "#matris transpozesi\n",
        "#bir matrisin transpozesi satirlari ile sutunlarinin yer degistirmesi ile elde edilir\n",
        "m <- matrix(c(12,17,23,15,46,17,3,45,29),3)\n",
        "m\n",
        "#     [,1]  [,2]  [,3]\n",
        "#[1,]   12   15     3\n",
        "#[2,]   17   46    45\n",
        "#[3,]   23   17    29\n",
        "\n",
        "\n",
        "# t fonskiyonu ile transpozesini bulabiliriz\n",
        "t(m)\n",
        "#     [,1] [,2] [,3]\n",
        "#[1,]   12   17   23\n",
        "#[2,]   15   46   17\n",
        "#[3,]    3   45   29"
      ],
      "metadata": {
        "colab": {
          "base_uri": "https://localhost:8080/",
          "height": 274
        },
        "id": "qnc4aO3LXaRX",
        "outputId": "973bf749-849f-4e8e-8f92-a43f07f5a079"
      },
      "execution_count": 85,
      "outputs": [
        {
          "output_type": "display_data",
          "data": {
            "text/html": [
              "<table class=\"dataframe\">\n",
              "<caption>A matrix: 3 × 3 of type dbl</caption>\n",
              "<tbody>\n",
              "\t<tr><td>12</td><td>15</td><td> 3</td></tr>\n",
              "\t<tr><td>17</td><td>46</td><td>45</td></tr>\n",
              "\t<tr><td>23</td><td>17</td><td>29</td></tr>\n",
              "</tbody>\n",
              "</table>\n"
            ],
            "text/markdown": "\nA matrix: 3 × 3 of type dbl\n\n| 12 | 15 |  3 |\n| 17 | 46 | 45 |\n| 23 | 17 | 29 |\n\n",
            "text/latex": "A matrix: 3 × 3 of type dbl\n\\begin{tabular}{lll}\n\t 12 & 15 &  3\\\\\n\t 17 & 46 & 45\\\\\n\t 23 & 17 & 29\\\\\n\\end{tabular}\n",
            "text/plain": [
              "     [,1] [,2] [,3]\n",
              "[1,] 12   15    3  \n",
              "[2,] 17   46   45  \n",
              "[3,] 23   17   29  "
            ]
          },
          "metadata": {}
        },
        {
          "output_type": "display_data",
          "data": {
            "text/html": [
              "<table class=\"dataframe\">\n",
              "<caption>A matrix: 3 × 3 of type dbl</caption>\n",
              "<tbody>\n",
              "\t<tr><td>12</td><td>17</td><td>23</td></tr>\n",
              "\t<tr><td>15</td><td>46</td><td>17</td></tr>\n",
              "\t<tr><td> 3</td><td>45</td><td>29</td></tr>\n",
              "</tbody>\n",
              "</table>\n"
            ],
            "text/markdown": "\nA matrix: 3 × 3 of type dbl\n\n| 12 | 17 | 23 |\n| 15 | 46 | 17 |\n|  3 | 45 | 29 |\n\n",
            "text/latex": "A matrix: 3 × 3 of type dbl\n\\begin{tabular}{lll}\n\t 12 & 17 & 23\\\\\n\t 15 & 46 & 17\\\\\n\t  3 & 45 & 29\\\\\n\\end{tabular}\n",
            "text/plain": [
              "     [,1] [,2] [,3]\n",
              "[1,] 12   17   23  \n",
              "[2,] 15   46   17  \n",
              "[3,]  3   45   29  "
            ]
          },
          "metadata": {}
        }
      ]
    },
    {
      "cell_type": "code",
      "source": [
        "#matrislerin toplanmasi\n",
        "m1 <- matrix(c(5,6,3,1,7,2,4,5,2),3,3)\n",
        "m1\n",
        "\n",
        "m2 <- matrix(c(12,14,15,26,33,25,17,22,36),3,3)\n",
        "m2\n",
        "\n",
        "m1+m2"
      ],
      "metadata": {
        "colab": {
          "base_uri": "https://localhost:8080/",
          "height": 421
        },
        "id": "Ewxqaj5iXhsf",
        "outputId": "d24925c4-c3fd-4c8b-f3a9-d9c85c8c40d8"
      },
      "execution_count": 86,
      "outputs": [
        {
          "output_type": "display_data",
          "data": {
            "text/html": [
              "<table class=\"dataframe\">\n",
              "<caption>A matrix: 3 × 3 of type dbl</caption>\n",
              "<tbody>\n",
              "\t<tr><td>5</td><td>1</td><td>4</td></tr>\n",
              "\t<tr><td>6</td><td>7</td><td>5</td></tr>\n",
              "\t<tr><td>3</td><td>2</td><td>2</td></tr>\n",
              "</tbody>\n",
              "</table>\n"
            ],
            "text/markdown": "\nA matrix: 3 × 3 of type dbl\n\n| 5 | 1 | 4 |\n| 6 | 7 | 5 |\n| 3 | 2 | 2 |\n\n",
            "text/latex": "A matrix: 3 × 3 of type dbl\n\\begin{tabular}{lll}\n\t 5 & 1 & 4\\\\\n\t 6 & 7 & 5\\\\\n\t 3 & 2 & 2\\\\\n\\end{tabular}\n",
            "text/plain": [
              "     [,1] [,2] [,3]\n",
              "[1,] 5    1    4   \n",
              "[2,] 6    7    5   \n",
              "[3,] 3    2    2   "
            ]
          },
          "metadata": {}
        },
        {
          "output_type": "display_data",
          "data": {
            "text/html": [
              "<table class=\"dataframe\">\n",
              "<caption>A matrix: 3 × 3 of type dbl</caption>\n",
              "<tbody>\n",
              "\t<tr><td>12</td><td>26</td><td>17</td></tr>\n",
              "\t<tr><td>14</td><td>33</td><td>22</td></tr>\n",
              "\t<tr><td>15</td><td>25</td><td>36</td></tr>\n",
              "</tbody>\n",
              "</table>\n"
            ],
            "text/markdown": "\nA matrix: 3 × 3 of type dbl\n\n| 12 | 26 | 17 |\n| 14 | 33 | 22 |\n| 15 | 25 | 36 |\n\n",
            "text/latex": "A matrix: 3 × 3 of type dbl\n\\begin{tabular}{lll}\n\t 12 & 26 & 17\\\\\n\t 14 & 33 & 22\\\\\n\t 15 & 25 & 36\\\\\n\\end{tabular}\n",
            "text/plain": [
              "     [,1] [,2] [,3]\n",
              "[1,] 12   26   17  \n",
              "[2,] 14   33   22  \n",
              "[3,] 15   25   36  "
            ]
          },
          "metadata": {}
        },
        {
          "output_type": "display_data",
          "data": {
            "text/html": [
              "<table class=\"dataframe\">\n",
              "<caption>A matrix: 3 × 3 of type dbl</caption>\n",
              "<tbody>\n",
              "\t<tr><td>17</td><td>27</td><td>21</td></tr>\n",
              "\t<tr><td>20</td><td>40</td><td>27</td></tr>\n",
              "\t<tr><td>18</td><td>27</td><td>38</td></tr>\n",
              "</tbody>\n",
              "</table>\n"
            ],
            "text/markdown": "\nA matrix: 3 × 3 of type dbl\n\n| 17 | 27 | 21 |\n| 20 | 40 | 27 |\n| 18 | 27 | 38 |\n\n",
            "text/latex": "A matrix: 3 × 3 of type dbl\n\\begin{tabular}{lll}\n\t 17 & 27 & 21\\\\\n\t 20 & 40 & 27\\\\\n\t 18 & 27 & 38\\\\\n\\end{tabular}\n",
            "text/plain": [
              "     [,1] [,2] [,3]\n",
              "[1,] 17   27   21  \n",
              "[2,] 20   40   27  \n",
              "[3,] 18   27   38  "
            ]
          },
          "metadata": {}
        }
      ]
    },
    {
      "cell_type": "code",
      "source": [
        "#matrisin skaler degerle carpimi\n",
        "#bir matrisin tum elemanlari ayni sayi ile carpilabilir. ornegin 3 ile carpalim\n",
        "m1 <- matrix(c(5,6,3,1,7,2,4,5,2),3,3)\n",
        "m1\n",
        "3*m1\n",
        "\n",
        "#matrislerin carpimi\n",
        "# iki matrisin karsilikli elemanlarinin carpilmasi ile,\n",
        "#cebirsel anlamda iki matrisin carpilmasi iki farkli olaydir\n",
        "#iki matrisin carpilabilmesi icin A matrisin satir sayisinin B matrisinin sutun sayisina ESİT olmasi gerekir\n",
        "m1 <- matrix(c(5,6,3,1,7,2,4,5,2),3,3)\n",
        "m1\n",
        "\n",
        "m2 <- matrix(c(12,14,15,26,33,25,17,22,36),3,3)\n",
        "m2\n",
        "\n",
        "m1%*%m2\n",
        "\n",
        "#matris determinanti\n",
        "a <- matrix(c(5,2,8,1,4,7,7,3,1),3)\n",
        "a\n",
        "\n",
        "d <- det(a)\n",
        "d\n",
        "\n",
        "#matrisin tersi\n",
        "m1 <- matrix(c(5,6,3,1,7,2,4,5,2),3,3)\n",
        "m1\n",
        "\n",
        "solve(m1)"
      ],
      "metadata": {
        "id": "O1DTikctXp1u"
      },
      "execution_count": null,
      "outputs": []
    }
  ]
}