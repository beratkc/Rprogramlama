{
  "nbformat": 4,
  "nbformat_minor": 0,
  "metadata": {
    "colab": {
      "provenance": [],
      "authorship_tag": "ABX9TyMTn4r4toaBDqcAyHc9FnYW",
      "include_colab_link": true
    },
    "kernelspec": {
      "name": "ir",
      "display_name": "R"
    },
    "language_info": {
      "name": "R"
    }
  },
  "cells": [
    {
      "cell_type": "markdown",
      "metadata": {
        "id": "view-in-github",
        "colab_type": "text"
      },
      "source": [
        "<a href=\"https://colab.research.google.com/github/beratkc/Rprogramlama/blob/main/%C3%B6dev.ipynb\" target=\"_parent\"><img src=\"https://colab.research.google.com/assets/colab-badge.svg\" alt=\"Open In Colab\"/></a>"
      ]
    },
    {
      "cell_type": "markdown",
      "source": [
        "# Soru 1\n",
        "  # R DIŞINDA Kİ BETİK DİLLER\n",
        "  - JavaScript\n",
        "  - PHP\n",
        "  - Python\n",
        "  - Ruby\n",
        "  - Perl\n",
        "  - Lua\n",
        "  - Bash"
      ],
      "metadata": {
        "id": "COXN6ANmVFk6"
      }
    },
    {
      "cell_type": "markdown",
      "source": [
        "# Soru 2\n",
        " # Matematiksel İşlemler"
      ],
      "metadata": {
        "id": "wA4h-3foVQSI"
      }
    },
    {
      "cell_type": "code",
      "source": [
        "\n",
        "a<-5*(25+150)\n",
        "show(a)\n",
        "\n",
        "\n"
      ],
      "metadata": {
        "colab": {
          "base_uri": "https://localhost:8080/"
        },
        "id": "6sFmEKNtTn8b",
        "outputId": "960790d6-6563-4e68-bccc-b7fe73003764"
      },
      "execution_count": null,
      "outputs": [
        {
          "output_type": "stream",
          "name": "stdout",
          "text": [
            "[1] 875\n"
          ]
        }
      ]
    },
    {
      "cell_type": "code",
      "source": [
        "b<-3/0.25\n",
        "show(b)"
      ],
      "metadata": {
        "colab": {
          "base_uri": "https://localhost:8080/"
        },
        "id": "us9eoGULZ75W",
        "outputId": "153f9a01-bb30-4327-d337-e4cc0f19cb07"
      },
      "execution_count": null,
      "outputs": [
        {
          "output_type": "stream",
          "name": "stdout",
          "text": [
            "[1] 12\n"
          ]
        }
      ]
    },
    {
      "cell_type": "code",
      "source": [
        "c<-(11+24)/46\n",
        "show(c)"
      ],
      "metadata": {
        "colab": {
          "base_uri": "https://localhost:8080/"
        },
        "id": "rWV0Y8AJalhp",
        "outputId": "4476ba4b-f2d1-47a0-c1ef-1f2c99c731bb"
      },
      "execution_count": null,
      "outputs": [
        {
          "output_type": "stream",
          "name": "stdout",
          "text": [
            "[1] 0.7608696\n"
          ]
        }
      ]
    },
    {
      "cell_type": "markdown",
      "source": [
        "# Soru 3\n",
        " # Nesne Silme İşlemi"
      ],
      "metadata": {
        "id": "gSX_9DfTdjYA"
      }
    },
    {
      "cell_type": "code",
      "source": [
        "test <- \"test\"\n",
        "rm(test)\n",
        "\n"
      ],
      "metadata": {
        "id": "d-rBVksFduXE"
      },
      "execution_count": null,
      "outputs": []
    },
    {
      "cell_type": "markdown",
      "source": [
        "# Soru 4\n",
        "\n",
        "# x değişkenine atanmış sayısal değer ile işlem"
      ],
      "metadata": {
        "id": "DiBvsBWIgHE3"
      }
    },
    {
      "cell_type": "code",
      "source": [
        "x<-25"
      ],
      "metadata": {
        "id": "wn8A9cgcgSNz"
      },
      "execution_count": null,
      "outputs": []
    },
    {
      "cell_type": "code",
      "source": [
        "2*x+1\n",
        "x**2+x+1\n",
        "(x-1)/x**3\n",
        "(x+1)**2"
      ],
      "metadata": {
        "colab": {
          "base_uri": "https://localhost:8080/",
          "height": 86
        },
        "id": "Swg7SKDvg8_j",
        "outputId": "8a6f87b0-45ed-4d96-9a48-3b6ad10b12c8"
      },
      "execution_count": null,
      "outputs": [
        {
          "output_type": "display_data",
          "data": {
            "text/html": [
              "51"
            ],
            "text/markdown": "51",
            "text/latex": "51",
            "text/plain": [
              "[1] 51"
            ]
          },
          "metadata": {}
        },
        {
          "output_type": "display_data",
          "data": {
            "text/html": [
              "651"
            ],
            "text/markdown": "651",
            "text/latex": "651",
            "text/plain": [
              "[1] 651"
            ]
          },
          "metadata": {}
        },
        {
          "output_type": "display_data",
          "data": {
            "text/html": [
              "0.001536"
            ],
            "text/markdown": "0.001536",
            "text/latex": "0.001536",
            "text/plain": [
              "[1] 0.001536"
            ]
          },
          "metadata": {}
        },
        {
          "output_type": "display_data",
          "data": {
            "text/html": [
              "676"
            ],
            "text/markdown": "676",
            "text/latex": "676",
            "text/plain": [
              "[1] 676"
            ]
          },
          "metadata": {}
        }
      ]
    },
    {
      "cell_type": "markdown",
      "source": [
        "# Soru 5"
      ],
      "metadata": {
        "id": "EAQA_ZUQhY1D"
      }
    },
    {
      "cell_type": "code",
      "source": [
        "  durum <- TRUE\n",
        "  as.integer(durum)\n",
        "  # durum değişkeninini T veya F değişkeni atanmıştır.\n",
        "  # 2. satır kodda ise integera çevrilmiştr\n",
        "  # T için 1 F için ise 0 olarak integera dönüştürür.\n"
      ],
      "metadata": {
        "colab": {
          "base_uri": "https://localhost:8080/",
          "height": 34
        },
        "id": "1Vk-ph-4bI_g",
        "outputId": "b2f3a41e-0967-4f8c-8f1f-5dd8d1269dad"
      },
      "execution_count": null,
      "outputs": [
        {
          "output_type": "display_data",
          "data": {
            "text/html": [
              "0"
            ],
            "text/markdown": "0",
            "text/latex": "0",
            "text/plain": [
              "[1] 0"
            ]
          },
          "metadata": {}
        }
      ]
    },
    {
      "cell_type": "markdown",
      "source": [
        "# Soru 6\n",
        "### R'nin iris isimli veri kümesinin ilk 6 satırını görünteleyniz\n",
        "### Bu veri kümesi hangi değişkenlere başka deyişle hangi sütünlara sahiptir\n"
      ],
      "metadata": {
        "id": "sIyv1ZX5b_7u"
      }
    },
    {
      "cell_type": "code",
      "source": [
        "data(iris)\n",
        "print(head(iris,6))"
      ],
      "metadata": {
        "colab": {
          "base_uri": "https://localhost:8080/"
        },
        "id": "yjwlhN0mcnb7",
        "outputId": "6c374680-5420-4da5-e574-a758dcfad3c3"
      },
      "execution_count": null,
      "outputs": [
        {
          "output_type": "stream",
          "name": "stdout",
          "text": [
            "  Sepal.Length Sepal.Width Petal.Length Petal.Width Species\n",
            "1          5.1         3.5          1.4         0.2  setosa\n",
            "2          4.9         3.0          1.4         0.2  setosa\n",
            "3          4.7         3.2          1.3         0.2  setosa\n",
            "4          4.6         3.1          1.5         0.2  setosa\n",
            "5          5.0         3.6          1.4         0.2  setosa\n",
            "6          5.4         3.9          1.7         0.4  setosa\n"
          ]
        }
      ]
    },
    {
      "cell_type": "markdown",
      "source": [
        "# Soru 7\n",
        "# R'nin biyokimyasal oksijen talebini konu edinen ˋBODˋ isimli veri kümesinin tüm satılarını görüntüleyiniz. Bu veri kümesi hangi degiskenlere sahiptir?"
      ],
      "metadata": {
        "id": "V2WUV1QPdRe2"
      }
    },
    {
      "cell_type": "code",
      "source": [
        "data(BOD)\n",
        "print(BOD)"
      ],
      "metadata": {
        "colab": {
          "base_uri": "https://localhost:8080/"
        },
        "id": "9URH5dA5ddEk",
        "outputId": "90987d0a-1c6b-461d-f03c-aaa313fa570a"
      },
      "execution_count": null,
      "outputs": [
        {
          "output_type": "stream",
          "name": "stdout",
          "text": [
            "  Time demand\n",
            "1    1    8.3\n",
            "2    2   10.3\n",
            "3    3   19.0\n",
            "4    4   16.0\n",
            "5    5   15.6\n",
            "6    7   19.8\n"
          ]
        }
      ]
    },
    {
      "cell_type": "markdown",
      "source": [
        "# Soru 8\n",
        "#  R'nin iris isimli veri kümesinde kaç adet satır ve sütündan oluşamktadır.\n",
        "# R fonksiyonları yardımı ile listeleyeniz"
      ],
      "metadata": {
        "id": "wWtMOWRafc4j"
      }
    },
    {
      "cell_type": "code",
      "source": [
        "data(iris)\n",
        "print(iris)\n",
        "# 150 satır 5 sütündan oluşmaktadır."
      ],
      "metadata": {
        "colab": {
          "base_uri": "https://localhost:8080/"
        },
        "id": "DGzDyTGkgGEC",
        "outputId": "16d33121-1cb5-4ce6-d8cd-fd479817d1c5"
      },
      "execution_count": null,
      "outputs": [
        {
          "output_type": "stream",
          "name": "stdout",
          "text": [
            "    Sepal.Length Sepal.Width Petal.Length Petal.Width    Species\n",
            "1            5.1         3.5          1.4         0.2     setosa\n",
            "2            4.9         3.0          1.4         0.2     setosa\n",
            "3            4.7         3.2          1.3         0.2     setosa\n",
            "4            4.6         3.1          1.5         0.2     setosa\n",
            "5            5.0         3.6          1.4         0.2     setosa\n",
            "6            5.4         3.9          1.7         0.4     setosa\n",
            "7            4.6         3.4          1.4         0.3     setosa\n",
            "8            5.0         3.4          1.5         0.2     setosa\n",
            "9            4.4         2.9          1.4         0.2     setosa\n",
            "10           4.9         3.1          1.5         0.1     setosa\n",
            "11           5.4         3.7          1.5         0.2     setosa\n",
            "12           4.8         3.4          1.6         0.2     setosa\n",
            "13           4.8         3.0          1.4         0.1     setosa\n",
            "14           4.3         3.0          1.1         0.1     setosa\n",
            "15           5.8         4.0          1.2         0.2     setosa\n",
            "16           5.7         4.4          1.5         0.4     setosa\n",
            "17           5.4         3.9          1.3         0.4     setosa\n",
            "18           5.1         3.5          1.4         0.3     setosa\n",
            "19           5.7         3.8          1.7         0.3     setosa\n",
            "20           5.1         3.8          1.5         0.3     setosa\n",
            "21           5.4         3.4          1.7         0.2     setosa\n",
            "22           5.1         3.7          1.5         0.4     setosa\n",
            "23           4.6         3.6          1.0         0.2     setosa\n",
            "24           5.1         3.3          1.7         0.5     setosa\n",
            "25           4.8         3.4          1.9         0.2     setosa\n",
            "26           5.0         3.0          1.6         0.2     setosa\n",
            "27           5.0         3.4          1.6         0.4     setosa\n",
            "28           5.2         3.5          1.5         0.2     setosa\n",
            "29           5.2         3.4          1.4         0.2     setosa\n",
            "30           4.7         3.2          1.6         0.2     setosa\n",
            "31           4.8         3.1          1.6         0.2     setosa\n",
            "32           5.4         3.4          1.5         0.4     setosa\n",
            "33           5.2         4.1          1.5         0.1     setosa\n",
            "34           5.5         4.2          1.4         0.2     setosa\n",
            "35           4.9         3.1          1.5         0.2     setosa\n",
            "36           5.0         3.2          1.2         0.2     setosa\n",
            "37           5.5         3.5          1.3         0.2     setosa\n",
            "38           4.9         3.6          1.4         0.1     setosa\n",
            "39           4.4         3.0          1.3         0.2     setosa\n",
            "40           5.1         3.4          1.5         0.2     setosa\n",
            "41           5.0         3.5          1.3         0.3     setosa\n",
            "42           4.5         2.3          1.3         0.3     setosa\n",
            "43           4.4         3.2          1.3         0.2     setosa\n",
            "44           5.0         3.5          1.6         0.6     setosa\n",
            "45           5.1         3.8          1.9         0.4     setosa\n",
            "46           4.8         3.0          1.4         0.3     setosa\n",
            "47           5.1         3.8          1.6         0.2     setosa\n",
            "48           4.6         3.2          1.4         0.2     setosa\n",
            "49           5.3         3.7          1.5         0.2     setosa\n",
            "50           5.0         3.3          1.4         0.2     setosa\n",
            "51           7.0         3.2          4.7         1.4 versicolor\n",
            "52           6.4         3.2          4.5         1.5 versicolor\n",
            "53           6.9         3.1          4.9         1.5 versicolor\n",
            "54           5.5         2.3          4.0         1.3 versicolor\n",
            "55           6.5         2.8          4.6         1.5 versicolor\n",
            "56           5.7         2.8          4.5         1.3 versicolor\n",
            "57           6.3         3.3          4.7         1.6 versicolor\n",
            "58           4.9         2.4          3.3         1.0 versicolor\n",
            "59           6.6         2.9          4.6         1.3 versicolor\n",
            "60           5.2         2.7          3.9         1.4 versicolor\n",
            "61           5.0         2.0          3.5         1.0 versicolor\n",
            "62           5.9         3.0          4.2         1.5 versicolor\n",
            "63           6.0         2.2          4.0         1.0 versicolor\n",
            "64           6.1         2.9          4.7         1.4 versicolor\n",
            "65           5.6         2.9          3.6         1.3 versicolor\n",
            "66           6.7         3.1          4.4         1.4 versicolor\n",
            "67           5.6         3.0          4.5         1.5 versicolor\n",
            "68           5.8         2.7          4.1         1.0 versicolor\n",
            "69           6.2         2.2          4.5         1.5 versicolor\n",
            "70           5.6         2.5          3.9         1.1 versicolor\n",
            "71           5.9         3.2          4.8         1.8 versicolor\n",
            "72           6.1         2.8          4.0         1.3 versicolor\n",
            "73           6.3         2.5          4.9         1.5 versicolor\n",
            "74           6.1         2.8          4.7         1.2 versicolor\n",
            "75           6.4         2.9          4.3         1.3 versicolor\n",
            "76           6.6         3.0          4.4         1.4 versicolor\n",
            "77           6.8         2.8          4.8         1.4 versicolor\n",
            "78           6.7         3.0          5.0         1.7 versicolor\n",
            "79           6.0         2.9          4.5         1.5 versicolor\n",
            "80           5.7         2.6          3.5         1.0 versicolor\n",
            "81           5.5         2.4          3.8         1.1 versicolor\n",
            "82           5.5         2.4          3.7         1.0 versicolor\n",
            "83           5.8         2.7          3.9         1.2 versicolor\n",
            "84           6.0         2.7          5.1         1.6 versicolor\n",
            "85           5.4         3.0          4.5         1.5 versicolor\n",
            "86           6.0         3.4          4.5         1.6 versicolor\n",
            "87           6.7         3.1          4.7         1.5 versicolor\n",
            "88           6.3         2.3          4.4         1.3 versicolor\n",
            "89           5.6         3.0          4.1         1.3 versicolor\n",
            "90           5.5         2.5          4.0         1.3 versicolor\n",
            "91           5.5         2.6          4.4         1.2 versicolor\n",
            "92           6.1         3.0          4.6         1.4 versicolor\n",
            "93           5.8         2.6          4.0         1.2 versicolor\n",
            "94           5.0         2.3          3.3         1.0 versicolor\n",
            "95           5.6         2.7          4.2         1.3 versicolor\n",
            "96           5.7         3.0          4.2         1.2 versicolor\n",
            "97           5.7         2.9          4.2         1.3 versicolor\n",
            "98           6.2         2.9          4.3         1.3 versicolor\n",
            "99           5.1         2.5          3.0         1.1 versicolor\n",
            "100          5.7         2.8          4.1         1.3 versicolor\n",
            "101          6.3         3.3          6.0         2.5  virginica\n",
            "102          5.8         2.7          5.1         1.9  virginica\n",
            "103          7.1         3.0          5.9         2.1  virginica\n",
            "104          6.3         2.9          5.6         1.8  virginica\n",
            "105          6.5         3.0          5.8         2.2  virginica\n",
            "106          7.6         3.0          6.6         2.1  virginica\n",
            "107          4.9         2.5          4.5         1.7  virginica\n",
            "108          7.3         2.9          6.3         1.8  virginica\n",
            "109          6.7         2.5          5.8         1.8  virginica\n",
            "110          7.2         3.6          6.1         2.5  virginica\n",
            "111          6.5         3.2          5.1         2.0  virginica\n",
            "112          6.4         2.7          5.3         1.9  virginica\n",
            "113          6.8         3.0          5.5         2.1  virginica\n",
            "114          5.7         2.5          5.0         2.0  virginica\n",
            "115          5.8         2.8          5.1         2.4  virginica\n",
            "116          6.4         3.2          5.3         2.3  virginica\n",
            "117          6.5         3.0          5.5         1.8  virginica\n",
            "118          7.7         3.8          6.7         2.2  virginica\n",
            "119          7.7         2.6          6.9         2.3  virginica\n",
            "120          6.0         2.2          5.0         1.5  virginica\n",
            "121          6.9         3.2          5.7         2.3  virginica\n",
            "122          5.6         2.8          4.9         2.0  virginica\n",
            "123          7.7         2.8          6.7         2.0  virginica\n",
            "124          6.3         2.7          4.9         1.8  virginica\n",
            "125          6.7         3.3          5.7         2.1  virginica\n",
            "126          7.2         3.2          6.0         1.8  virginica\n",
            "127          6.2         2.8          4.8         1.8  virginica\n",
            "128          6.1         3.0          4.9         1.8  virginica\n",
            "129          6.4         2.8          5.6         2.1  virginica\n",
            "130          7.2         3.0          5.8         1.6  virginica\n",
            "131          7.4         2.8          6.1         1.9  virginica\n",
            "132          7.9         3.8          6.4         2.0  virginica\n",
            "133          6.4         2.8          5.6         2.2  virginica\n",
            "134          6.3         2.8          5.1         1.5  virginica\n",
            "135          6.1         2.6          5.6         1.4  virginica\n",
            "136          7.7         3.0          6.1         2.3  virginica\n",
            "137          6.3         3.4          5.6         2.4  virginica\n",
            "138          6.4         3.1          5.5         1.8  virginica\n",
            "139          6.0         3.0          4.8         1.8  virginica\n",
            "140          6.9         3.1          5.4         2.1  virginica\n",
            "141          6.7         3.1          5.6         2.4  virginica\n",
            "142          6.9         3.1          5.1         2.3  virginica\n",
            "143          5.8         2.7          5.1         1.9  virginica\n",
            "144          6.8         3.2          5.9         2.3  virginica\n",
            "145          6.7         3.3          5.7         2.5  virginica\n",
            "146          6.7         3.0          5.2         2.3  virginica\n",
            "147          6.3         2.5          5.0         1.9  virginica\n",
            "148          6.5         3.0          5.2         2.0  virginica\n",
            "149          6.2         3.4          5.4         2.3  virginica\n",
            "150          5.9         3.0          5.1         1.8  virginica\n"
          ]
        }
      ]
    },
    {
      "cell_type": "markdown",
      "source": [
        "# Soru 9\n",
        "# Bir veri kümesi hakkında özet bilgi nasıl edinilir.BOD verisi için özet bilgi"
      ],
      "metadata": {
        "id": "P1-i-4FDgcxV"
      }
    },
    {
      "cell_type": "code",
      "source": [
        "data(BOD)\n",
        "str(BOD)\n"
      ],
      "metadata": {
        "colab": {
          "base_uri": "https://localhost:8080/"
        },
        "id": "mb4lDTQrgu5x",
        "outputId": "d01f6ba3-da29-41c6-f5e1-2a188e649c8f"
      },
      "execution_count": null,
      "outputs": [
        {
          "output_type": "stream",
          "name": "stdout",
          "text": [
            "'data.frame':\t6 obs. of  2 variables:\n",
            " $ Time  : num  1 2 3 4 5 7\n",
            " $ demand: num  8.3 10.3 19 16 15.6 19.8\n",
            " - attr(*, \"reference\")= chr \"A1.4, p. 270\"\n"
          ]
        }
      ]
    },
    {
      "cell_type": "markdown",
      "source": [
        "# Soru 10\n",
        "# Bilgisayarınıza kitabın son bölümünde kullanılacak olan cluster isimli R paketini yükleyiniz."
      ],
      "metadata": {
        "id": "g8goQN5yoc5W"
      }
    },
    {
      "cell_type": "markdown",
      "source": [
        "# Soru 11\n",
        "# Bir paket yükledikten sonra R oturumuna nasıl tanıtılır? R'nin kendi yerel veri kümeleri için de bu yol izlenir mi?"
      ],
      "metadata": {
        "id": "iTolsBulh5MG"
      }
    },
    {
      "cell_type": "code",
      "source": [
        "    # Paket yüklemek için install.packages(paket adı) kullanılır\n",
        "\n",
        "    # Ve paketi aktif etmek için ise library(paketadi) kullanılır\n",
        "\n",
        "    # R'ın yerel veri kümeleri için bunlara ihtiyaç yoktur"
      ],
      "metadata": {
        "colab": {
          "base_uri": "https://localhost:8080/",
          "height": 125
        },
        "id": "fuEpXtBOiHep",
        "outputId": "2fedc408-543e-4fa3-d19d-35bc5a8e661d"
      },
      "execution_count": null,
      "outputs": [
        {
          "output_type": "display_data",
          "data": {
            "text/html": [
              "<pre class=language-r><code>function (..., recursive = FALSE) \n",
              ".Date(c(unlist(lapply(list(...), function(e) unclass(as.Date(e))))))</code></pre>"
            ],
            "text/markdown": "```r\nfunction (..., recursive = FALSE) \n.Date(c(unlist(lapply(list(...), function(e) unclass(as.Date(e))))))\n```",
            "text/latex": "\\begin{minted}{r}\nfunction (..., recursive = FALSE) \n.Date(c(unlist(lapply(list(...), function(e) unclass(as.Date(e))))))\n\\end{minted}",
            "text/plain": [
              "function (..., recursive = FALSE) \n",
              ".Date(c(unlist(lapply(list(...), function(e) unclass(as.Date(e))))))\n",
              "<bytecode: 0x55e69187db30>\n",
              "<environment: namespace:base>"
            ]
          },
          "metadata": {}
        },
        {
          "output_type": "stream",
          "name": "stdout",
          "text": [
            "function (..., recursive = FALSE) \n",
            ".Date(c(unlist(lapply(list(...), function(e) unclass(as.Date(e))))))\n",
            "<bytecode: 0x55e69187db30>\n",
            "<environment: namespace:base>\n"
          ]
        }
      ]
    },
    {
      "cell_type": "markdown",
      "source": [
        "# Soru 12\n",
        "# R'ın ls( ) fonksiyonu ile ilgili yardım sayfalarına  R konsolu üzerinden ulaşılır mı?"
      ],
      "metadata": {
        "id": "6deGFuVzlqBp"
      }
    },
    {
      "cell_type": "code",
      "source": [
        "help(ls)\n",
        "#ve ya\n",
        "?ls\n",
        "#şeklinde ulaşılabilir"
      ],
      "metadata": {
        "id": "Y4WZ_zkYmKfF"
      },
      "execution_count": null,
      "outputs": []
    },
    {
      "cell_type": "markdown",
      "source": [
        "# Soru 13\n",
        "# R'ın  konsolu üzerinden e1071 isimli paketin yardım sayfasına ulaşılır mı?"
      ],
      "metadata": {
        "id": "Dp1bxtmNm0IT"
      }
    },
    {
      "cell_type": "code",
      "source": [
        "install.packages(\"e1071\")\n",
        "help(package=\"e1071\") #şeklinde ulaşabiliriz\n"
      ],
      "metadata": {
        "colab": {
          "base_uri": "https://localhost:8080/"
        },
        "id": "_JQ7h7wNnQy5",
        "outputId": "b1b47b9a-d63b-432c-9cc0-ebeb1cdc44a6"
      },
      "execution_count": null,
      "outputs": [
        {
          "output_type": "stream",
          "name": "stderr",
          "text": [
            "Installing package into ‘/usr/local/lib/R/site-library’\n",
            "(as ‘lib’ is unspecified)\n",
            "\n",
            "also installing the dependency ‘proxy’\n",
            "\n",
            "\n"
          ]
        }
      ]
    },
    {
      "cell_type": "markdown",
      "source": [
        "# Soru 14\n",
        "#R konsolu üzerinden `e1071` isimli paketin `svm` fonksiyonuna doğrudan nasıl ulaşılabilir?"
      ],
      "metadata": {
        "id": "3NVSNAv9oMYz"
      }
    },
    {
      "cell_type": "markdown",
      "source": [
        "# Soru 15\n",
        "# R için çalışma alanı olarak C:/Test/ dizinini tanımlayınız."
      ],
      "metadata": {
        "id": "YQ2826xQoP4l"
      }
    },
    {
      "cell_type": "code",
      "source": [
        "setwd(\"C:/Test/\")\n",
        "#Bu komutu girdikten sonra çalışma alanınız C:/Test/ dizinine ayarlanmış olacaktır.\n"
      ],
      "metadata": {
        "colab": {
          "base_uri": "https://localhost:8080/",
          "height": 256
        },
        "id": "8vmAKp8ro4WE",
        "outputId": "db10b6c4-c46a-4726-f246-e525c58ddf51"
      },
      "execution_count": null,
      "outputs": [
        {
          "output_type": "error",
          "ename": "ERROR",
          "evalue": "Error in setwd(\"C:/Test/\"): cannot change working directory\n",
          "traceback": [
            "Error in setwd(\"C:/Test/\"): cannot change working directory\nTraceback:\n",
            "1. .handleSimpleError(function (cnd) \n . {\n .     watcher$capture_plot_and_output()\n .     cnd <- sanitize_call(cnd)\n .     watcher$push(cnd)\n .     switch(on_error, continue = invokeRestart(\"eval_continue\"), \n .         stop = invokeRestart(\"eval_stop\"), error = invokeRestart(\"eval_error\", \n .             cnd))\n . }, \"cannot change working directory\", base::quote(setwd(\"C:/Test/\")))"
          ]
        }
      ]
    },
    {
      "cell_type": "code",
      "source": [
        "#Kontrol etmek için ise\n",
        "getwd()\n"
      ],
      "metadata": {
        "colab": {
          "base_uri": "https://localhost:8080/",
          "height": 34
        },
        "id": "AsRHWvhVpDIs",
        "outputId": "65bc35e6-63d3-41e0-cef7-236298beffd3"
      },
      "execution_count": null,
      "outputs": [
        {
          "output_type": "display_data",
          "data": {
            "text/html": [
              "'/content'"
            ],
            "text/markdown": "'/content'",
            "text/latex": "'/content'",
            "text/plain": [
              "[1] \"/content\""
            ]
          },
          "metadata": {}
        }
      ]
    }
  ]
}