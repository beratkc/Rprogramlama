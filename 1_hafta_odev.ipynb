{
  "nbformat": 4,
  "nbformat_minor": 0,
  "metadata": {
    "colab": {
      "provenance": [],
      "toc_visible": true,
      "include_colab_link": true
    },
    "kernelspec": {
      "name": "ir",
      "display_name": "R"
    },
    "language_info": {
      "name": "R"
    }
  },
  "cells": [
    {
      "cell_type": "markdown",
      "metadata": {
        "id": "view-in-github",
        "colab_type": "text"
      },
      "source": [
        "<a href=\"https://colab.research.google.com/github/beratkc/Rprogramlama/blob/main/1_hafta_odev.ipynb\" target=\"_parent\"><img src=\"https://colab.research.google.com/assets/colab-badge.svg\" alt=\"Open In Colab\"/></a>"
      ]
    },
    {
      "cell_type": "markdown",
      "source": [
        "# Soru 1 - R dışındaki bilimsel araştırmalara yöneli betik temelli diller:\n",
        "\n",
        "- Python\n",
        "- Julia\n",
        "- MATLAB"
      ],
      "metadata": {
        "id": "QiYRZmxXUfzB"
      }
    },
    {
      "cell_type": "markdown",
      "source": [
        "# Soru 2 - R konsolunda işlemleri tanımlayalım ve işlem sonuçlarını göremeye çalışalım:"
      ],
      "metadata": {
        "id": "x3QSo5RDU0_B"
      }
    },
    {
      "cell_type": "code",
      "execution_count": null,
      "metadata": {
        "colab": {
          "base_uri": "https://localhost:8080/"
        },
        "id": "xOb_DN4kUfIK",
        "outputId": "2c0d6dab-9a9a-4b2e-ffe3-4579e87ab12e"
      },
      "outputs": [
        {
          "output_type": "stream",
          "name": "stdout",
          "text": [
            "[1] 200\n",
            "[1] 12\n",
            "[1] 0.7608696\n",
            "[1] 0.03125\n"
          ]
        }
      ],
      "source": [
        "print(5*(25+15))\n",
        "print(3/0.25)\n",
        "print((11+24)/46)\n",
        "print(1/(2+30))"
      ]
    },
    {
      "cell_type": "markdown",
      "source": [
        "# Soru 3 - Mevcut `test` isimli bir nesneyi silmek için:"
      ],
      "metadata": {
        "id": "swTaFXDZVHp7"
      }
    },
    {
      "cell_type": "code",
      "source": [
        "test = \"test\"\n",
        "rm(test)"
      ],
      "metadata": {
        "id": "ZvLaWRZsVG2E"
      },
      "execution_count": null,
      "outputs": []
    },
    {
      "cell_type": "markdown",
      "source": [
        "# Soru 4 - Bir `x` nesne değişkenine 25 sayısal değerini atadıktan sonra işlem yapalım:"
      ],
      "metadata": {
        "id": "WPZeIT7taBMu"
      }
    },
    {
      "cell_type": "code",
      "source": [
        "x <- 25\n",
        "print(2 * x + 1)\n",
        "print(x^2 + x + 1)\n",
        "print((x - 1) / x^3)\n",
        "print((x + 1)^2)"
      ],
      "metadata": {
        "id": "EaRBA0bgX4TA",
        "colab": {
          "base_uri": "https://localhost:8080/"
        },
        "outputId": "93a0ee4b-2893-44cb-dbd4-e07836aecf44"
      },
      "execution_count": null,
      "outputs": [
        {
          "output_type": "stream",
          "name": "stdout",
          "text": [
            "[1] 51\n",
            "[1] 651\n",
            "[1] 0.001536\n",
            "[1] 676\n"
          ]
        }
      ]
    },
    {
      "cell_type": "markdown",
      "source": [
        "# Soru 5 - Aşağıdaki işlem sonucunda ne elde edilir?"
      ],
      "metadata": {
        "id": "Lu__GkwUefGp"
      }
    },
    {
      "cell_type": "code",
      "source": [
        "durum <- TRUE\n",
        "as.integer(durum)"
      ],
      "metadata": {
        "colab": {
          "base_uri": "https://localhost:8080/",
          "height": 34
        },
        "id": "xOVJhv0Uektx",
        "outputId": "22e69dbb-eb2e-47ac-de48-9be5b4441829"
      },
      "execution_count": null,
      "outputs": [
        {
          "output_type": "display_data",
          "data": {
            "text/html": [
              "1"
            ],
            "text/markdown": "1",
            "text/latex": "1",
            "text/plain": [
              "[1] 1"
            ]
          },
          "metadata": {}
        }
      ]
    },
    {
      "cell_type": "markdown",
      "source": [
        "# Soru 6 - R'nin `iris` isimli veri kümesinin ilk altı satırını görünüleyin. Bu veri kümesi hangi değişkenlere sahiptir?"
      ],
      "metadata": {
        "id": "5z12Ow12erPK"
      }
    },
    {
      "cell_type": "code",
      "source": [
        "data(iris)\n",
        "print(head(iris, 6))"
      ],
      "metadata": {
        "colab": {
          "base_uri": "https://localhost:8080/"
        },
        "id": "EWAV2iVVeoab",
        "outputId": "0b3c1f96-c7ec-43f4-b36c-c5443418948f"
      },
      "execution_count": null,
      "outputs": [
        {
          "output_type": "stream",
          "name": "stdout",
          "text": [
            "  Sepal.Length Sepal.Width Petal.Length Petal.Width Species\n",
            "1          5.1         3.5          1.4         0.2  setosa\n",
            "2          4.9         3.0          1.4         0.2  setosa\n",
            "3          4.7         3.2          1.3         0.2  setosa\n",
            "4          4.6         3.1          1.5         0.2  setosa\n",
            "5          5.0         3.6          1.4         0.2  setosa\n",
            "6          5.4         3.9          1.7         0.4  setosa\n"
          ]
        }
      ]
    },
    {
      "cell_type": "markdown",
      "source": [
        "# Soru 7 - R'nin biyokimyasal oksijen talebini konu edinen ˋBODˋ isimli veri kümesinin tüm satılarını görüntüleyiniz. Bu veri kümesi hangi degiskenlere sahiptir?\n",
        "\n"
      ],
      "metadata": {
        "id": "b0WbjISPmPCz"
      }
    },
    {
      "cell_type": "code",
      "source": [
        "data(\"BOD\")\n",
        "# veri seti\n",
        "print(BOD)\n",
        "# Veri setinin değişken isimleri\n",
        "print(names(BOD))"
      ],
      "metadata": {
        "colab": {
          "base_uri": "https://localhost:8080/"
        },
        "id": "5EXBDu1Vcunq",
        "outputId": "e21f56af-299f-488a-bc6a-0e0f0eb8a5fe"
      },
      "execution_count": null,
      "outputs": [
        {
          "output_type": "stream",
          "name": "stdout",
          "text": [
            "  Time demand\n",
            "1    1    8.3\n",
            "2    2   10.3\n",
            "3    3   19.0\n",
            "4    4   16.0\n",
            "5    5   15.6\n",
            "6    7   19.8\n",
            "[1] \"Time\"   \"demand\"\n"
          ]
        }
      ]
    },
    {
      "cell_type": "markdown",
      "source": [
        "# Soru 8 - R'nin `iris` isimli veri kümesi kaç adet satır ve sütundan oluşmaktadır. R fonksiyonları yardımıyla görüntüleyiniz."
      ],
      "metadata": {
        "id": "DTujCGGldN7g"
      }
    },
    {
      "cell_type": "code",
      "source": [
        "# iris data setini yükleme\n",
        "data(iris)\n",
        "\n",
        "# Satır ve sütun sayısını öğrenmek için dim fonksiyonu kullanılır\n",
        "dim(iris)\n",
        "# Ayrıca nrow() ve ncol() fonksiyonlarını kullanarak ayrı ayrı öğrenebiliriz.\n",
        "nrow(iris)\n",
        "ncol(iris)"
      ],
      "metadata": {
        "colab": {
          "base_uri": "https://localhost:8080/",
          "height": 69
        },
        "id": "SvXvETd1gRa2",
        "outputId": "b8223791-b466-42ff-ec7d-2c4830e1bc85"
      },
      "execution_count": null,
      "outputs": [
        {
          "output_type": "display_data",
          "data": {
            "text/html": [
              "<style>\n",
              ".list-inline {list-style: none; margin:0; padding: 0}\n",
              ".list-inline>li {display: inline-block}\n",
              ".list-inline>li:not(:last-child)::after {content: \"\\00b7\"; padding: 0 .5ex}\n",
              "</style>\n",
              "<ol class=list-inline><li>150</li><li>5</li></ol>\n"
            ],
            "text/markdown": "1. 150\n2. 5\n\n\n",
            "text/latex": "\\begin{enumerate*}\n\\item 150\n\\item 5\n\\end{enumerate*}\n",
            "text/plain": [
              "[1] 150   5"
            ]
          },
          "metadata": {}
        },
        {
          "output_type": "display_data",
          "data": {
            "text/html": [
              "150"
            ],
            "text/markdown": "150",
            "text/latex": "150",
            "text/plain": [
              "[1] 150"
            ]
          },
          "metadata": {}
        },
        {
          "output_type": "display_data",
          "data": {
            "text/html": [
              "5"
            ],
            "text/markdown": "5",
            "text/latex": "5",
            "text/plain": [
              "[1] 5"
            ]
          },
          "metadata": {}
        }
      ]
    },
    {
      "cell_type": "markdown",
      "source": [
        "# Soru 9 - Bir veri kümesi hakkında özet bilgi nasıl elde edilir. `BOD` isimli veri kümesi hakkında özet bilgiyi görüntüleyiniz?"
      ],
      "metadata": {
        "id": "q-TGhqlQhU3_"
      }
    },
    {
      "cell_type": "code",
      "source": [
        "data(\"BOD\")\n",
        "# veri kümesi hakkında özet bilgi için str fonksiyonu kullanılır\n",
        "str(BOD)"
      ],
      "metadata": {
        "colab": {
          "base_uri": "https://localhost:8080/"
        },
        "id": "YcUu0AOmhUBD",
        "outputId": "9773c23a-63a9-4dd1-e622-9b5fb1aa4679"
      },
      "execution_count": null,
      "outputs": [
        {
          "output_type": "stream",
          "name": "stdout",
          "text": [
            "'data.frame':\t6 obs. of  2 variables:\n",
            " $ Time  : num  1 2 3 4 5 7\n",
            " $ demand: num  8.3 10.3 19 16 15.6 19.8\n",
            " - attr(*, \"reference\")= chr \"A1.4, p. 270\"\n"
          ]
        }
      ]
    },
    {
      "cell_type": "markdown",
      "source": [
        "# Soru 10 - Bilgisayarınıza kitabın son bölümünde kullanılacak olan `cluster` isimli R paketini yükleyiniz."
      ],
      "metadata": {
        "id": "ypXkd8BbiLLj"
      }
    },
    {
      "cell_type": "markdown",
      "source": [
        "# Soru 11 - Bir paket yükledikten sonra R oturumuna nasıl tanıtılır? R'nin kendi yerel veri kümeleri için de bu yol izlenir mi?\n",
        "\n",
        "R dilinde paketleri yüklemek için install.packages() fonksiyonu kullanılır\n",
        "\n",
        "> `install.packages(\"cluster\")`\n",
        "\n",
        "mesela yukarıdaki fonksiyonu kullanarak `cluster` isimli paketi kurabiliriz.\n",
        "\n",
        "Aktif hale getirmek için de\n",
        "\n",
        "> `library(cluster)`\n",
        "\n",
        "Şeklinde bir fonksiyon kullanabiliriz.\n",
        "\n",
        "R'nin kendi yerel veri kümeleri için bu yola ihtiyaç yoktur."
      ],
      "metadata": {
        "id": "LrbFWclyiWxI"
      }
    },
    {
      "cell_type": "markdown",
      "source": [
        "# Soru 12 - R'nin `ls()` fonksiyonu ile ilgili yardım sayfalarına R konsolu üzerinden nasıl ulaşılabilir?\n",
        "\n",
        "R'da herhangi bir fonksiyonun yardım sayfasına ulaşmak için `help()` fonksiyonu kullanılabilir.\n",
        "\n",
        "> `help(ls)`\n",
        "\n",
        "Yukarıdaki fonksiyonu kullanarak `ls()` fonksiyonunun yardım sayfalarına ulaşılabilir. Ayrıca daha kısa bir yol olan\n",
        "\n",
        "> `?ls`\n",
        "\n",
        "fonksiyonu da kullanılabilir."
      ],
      "metadata": {
        "id": "b6eFPQD5jh0p"
      }
    },
    {
      "cell_type": "code",
      "source": [
        "print(help(ls))"
      ],
      "metadata": {
        "colab": {
          "base_uri": "https://localhost:8080/"
        },
        "id": "uEIBqW6hmv6y",
        "outputId": "4f27f178-06cc-465b-ab29-6829de6386ba"
      },
      "execution_count": null,
      "outputs": [
        {
          "output_type": "stream",
          "name": "stdout",
          "text": [
            "Help on topic ‘ls’ was found in the following packages:\n",
            "\n",
            "  Package               Library\n",
            "  pbdZMQ                /usr/local/lib/R/site-library\n",
            "  base                  /usr/lib/R/library\n",
            "\n",
            "\n",
            "Using the first match ...\n"
          ]
        }
      ]
    },
    {
      "cell_type": "markdown",
      "source": [
        "# Soru 13 - R konsolu üzerinden `e1071` isimli paketin fonksiyonları ile ilgili listeyi içeren yardım sayfaslarına nasıl ulaşılır?\n",
        "\n",
        "> `help(package=\"e1071\")`\n",
        "\n",
        "yukarıdaki fonksiyonu kullanarak `e1071` paketindeki tüm fonksiyonların bir listesini ve kısa açıklamalarını görebiliriz.\n",
        "\n",
        "Ayrıca RStudio kullanıyorsak yukarıdaki menülerde olan Help menüsünden arama çubuğu yardımı ile paketlerin yardım sayfalarına erişebiliriz."
      ],
      "metadata": {
        "id": "aUzNPlT-kbZ6"
      }
    },
    {
      "cell_type": "markdown",
      "source": [
        "# Soru 14 - R konsolu üzerinden `e1071` isimli paketin `svm` fonksiyonuna doğrudan nasıl ulaşılabilir?"
      ],
      "metadata": {
        "id": "oTGfadMrlY5-"
      }
    },
    {
      "cell_type": "code",
      "source": [
        "# paketi yüklemek için\n",
        "install.packages(\"e1071\")\n",
        "# paketi aktif etmek için\n",
        "library(e1071)\n",
        "# svm fonksiyonuna erişmek için\n",
        "model <- e1071::svm(x = iris)"
      ],
      "metadata": {
        "colab": {
          "base_uri": "https://localhost:8080/",
          "height": 610
        },
        "id": "5HX9JfuKh5wN",
        "outputId": "d250800f-776c-4a77-87d8-71389a4c6194"
      },
      "execution_count": null,
      "outputs": [
        {
          "output_type": "stream",
          "name": "stderr",
          "text": [
            "Installing package into ‘/usr/local/lib/R/site-library’\n",
            "(as ‘lib’ is unspecified)\n",
            "\n",
            "Warning message in FUN(newX[, i], ...):\n",
            "“NAs introduced by coercion”\n"
          ]
        },
        {
          "output_type": "error",
          "ename": "ERROR",
          "evalue": "Error in if (any(co)) {: missing value where TRUE/FALSE needed\n",
          "traceback": [
            "Error in if (any(co)) {: missing value where TRUE/FALSE needed\nTraceback:\n",
            "1. svm.default(x = iris)",
            "2. .handleSimpleError(function (cnd) \n . {\n .     watcher$capture_plot_and_output()\n .     cnd <- sanitize_call(cnd)\n .     watcher$push(cnd)\n .     switch(on_error, continue = invokeRestart(\"eval_continue\"), \n .         stop = invokeRestart(\"eval_stop\"), error = invokeRestart(\"eval_error\", \n .             cnd))\n . }, \"missing value where TRUE/FALSE needed\", base::quote(if (any(co)) {\n .     warning(paste(\"Variable(s)\", paste(sQuote(colnames(x[, scale, \n .         drop = FALSE])[co]), sep = \"\", collapse = \" and \"), \"constant. Cannot scale data.\"))\n .     scale <- rep(FALSE, ncol(x))\n . } else {\n .     xtmp <- scale_data_frame(x[, scale])\n .     x[, scale] <- xtmp\n .     x.scale <- attributes(xtmp)[c(\"scaled:center\", \"scaled:scale\")]\n .     if (is.numeric(y) && (type > 2)) {\n .         yorig <- y\n .         y <- scale(y)\n .         y.scale <- attributes(y)[c(\"scaled:center\", \"scaled:scale\")]\n .         y <- as.vector(y)\n .     }\n . }))"
          ]
        }
      ]
    },
    {
      "cell_type": "markdown",
      "source": [
        "# Soru 15 - R için çalışma alanı  olarak `C:/Test/` dizinini tanımlayınız.\n",
        "\n",
        "R'da çalışma alanı tanımlamak için setwd fonksiyonu kullanılır.\n",
        "\n",
        "> `setwd(\"C:/Test/\")`\n",
        "\n",
        "aşağıdaki fonksiyon ile de çalışma alanı görüntülenebilir.\n",
        "\n",
        "> `getwd()`"
      ],
      "metadata": {
        "id": "MZkdqJ9Hmeyk"
      }
    },
    {
      "cell_type": "markdown",
      "source": [
        "# # 15.10.2024 3. ders\n",
        "\n"
      ],
      "metadata": {
        "id": "_dlTc_SqEiQk"
      }
    },
    {
      "cell_type": "code",
      "source": [
        "#satır sütün sayısı\n",
        "ncol(iris) #sütün\n",
        "nrow(iris) #satır"
      ],
      "metadata": {
        "id": "ZUe4GjQuD0QN",
        "outputId": "9dca09d6-c0b1-417d-d95b-84bffe744de2",
        "colab": {
          "base_uri": "https://localhost:8080/",
          "height": 52
        }
      },
      "execution_count": 1,
      "outputs": [
        {
          "output_type": "display_data",
          "data": {
            "text/html": [
              "5"
            ],
            "text/markdown": "5",
            "text/latex": "5",
            "text/plain": [
              "[1] 5"
            ]
          },
          "metadata": {}
        },
        {
          "output_type": "display_data",
          "data": {
            "text/html": [
              "150"
            ],
            "text/markdown": "150",
            "text/latex": "150",
            "text/plain": [
              "[1] 150"
            ]
          },
          "metadata": {}
        }
      ]
    },
    {
      "cell_type": "code",
      "source": [
        "# paket yükleme\n",
        "install.packages(\"rpart\")\n",
        "# paketi aktif etme\n",
        "library()\n"
      ],
      "metadata": {
        "id": "I8YWGluREEvj"
      },
      "execution_count": null,
      "outputs": []
    },
    {
      "cell_type": "code",
      "source": [
        "# R paketleri bilgisayarda hangi konuma yüklendi?\n",
        ".libPaths()"
      ],
      "metadata": {
        "id": "sRbEE5xJFMNM",
        "outputId": "0526df8f-16ab-44ee-c20e-94dc06cc2444",
        "colab": {
          "base_uri": "https://localhost:8080/",
          "height": 34
        }
      },
      "execution_count": 4,
      "outputs": [
        {
          "output_type": "display_data",
          "data": {
            "text/html": [
              "<style>\n",
              ".list-inline {list-style: none; margin:0; padding: 0}\n",
              ".list-inline>li {display: inline-block}\n",
              ".list-inline>li:not(:last-child)::after {content: \"\\00b7\"; padding: 0 .5ex}\n",
              "</style>\n",
              "<ol class=list-inline><li>'/usr/local/lib/R/site-library'</li><li>'/usr/lib/R/site-library'</li><li>'/usr/lib/R/library'</li></ol>\n"
            ],
            "text/markdown": "1. '/usr/local/lib/R/site-library'\n2. '/usr/lib/R/site-library'\n3. '/usr/lib/R/library'\n\n\n",
            "text/latex": "\\begin{enumerate*}\n\\item '/usr/local/lib/R/site-library'\n\\item '/usr/lib/R/site-library'\n\\item '/usr/lib/R/library'\n\\end{enumerate*}\n",
            "text/plain": [
              "[1] \"/usr/local/lib/R/site-library\" \"/usr/lib/R/site-library\"      \n",
              "[3] \"/usr/lib/R/library\"           "
            ]
          },
          "metadata": {}
        }
      ]
    },
    {
      "cell_type": "code",
      "source": [
        "# bellekte yükü olan pketler\n",
        "search()"
      ],
      "metadata": {
        "id": "ZEIaouZQFffg",
        "outputId": "697f2221-b933-4ae8-f1b3-5b5e6a5a574e",
        "colab": {
          "base_uri": "https://localhost:8080/",
          "height": 34
        }
      },
      "execution_count": 5,
      "outputs": [
        {
          "output_type": "display_data",
          "data": {
            "text/html": [
              "<style>\n",
              ".list-inline {list-style: none; margin:0; padding: 0}\n",
              ".list-inline>li {display: inline-block}\n",
              ".list-inline>li:not(:last-child)::after {content: \"\\00b7\"; padding: 0 .5ex}\n",
              "</style>\n",
              "<ol class=list-inline><li>'.GlobalEnv'</li><li>'jupyter:irkernel'</li><li>'package:stats'</li><li>'package:graphics'</li><li>'package:grDevices'</li><li>'package:utils'</li><li>'package:datasets'</li><li>'package:methods'</li><li>'Autoloads'</li><li>'package:base'</li></ol>\n"
            ],
            "text/markdown": "1. '.GlobalEnv'\n2. 'jupyter:irkernel'\n3. 'package:stats'\n4. 'package:graphics'\n5. 'package:grDevices'\n6. 'package:utils'\n7. 'package:datasets'\n8. 'package:methods'\n9. 'Autoloads'\n10. 'package:base'\n\n\n",
            "text/latex": "\\begin{enumerate*}\n\\item '.GlobalEnv'\n\\item 'jupyter:irkernel'\n\\item 'package:stats'\n\\item 'package:graphics'\n\\item 'package:grDevices'\n\\item 'package:utils'\n\\item 'package:datasets'\n\\item 'package:methods'\n\\item 'Autoloads'\n\\item 'package:base'\n\\end{enumerate*}\n",
            "text/plain": [
              " [1] \".GlobalEnv\"        \"jupyter:irkernel\"  \"package:stats\"    \n",
              " [4] \"package:graphics\"  \"package:grDevices\" \"package:utils\"    \n",
              " [7] \"package:datasets\"  \"package:methods\"   \"Autoloads\"        \n",
              "[10] \"package:base\"     "
            ]
          },
          "metadata": {}
        }
      ]
    },
    {
      "cell_type": "code",
      "source": [
        "# yardım aracı\n",
        "help(class)\n",
        "help(package = class)\n",
        "?class"
      ],
      "metadata": {
        "id": "PHAfeBKEFtzo"
      },
      "execution_count": 8,
      "outputs": []
    },
    {
      "cell_type": "code",
      "source": [
        "#seçenekler kısmı için\n",
        "options()\n",
        "# width öğrenme\n",
        "options()?width\n",
        "options(width=120) # değiştirmek için"
      ],
      "metadata": {
        "id": "v5B8JHFbHT16",
        "outputId": "c14b5385-1bd3-44c1-bf97-07f5f74cbb79",
        "colab": {
          "base_uri": "https://localhost:8080/",
          "height": 1000
        }
      },
      "execution_count": 46,
      "outputs": [
        {
          "output_type": "display_data",
          "data": {
            "text/plain": [
              "$add.smooth\n",
              "[1] TRUE\n",
              "\n",
              "$bitmapType\n",
              "[1] \"cairo\"\n",
              "\n",
              "$browser\n",
              "[1] \"xdg-open\"\n",
              "\n",
              "$browserNLdisabled\n",
              "[1] FALSE\n",
              "\n",
              "$callr.condition_handler_cli_message\n",
              "function (msg) \n",
              "{\n",
              "    custom_handler <- getOption(\"cli.default_handler\")\n",
              "    if (is.function(custom_handler)) {\n",
              "        custom_handler(msg)\n",
              "    }\n",
              "    else {\n",
              "        cli_server_default(msg)\n",
              "    }\n",
              "}\n",
              "<bytecode: 0x5cfe373292e8>\n",
              "<environment: namespace:cli>\n",
              "\n",
              "$catch.script.errors\n",
              "[1] FALSE\n",
              "\n",
              "$CBoundsCheck\n",
              "[1] FALSE\n",
              "\n",
              "$check.bounds\n",
              "[1] FALSE\n",
              "\n",
              "$citation.bibtex.max\n",
              "[1] 1\n",
              "\n",
              "$continue\n",
              "[1] \"+ \"\n",
              "\n",
              "$contrasts\n",
              "        unordered           ordered \n",
              "\"contr.treatment\"      \"contr.poly\" \n",
              "\n",
              "$crayon.enabled\n",
              "[1] TRUE\n",
              "\n",
              "$defaultPackages\n",
              "[1] \"datasets\"  \"utils\"     \"grDevices\" \"graphics\"  \"stats\"     \"methods\"  \n",
              "\n",
              "$demo.ask\n",
              "[1] \"default\"\n",
              "\n",
              "$deparse.cutoff\n",
              "[1] 60\n",
              "\n",
              "$device\n",
              "function (filename = null_filename, ...) \n",
              "ok_device(filename, ...)\n",
              "<bytecode: 0x5cfe38098548>\n",
              "<environment: 0x5cfe38098040>\n",
              "\n",
              "$device.ask.default\n",
              "[1] FALSE\n",
              "\n",
              "$digits\n",
              "[1] 7\n",
              "\n",
              "$dvipscmd\n",
              "[1] \"dvips\"\n",
              "\n",
              "$echo\n",
              "[1] FALSE\n",
              "\n",
              "$editor\n",
              "[1] \"vi\"\n",
              "\n",
              "$encoding\n",
              "[1] \"native.enc\"\n",
              "\n",
              "$example.ask\n",
              "[1] \"default\"\n",
              "\n",
              "$expressions\n",
              "[1] 5000\n",
              "\n",
              "$help.search.types\n",
              "[1] \"vignette\" \"demo\"     \"help\"    \n",
              "\n",
              "$help.try.all.packages\n",
              "[1] FALSE\n",
              "\n",
              "$HTTPUserAgent\n",
              "[1] \"R (4.4.1 x86_64-pc-linux-gnu x86_64 linux-gnu)\"\n",
              "\n",
              "$internet.info\n",
              "[1] 2\n",
              "\n",
              "$jupyter.base_display_func\n",
              "Class method definition for method display_data()\n",
              "function (data, metadata = NULL) \n",
              "{\n",
              "    if (is.null(metadata)) {\n",
              "        metadata <- namedlist()\n",
              "    }\n",
              "    send_response(\"display_data\", current_request, \"iopub\", list(data = data, \n",
              "        metadata = metadata))\n",
              "    invisible(TRUE)\n",
              "}\n",
              "<environment: 0x5cfe35dbd7f0>\n",
              "\n",
              "$jupyter.clear_output_func\n",
              "Class method definition for method clear_output()\n",
              "function (wait = TRUE) \n",
              "{\n",
              "    send_response(\"clear_output\", current_request, \"iopub\", list(wait = wait))\n",
              "}\n",
              "<environment: 0x5cfe35dbd7f0>\n",
              "\n",
              "$jupyter.display_mimetypes\n",
              " [1] \"text/plain\"                       \"text/html\"                       \n",
              " [3] \"text/markdown\"                    \"text/latex\"                      \n",
              " [5] \"application/json\"                 \"application/javascript\"          \n",
              " [7] \"application/geo+json\"             \"application/vdom.v1+json\"        \n",
              " [9] \"application/vnd.plotly.v1+json\"   \"application/vnd.vegalite.v2+json\"\n",
              "[11] \"application/vnd.vega.v4+json\"     \"application/pdf\"                 \n",
              "[13] \"image/png\"                        \"image/jpeg\"                      \n",
              "[15] \"image/svg+xml\"                   \n",
              "\n",
              "$jupyter.in_kernel\n",
              "[1] TRUE\n",
              "\n",
              "$jupyter.log_level\n",
              "[1] 1\n",
              "\n",
              "$jupyter.logfile\n",
              "[1] NA\n",
              "\n",
              "$jupyter.pager_classes\n",
              "[1] \"packageIQR\"            \"help_files_with_topic\"\n",
              "\n",
              "$jupyter.plot_mimetypes\n",
              "[1] \"text/plain\" \"image/png\" \n",
              "\n",
              "$jupyter.plot_scale\n",
              "[1] 2\n",
              "\n",
              "$jupyter.rich_display\n",
              "[1] TRUE\n",
              "\n",
              "$keep.parse.data\n",
              "[1] TRUE\n",
              "\n",
              "$keep.parse.data.pkgs\n",
              "[1] FALSE\n",
              "\n",
              "$keep.source\n",
              "[1] FALSE\n",
              "\n",
              "$keep.source.pkgs\n",
              "[1] FALSE\n",
              "\n",
              "$locatorBell\n",
              "[1] TRUE\n",
              "\n",
              "$mailer\n",
              "[1] \"mailto\"\n",
              "\n",
              "$matprod\n",
              "[1] \"default\"\n",
              "\n",
              "$max.contour.segments\n",
              "[1] 25000\n",
              "\n",
              "$max.print\n",
              "[1] 99999\n",
              "\n",
              "$menu.graphics\n",
              "[1] TRUE\n",
              "\n",
              "$na.action\n",
              "[1] \"na.omit\"\n",
              "\n",
              "$nwarnings\n",
              "[1] 50\n",
              "\n",
              "$OutDec\n",
              "[1] \".\"\n",
              "\n",
              "$pager\n",
              "function (files, header, title, delete.file) \n",
              "{\n",
              "    text <- title\n",
              "    for (path in files) {\n",
              "        text <- c(text, header, readLines(path))\n",
              "    }\n",
              "    if (delete.file) \n",
              "        file.remove(files)\n",
              "    data <- list(`text/plain` = paste(text, collapse = \"\\n\"))\n",
              "    page(list(data = data, metadata = namedlist()))\n",
              "}\n",
              "<environment: 0x5cfe35d0e668>\n",
              "\n",
              "$papersize\n",
              "[1] \"a4\"\n",
              "\n",
              "$PCRE_limit_recursion\n",
              "[1] NA\n",
              "\n",
              "$PCRE_study\n",
              "[1] FALSE\n",
              "\n",
              "$PCRE_use_JIT\n",
              "[1] TRUE\n",
              "\n",
              "$pdfviewer\n",
              "[1] \"/usr/bin/xdg-open\"\n",
              "\n",
              "$pkgType\n",
              "[1] \"source\"\n",
              "\n",
              "$printcmd\n",
              "[1] \"/usr/bin/lpr\"\n",
              "\n",
              "$prompt\n",
              "[1] \"> \"\n",
              "\n",
              "$repos\n",
              "                      CRAN \n",
              "\"https://cran.rstudio.com\" \n",
              "\n",
              "$repr.function.highlight\n",
              "[1] FALSE\n",
              "\n",
              "$repr.html.deduplicate\n",
              "[1] FALSE\n",
              "\n",
              "$repr.matrix.latex.colspec\n",
              "$repr.matrix.latex.colspec$row_head\n",
              "[1] \"r|\"\n",
              "\n",
              "$repr.matrix.latex.colspec$col\n",
              "[1] \"l\"\n",
              "\n",
              "$repr.matrix.latex.colspec$end\n",
              "[1] \"\"\n",
              "\n",
              "\n",
              "$repr.matrix.max.cols\n",
              "[1] 20\n",
              "\n",
              "$repr.matrix.max.rows\n",
              "[1] 60\n",
              "\n",
              "$repr.plot.antialias\n",
              "[1] \"gray\"\n",
              "\n",
              "$repr.plot.bg\n",
              "[1] \"white\"\n",
              "\n",
              "$repr.plot.family\n",
              "[1] \"sans\"\n",
              "\n",
              "$repr.plot.height\n",
              "[1] 7\n",
              "\n",
              "$repr.plot.pointsize\n",
              "[1] 12\n",
              "\n",
              "$repr.plot.quality\n",
              "[1] 90\n",
              "\n",
              "$repr.plot.res\n",
              "[1] 120\n",
              "\n",
              "$repr.plot.width\n",
              "[1] 7\n",
              "\n",
              "$repr.vector.max.items\n",
              "[1] 400\n",
              "\n",
              "$repr.vector.quote\n",
              "[1] TRUE\n",
              "\n",
              "$rl_word_breaks\n",
              "[1] \" \\t\\n\\\"\\\\'`><=%;,|&{()}\"\n",
              "\n",
              "$scipen\n",
              "[1] 0\n",
              "\n",
              "$show.coef.Pvalues\n",
              "[1] TRUE\n",
              "\n",
              "$show.error.messages\n",
              "[1] TRUE\n",
              "\n",
              "$show.signif.stars\n",
              "[1] TRUE\n",
              "\n",
              "$showErrorCalls\n",
              "[1] TRUE\n",
              "\n",
              "$showNCalls\n",
              "[1] 50\n",
              "\n",
              "$showWarnCalls\n",
              "[1] FALSE\n",
              "\n",
              "$str\n",
              "$str$strict.width\n",
              "[1] \"no\"\n",
              "\n",
              "$str$digits.d\n",
              "[1] 3\n",
              "\n",
              "$str$vec.len\n",
              "[1] 4\n",
              "\n",
              "$str$list.len\n",
              "[1] 99\n",
              "\n",
              "$str$deparse.lines\n",
              "NULL\n",
              "\n",
              "$str$drop.deparse.attr\n",
              "[1] TRUE\n",
              "\n",
              "$str$formatNum\n",
              "function (x, ...) \n",
              "format(x, trim = TRUE, drop0trailing = TRUE, ...)\n",
              "<environment: 0x5cfe36aedc80>\n",
              "\n",
              "\n",
              "$str.dendrogram.last\n",
              "[1] \"`\"\n",
              "\n",
              "$texi2dvi\n",
              "[1] \"/usr/bin/texi2dvi\"\n",
              "\n",
              "$timeout\n",
              "[1] 60\n",
              "\n",
              "$try.outFile\n",
              "A connection with                    \n",
              "description \"\"      \n",
              "class       \"file\"  \n",
              "mode        \"w+b\"   \n",
              "text        \"binary\"\n",
              "opened      \"opened\"\n",
              "can read    \"yes\"   \n",
              "can write   \"yes\"   \n",
              "\n",
              "$ts.eps\n",
              "[1] 1e-05\n",
              "\n",
              "$ts.S.compat\n",
              "[1] FALSE\n",
              "\n",
              "$unzip\n",
              "[1] \"/usr/bin/unzip\"\n",
              "\n",
              "$useFancyQuotes\n",
              "[1] TRUE\n",
              "\n",
              "$verbose\n",
              "[1] FALSE\n",
              "\n",
              "$warn\n",
              "[1] 0\n",
              "\n",
              "$warning.length\n",
              "[1] 1000\n",
              "\n",
              "$warnPartialMatchArgs\n",
              "[1] FALSE\n",
              "\n",
              "$warnPartialMatchAttr\n",
              "[1] FALSE\n",
              "\n",
              "$warnPartialMatchDollar\n",
              "[1] FALSE\n",
              "\n",
              "$width\n",
              "[1] 80\n"
            ]
          },
          "metadata": {}
        },
        {
          "output_type": "error",
          "ename": "ERROR",
          "evalue": "Error in if (type == \"package\") package <- topic: the condition has length > 1\n",
          "traceback": [
            "Error in if (type == \"package\") package <- topic: the condition has length > 1\nTraceback:\n",
            "1. .handleSimpleError(function (cnd) \n . {\n .     watcher$capture_plot_and_output()\n .     cnd <- sanitize_call(cnd)\n .     watcher$push(cnd)\n .     switch(on_error, continue = invokeRestart(\"eval_continue\"), \n .         stop = invokeRestart(\"eval_stop\"), error = invokeRestart(\"eval_error\", \n .             cnd))\n . }, \"the condition has length > 1\", base::quote(if (type == \"package\") package <- topic))"
          ]
        }
      ]
    },
    {
      "cell_type": "markdown",
      "source": [
        "# Vektörler ve faktörler"
      ],
      "metadata": {
        "id": "mhMqk1DDH1ET"
      }
    },
    {
      "cell_type": "code",
      "source": [
        "# vektör oluşturmak için c() kullanılır\n",
        "a<-c(1,2,3,4,5)\n",
        "show(a)\n",
        "\n"
      ],
      "metadata": {
        "id": "2cIXhWz3HEVk",
        "outputId": "e25d3f82-40f2-47e6-f268-7dfbb67e9633",
        "colab": {
          "base_uri": "https://localhost:8080/"
        }
      },
      "execution_count": 15,
      "outputs": [
        {
          "output_type": "stream",
          "name": "stdout",
          "text": [
            "[1] 1 2 3 4 5\n"
          ]
        }
      ]
    },
    {
      "cell_type": "code",
      "source": [
        "# assign ile vektör oluşturma\n",
        "assign(\"a\",c(1,2,3,4,5))\n",
        "assign(\"i\",c(3,7,9,11))\n",
        "show(i)"
      ],
      "metadata": {
        "id": "mpcOO9mBIJND",
        "outputId": "0dd45405-2f44-4fb3-cf3a-01ade20697c3",
        "colab": {
          "base_uri": "https://localhost:8080/"
        }
      },
      "execution_count": 18,
      "outputs": [
        {
          "output_type": "stream",
          "name": "stdout",
          "text": [
            "[1]  3  7  9 11\n"
          ]
        }
      ]
    },
    {
      "cell_type": "code",
      "source": [
        "b<-c(6,7,a) # var olanı vektörü başka vektörde de kullanılabilir\n",
        "show(b)\n"
      ],
      "metadata": {
        "id": "InH3Bv6bI0Eh",
        "outputId": "0a747760-43f6-4b99-faed-7e4c37b7a72a",
        "colab": {
          "base_uri": "https://localhost:8080/"
        }
      },
      "execution_count": 21,
      "outputs": [
        {
          "output_type": "stream",
          "name": "stdout",
          "text": [
            "[1] 6 7 1 2 3 4 5\n"
          ]
        }
      ]
    },
    {
      "cell_type": "code",
      "source": [
        "# bir vektörde sayısal ve mantıksal değer alabilir ama 1 türden veri var olur\n",
        "s<-c(25,12.3,F,\"burak\")\n",
        "class(s) # karakter olarak algılıyor hepsini\n",
        "\n",
        "\n",
        "n<-c(12,13,T) # numeric olarak alır\n",
        "class(n)"
      ],
      "metadata": {
        "id": "zvkv5A1pJV_x",
        "outputId": "4e950aaf-6500-4f5b-cdd2-9b3e397bfec0",
        "colab": {
          "base_uri": "https://localhost:8080/",
          "height": 52
        }
      },
      "execution_count": 23,
      "outputs": [
        {
          "output_type": "display_data",
          "data": {
            "text/html": [
              "'character'"
            ],
            "text/markdown": "'character'",
            "text/latex": "'character'",
            "text/plain": [
              "[1] \"character\""
            ]
          },
          "metadata": {}
        },
        {
          "output_type": "display_data",
          "data": {
            "text/html": [
              "'numeric'"
            ],
            "text/markdown": "'numeric'",
            "text/latex": "'numeric'",
            "text/plain": [
              "[1] \"numeric\""
            ]
          },
          "metadata": {}
        }
      ]
    },
    {
      "cell_type": "code",
      "source": [
        "# vektör indeksi\n",
        "# vektör bir boyutlu bir dizidir\n",
        "# vektörler indekse sahiptir\n",
        "# indeks vektördeki her bir değerin pozisyonunu yerini belirtir\n",
        "v<-c(5,7,3,1,0,-3)\n",
        "v[4]\n",
        "v[-1] # 1. değeri siler (ama tanımlaman gerekli)\n",
        "v<-v[-1] #şeklinde\n",
        "show(v)\n"
      ],
      "metadata": {
        "id": "KVeJ5AmDJ0oJ",
        "outputId": "ad1c4c82-4dd3-46b7-acf7-8e1a1d96c0bb",
        "colab": {
          "base_uri": "https://localhost:8080/",
          "height": 70
        }
      },
      "execution_count": 37,
      "outputs": [
        {
          "output_type": "display_data",
          "data": {
            "text/html": [
              "1"
            ],
            "text/markdown": "1",
            "text/latex": "1",
            "text/plain": [
              "[1] 1"
            ]
          },
          "metadata": {}
        },
        {
          "output_type": "display_data",
          "data": {
            "text/html": [
              "<style>\n",
              ".list-inline {list-style: none; margin:0; padding: 0}\n",
              ".list-inline>li {display: inline-block}\n",
              ".list-inline>li:not(:last-child)::after {content: \"\\00b7\"; padding: 0 .5ex}\n",
              "</style>\n",
              "<ol class=list-inline><li>7</li><li>3</li><li>1</li><li>0</li><li>-3</li></ol>\n"
            ],
            "text/markdown": "1. 7\n2. 3\n3. 1\n4. 0\n5. -3\n\n\n",
            "text/latex": "\\begin{enumerate*}\n\\item 7\n\\item 3\n\\item 1\n\\item 0\n\\item -3\n\\end{enumerate*}\n",
            "text/plain": [
              "[1]  7  3  1  0 -3"
            ]
          },
          "metadata": {}
        },
        {
          "output_type": "stream",
          "name": "stdout",
          "text": [
            "[1]  7  3  1  0 -3\n"
          ]
        }
      ]
    },
    {
      "cell_type": "code",
      "source": [
        "# dışında kalan bir değeri çalıştırmayı deniyelim\n",
        "v[8]\n",
        "# bir çok değeri görüntülemek için\n",
        "v[c(1,5)]\n",
        "\n",
        "v[c(1:3)] #1. değerdem 3. değere kadar sıralar\n",
        "\n"
      ],
      "metadata": {
        "id": "xEUfQz3kLGrx",
        "outputId": "d2348ab3-979c-4151-a552-27719250689a",
        "colab": {
          "base_uri": "https://localhost:8080/",
          "height": 69
        }
      },
      "execution_count": 38,
      "outputs": [
        {
          "output_type": "display_data",
          "data": {
            "text/html": [
              "&lt;NA&gt;"
            ],
            "text/markdown": "&lt;NA&gt;",
            "text/latex": "<NA>",
            "text/plain": [
              "[1] NA"
            ]
          },
          "metadata": {}
        },
        {
          "output_type": "display_data",
          "data": {
            "text/html": [
              "<style>\n",
              ".list-inline {list-style: none; margin:0; padding: 0}\n",
              ".list-inline>li {display: inline-block}\n",
              ".list-inline>li:not(:last-child)::after {content: \"\\00b7\"; padding: 0 .5ex}\n",
              "</style>\n",
              "<ol class=list-inline><li>7</li><li>-3</li></ol>\n"
            ],
            "text/markdown": "1. 7\n2. -3\n\n\n",
            "text/latex": "\\begin{enumerate*}\n\\item 7\n\\item -3\n\\end{enumerate*}\n",
            "text/plain": [
              "[1]  7 -3"
            ]
          },
          "metadata": {}
        },
        {
          "output_type": "display_data",
          "data": {
            "text/html": [
              "<style>\n",
              ".list-inline {list-style: none; margin:0; padding: 0}\n",
              ".list-inline>li {display: inline-block}\n",
              ".list-inline>li:not(:last-child)::after {content: \"\\00b7\"; padding: 0 .5ex}\n",
              "</style>\n",
              "<ol class=list-inline><li>7</li><li>3</li><li>1</li></ol>\n"
            ],
            "text/markdown": "1. 7\n2. 3\n3. 1\n\n\n",
            "text/latex": "\\begin{enumerate*}\n\\item 7\n\\item 3\n\\item 1\n\\end{enumerate*}\n",
            "text/plain": [
              "[1] 7 3 1"
            ]
          },
          "metadata": {}
        }
      ]
    },
    {
      "cell_type": "code",
      "source": [
        "v[c(1:10)]<-2 #hepsi 2 olur\n",
        "show(v)\n"
      ],
      "metadata": {
        "id": "GgwB91tYL5Zn"
      },
      "execution_count": null,
      "outputs": []
    },
    {
      "cell_type": "code",
      "source": [
        "v[c(1:20)]<- \"Berat\"\n",
        "show(v)"
      ],
      "metadata": {
        "id": "1Y4HiNY9MApe",
        "outputId": "e0244a98-05e9-4126-b819-aa899b5ede14",
        "colab": {
          "base_uri": "https://localhost:8080/"
        }
      },
      "execution_count": 40,
      "outputs": [
        {
          "output_type": "stream",
          "name": "stdout",
          "text": [
            " [1] \"Berat\" \"Berat\" \"Berat\" \"Berat\" \"Berat\" \"Berat\" \"Berat\" \"Berat\" \"Berat\"\n",
            "[10] \"Berat\" \"Berat\" \"Berat\" \"Berat\" \"Berat\" \"Berat\" \"Berat\" \"Berat\" \"Berat\"\n",
            "[19] \"Berat\" \"Berat\"\n"
          ]
        }
      ]
    },
    {
      "cell_type": "code",
      "source": [
        "d<-c(3,5,7,9,-3)\n",
        "d*5 #çarpma işlemi\n",
        "show(d)"
      ],
      "metadata": {
        "id": "2HtRcnlGMLtt",
        "outputId": "2a989b1e-c14d-44d0-87e1-e7c4e73cb842",
        "colab": {
          "base_uri": "https://localhost:8080/",
          "height": 53
        }
      },
      "execution_count": 41,
      "outputs": [
        {
          "output_type": "display_data",
          "data": {
            "text/html": [
              "<style>\n",
              ".list-inline {list-style: none; margin:0; padding: 0}\n",
              ".list-inline>li {display: inline-block}\n",
              ".list-inline>li:not(:last-child)::after {content: \"\\00b7\"; padding: 0 .5ex}\n",
              "</style>\n",
              "<ol class=list-inline><li>15</li><li>25</li><li>35</li><li>45</li><li>-15</li></ol>\n"
            ],
            "text/markdown": "1. 15\n2. 25\n3. 35\n4. 45\n5. -15\n\n\n",
            "text/latex": "\\begin{enumerate*}\n\\item 15\n\\item 25\n\\item 35\n\\item 45\n\\item -15\n\\end{enumerate*}\n",
            "text/plain": [
              "[1]  15  25  35  45 -15"
            ]
          },
          "metadata": {}
        },
        {
          "output_type": "stream",
          "name": "stdout",
          "text": [
            "[1]  3  5  7  9 -3\n"
          ]
        }
      ]
    },
    {
      "cell_type": "code",
      "source": [
        "a<-c(4,5,9,6,3,4,7)\n",
        "t<-d+a\n",
        "\n"
      ],
      "metadata": {
        "id": "Qryx-kWMMXI4",
        "outputId": "797c6370-befc-49ce-fb78-6c5c5e8faa61",
        "colab": {
          "base_uri": "https://localhost:8080/"
        }
      },
      "execution_count": 45,
      "outputs": [
        {
          "output_type": "stream",
          "name": "stderr",
          "text": [
            "Warning message in d + a:\n",
            "“longer object length is not a multiple of shorter object length”\n"
          ]
        },
        {
          "output_type": "stream",
          "name": "stdout",
          "text": [
            "[1]  7 10 16 15  0  7 12\n"
          ]
        }
      ]
    },
    {
      "cell_type": "code",
      "source": [
        "  # mantıksal vektöler\n",
        "  # mantıksal değerler T , F ve ya NA olabilirler\n",
        "\n",
        "  k<-c(5,7,3,1,0,-1)\n",
        "  k>3 #tüm değerleri 3 den büyük mü sorusunu sorar\n",
        "\n",
        "  k<3 & k!=0 #3 den küçük ve 0 dan farklı olan\n",
        "\n",
        "  k<3 | k!=0 #3 den küçük VE YA 0 dan farklı\n",
        "\n",
        ""
      ],
      "metadata": {
        "id": "UziKrXF_Mqzf",
        "outputId": "117712de-1260-4e5b-c52f-83860e0401a3",
        "colab": {
          "base_uri": "https://localhost:8080/",
          "height": 69
        }
      },
      "execution_count": 52,
      "outputs": [
        {
          "output_type": "display_data",
          "data": {
            "text/html": [
              "<style>\n",
              ".list-inline {list-style: none; margin:0; padding: 0}\n",
              ".list-inline>li {display: inline-block}\n",
              ".list-inline>li:not(:last-child)::after {content: \"\\00b7\"; padding: 0 .5ex}\n",
              "</style>\n",
              "<ol class=list-inline><li>TRUE</li><li>TRUE</li><li>FALSE</li><li>FALSE</li><li>FALSE</li><li>FALSE</li></ol>\n"
            ],
            "text/markdown": "1. TRUE\n2. TRUE\n3. FALSE\n4. FALSE\n5. FALSE\n6. FALSE\n\n\n",
            "text/latex": "\\begin{enumerate*}\n\\item TRUE\n\\item TRUE\n\\item FALSE\n\\item FALSE\n\\item FALSE\n\\item FALSE\n\\end{enumerate*}\n",
            "text/plain": [
              "[1]  TRUE  TRUE FALSE FALSE FALSE FALSE"
            ]
          },
          "metadata": {}
        },
        {
          "output_type": "display_data",
          "data": {
            "text/html": [
              "<style>\n",
              ".list-inline {list-style: none; margin:0; padding: 0}\n",
              ".list-inline>li {display: inline-block}\n",
              ".list-inline>li:not(:last-child)::after {content: \"\\00b7\"; padding: 0 .5ex}\n",
              "</style>\n",
              "<ol class=list-inline><li>FALSE</li><li>FALSE</li><li>FALSE</li><li>TRUE</li><li>FALSE</li><li>TRUE</li></ol>\n"
            ],
            "text/markdown": "1. FALSE\n2. FALSE\n3. FALSE\n4. TRUE\n5. FALSE\n6. TRUE\n\n\n",
            "text/latex": "\\begin{enumerate*}\n\\item FALSE\n\\item FALSE\n\\item FALSE\n\\item TRUE\n\\item FALSE\n\\item TRUE\n\\end{enumerate*}\n",
            "text/plain": [
              "[1] FALSE FALSE FALSE  TRUE FALSE  TRUE"
            ]
          },
          "metadata": {}
        },
        {
          "output_type": "display_data",
          "data": {
            "text/html": [
              "<style>\n",
              ".list-inline {list-style: none; margin:0; padding: 0}\n",
              ".list-inline>li {display: inline-block}\n",
              ".list-inline>li:not(:last-child)::after {content: \"\\00b7\"; padding: 0 .5ex}\n",
              "</style>\n",
              "<ol class=list-inline><li>TRUE</li><li>TRUE</li><li>TRUE</li><li>TRUE</li><li>TRUE</li><li>TRUE</li></ol>\n"
            ],
            "text/markdown": "1. TRUE\n2. TRUE\n3. TRUE\n4. TRUE\n5. TRUE\n6. TRUE\n\n\n",
            "text/latex": "\\begin{enumerate*}\n\\item TRUE\n\\item TRUE\n\\item TRUE\n\\item TRUE\n\\item TRUE\n\\item TRUE\n\\end{enumerate*}\n",
            "text/plain": [
              "[1] TRUE TRUE TRUE TRUE TRUE TRUE"
            ]
          },
          "metadata": {}
        }
      ]
    },
    {
      "cell_type": "code",
      "source": [
        "# karakter vektörler\n",
        "isim<-c(\"nur\",\"efe\",\"nuri\",\"nazlıcan\",\"celebi\",\"yusuf\",\"feyzullah\",\"talip\",\"emre\")\n",
        "isim"
      ],
      "metadata": {
        "id": "yQXp6RAiOIbO",
        "outputId": "48b1e6e7-276b-4b6a-db07-40c1e757a8b1",
        "colab": {
          "base_uri": "https://localhost:8080/",
          "height": 34
        }
      },
      "execution_count": 53,
      "outputs": [
        {
          "output_type": "display_data",
          "data": {
            "text/html": [
              "<style>\n",
              ".list-inline {list-style: none; margin:0; padding: 0}\n",
              ".list-inline>li {display: inline-block}\n",
              ".list-inline>li:not(:last-child)::after {content: \"\\00b7\"; padding: 0 .5ex}\n",
              "</style>\n",
              "<ol class=list-inline><li>'nur'</li><li>'efe'</li><li>'nuri'</li><li>'nazlıcan'</li><li>'celebi'</li><li>'yusuf'</li><li>'feyzullah'</li><li>'talip'</li><li>'emre'</li></ol>\n"
            ],
            "text/markdown": "1. 'nur'\n2. 'efe'\n3. 'nuri'\n4. 'nazlıcan'\n5. 'celebi'\n6. 'yusuf'\n7. 'feyzullah'\n8. 'talip'\n9. 'emre'\n\n\n",
            "text/latex": "\\begin{enumerate*}\n\\item 'nur'\n\\item 'efe'\n\\item 'nuri'\n\\item 'nazlıcan'\n\\item 'celebi'\n\\item 'yusuf'\n\\item 'feyzullah'\n\\item 'talip'\n\\item 'emre'\n\\end{enumerate*}\n",
            "text/plain": [
              "[1] \"nur\"       \"efe\"       \"nuri\"      \"nazlıcan\"  \"celebi\"    \"yusuf\"    \n",
              "[7] \"feyzullah\" \"talip\"     \"emre\"     "
            ]
          },
          "metadata": {}
        }
      ]
    },
    {
      "cell_type": "code",
      "source": [
        "# başında yada sonuna elemean ekleme\n",
        "isim<-c(isim,\"melda\")\n",
        "isim\n",
        "length(isim) # kaç elamanlı olduğunu gösterir\n"
      ],
      "metadata": {
        "id": "fo7E8fUtOjpW",
        "outputId": "b5b4c8a7-178c-4c7e-bdde-3fcbf8cbdded",
        "colab": {
          "base_uri": "https://localhost:8080/",
          "height": 52
        }
      },
      "execution_count": 56,
      "outputs": [
        {
          "output_type": "display_data",
          "data": {
            "text/html": [
              "<style>\n",
              ".list-inline {list-style: none; margin:0; padding: 0}\n",
              ".list-inline>li {display: inline-block}\n",
              ".list-inline>li:not(:last-child)::after {content: \"\\00b7\"; padding: 0 .5ex}\n",
              "</style>\n",
              "<ol class=list-inline><li>'nur'</li><li>'efe'</li><li>'nuri'</li><li>'nazlıcan'</li><li>'celebi'</li><li>'yusuf'</li><li>'feyzullah'</li><li>'talip'</li><li>'emre'</li><li>'melda'</li><li>'melda'</li><li>'melda'</li></ol>\n"
            ],
            "text/markdown": "1. 'nur'\n2. 'efe'\n3. 'nuri'\n4. 'nazlıcan'\n5. 'celebi'\n6. 'yusuf'\n7. 'feyzullah'\n8. 'talip'\n9. 'emre'\n10. 'melda'\n11. 'melda'\n12. 'melda'\n\n\n",
            "text/latex": "\\begin{enumerate*}\n\\item 'nur'\n\\item 'efe'\n\\item 'nuri'\n\\item 'nazlıcan'\n\\item 'celebi'\n\\item 'yusuf'\n\\item 'feyzullah'\n\\item 'talip'\n\\item 'emre'\n\\item 'melda'\n\\item 'melda'\n\\item 'melda'\n\\end{enumerate*}\n",
            "text/plain": [
              " [1] \"nur\"       \"efe\"       \"nuri\"      \"nazlıcan\"  \"celebi\"    \"yusuf\"    \n",
              " [7] \"feyzullah\" \"talip\"     \"emre\"      \"melda\"     \"melda\"     \"melda\"    "
            ]
          },
          "metadata": {}
        },
        {
          "output_type": "display_data",
          "data": {
            "text/html": [
              "12"
            ],
            "text/markdown": "12",
            "text/latex": "12",
            "text/plain": [
              "[1] 12"
            ]
          },
          "metadata": {}
        }
      ]
    },
    {
      "cell_type": "markdown",
      "source": [
        "vektörlerin harf saysını görme\n"
      ],
      "metadata": {
        "id": "Gu2wcJwgPOmE"
      }
    },
    {
      "cell_type": "code",
      "source": [
        "nchar(isim)"
      ],
      "metadata": {
        "id": "GB5UCrR5Qbx2",
        "outputId": "1ef93f96-bba5-4633-a020-436229165f0e",
        "colab": {
          "base_uri": "https://localhost:8080/",
          "height": 34
        }
      },
      "execution_count": 59,
      "outputs": [
        {
          "output_type": "display_data",
          "data": {
            "text/html": [
              "<style>\n",
              ".list-inline {list-style: none; margin:0; padding: 0}\n",
              ".list-inline>li {display: inline-block}\n",
              ".list-inline>li:not(:last-child)::after {content: \"\\00b7\"; padding: 0 .5ex}\n",
              "</style>\n",
              "<ol class=list-inline><li>3</li><li>3</li><li>4</li><li>8</li><li>6</li><li>5</li><li>9</li><li>5</li><li>4</li><li>5</li><li>5</li><li>5</li></ol>\n"
            ],
            "text/markdown": "1. 3\n2. 3\n3. 4\n4. 8\n5. 6\n6. 5\n7. 9\n8. 5\n9. 4\n10. 5\n11. 5\n12. 5\n\n\n",
            "text/latex": "\\begin{enumerate*}\n\\item 3\n\\item 3\n\\item 4\n\\item 8\n\\item 6\n\\item 5\n\\item 9\n\\item 5\n\\item 4\n\\item 5\n\\item 5\n\\item 5\n\\end{enumerate*}\n",
            "text/plain": [
              " [1] 3 3 4 8 6 5 9 5 4 5 5 5"
            ]
          },
          "metadata": {}
        }
      ]
    },
    {
      "cell_type": "code",
      "source": [
        "# vektörlerin birleştirlmesi\n",
        "x<-c(2,4,6)\n",
        "y<-c(1,3,5,7)\n",
        "h<-c(x,y)\n",
        "h"
      ],
      "metadata": {
        "id": "GY1CKRDbP1oj",
        "outputId": "fe4ef835-2542-4531-929c-4cb4acb21673",
        "colab": {
          "base_uri": "https://localhost:8080/",
          "height": 34
        }
      },
      "execution_count": 58,
      "outputs": [
        {
          "output_type": "display_data",
          "data": {
            "text/html": [
              "<style>\n",
              ".list-inline {list-style: none; margin:0; padding: 0}\n",
              ".list-inline>li {display: inline-block}\n",
              ".list-inline>li:not(:last-child)::after {content: \"\\00b7\"; padding: 0 .5ex}\n",
              "</style>\n",
              "<ol class=list-inline><li>2</li><li>4</li><li>6</li><li>1</li><li>3</li><li>5</li><li>7</li></ol>\n"
            ],
            "text/markdown": "1. 2\n2. 4\n3. 6\n4. 1\n5. 3\n6. 5\n7. 7\n\n\n",
            "text/latex": "\\begin{enumerate*}\n\\item 2\n\\item 4\n\\item 6\n\\item 1\n\\item 3\n\\item 5\n\\item 7\n\\end{enumerate*}\n",
            "text/plain": [
              "[1] 2 4 6 1 3 5 7"
            ]
          },
          "metadata": {}
        }
      ]
    }
  ]
}