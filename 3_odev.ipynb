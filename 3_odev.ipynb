{
  "nbformat": 4,
  "nbformat_minor": 0,
  "metadata": {
    "colab": {
      "provenance": [],
      "authorship_tag": "ABX9TyPmKmf0yOOuj51tesaqQLyh",
      "include_colab_link": true
    },
    "kernelspec": {
      "name": "ir",
      "display_name": "R"
    },
    "language_info": {
      "name": "R"
    }
  },
  "cells": [
    {
      "cell_type": "markdown",
      "metadata": {
        "id": "view-in-github",
        "colab_type": "text"
      },
      "source": [
        "<a href=\"https://colab.research.google.com/github/beratkc/Rprogramlama/blob/main/3_odev.ipynb\" target=\"_parent\"><img src=\"https://colab.research.google.com/assets/colab-badge.svg\" alt=\"Open In Colab\"/></a>"
      ]
    },
    {
      "cell_type": "markdown",
      "source": [
        "# Matrisler\n"
      ],
      "metadata": {
        "id": "VpoDWfxf2w_d"
      }
    },
    {
      "cell_type": "markdown",
      "source": [
        " Matris oluşturma\n",
        ""
      ],
      "metadata": {
        "id": "CoXAp5RM21Nv"
      }
    },
    {
      "cell_type": "code",
      "execution_count": 2,
      "metadata": {
        "colab": {
          "base_uri": "https://localhost:8080/",
          "height": 146
        },
        "id": "oefCjOvNtt71",
        "outputId": "83eed090-4b5b-4296-d9a5-142a15f5ad74"
      },
      "outputs": [
        {
          "output_type": "display_data",
          "data": {
            "text/html": [
              "<table class=\"dataframe\">\n",
              "<caption>A matrix: 3 × 4 of type dbl</caption>\n",
              "<tbody>\n",
              "\t<tr><td>3</td><td>2</td><td>-1</td><td>8</td></tr>\n",
              "\t<tr><td>7</td><td>1</td><td> 3</td><td>6</td></tr>\n",
              "\t<tr><td>8</td><td>0</td><td> 8</td><td>3</td></tr>\n",
              "</tbody>\n",
              "</table>\n"
            ],
            "text/markdown": "\nA matrix: 3 × 4 of type dbl\n\n| 3 | 2 | -1 | 8 |\n| 7 | 1 |  3 | 6 |\n| 8 | 0 |  8 | 3 |\n\n",
            "text/latex": "A matrix: 3 × 4 of type dbl\n\\begin{tabular}{llll}\n\t 3 & 2 & -1 & 8\\\\\n\t 7 & 1 &  3 & 6\\\\\n\t 8 & 0 &  8 & 3\\\\\n\\end{tabular}\n",
            "text/plain": [
              "     [,1] [,2] [,3] [,4]\n",
              "[1,] 3    2    -1   8   \n",
              "[2,] 7    1     3   6   \n",
              "[3,] 8    0     8   3   "
            ]
          },
          "metadata": {}
        }
      ],
      "source": [
        "# (3x4)lük matris\n",
        "m<-matrix(c(3,7,8,2,1,0,-1,3,8,8,6,3),3,4)\n",
        "m"
      ]
    },
    {
      "cell_type": "code",
      "source": [
        "# (3x3)lük matris\n",
        "\n",
        "mx<-matrix(c(7,3,2,1,6,3,8,3,1),3,3)\n",
        "mx"
      ],
      "metadata": {
        "colab": {
          "base_uri": "https://localhost:8080/",
          "height": 163
        },
        "id": "uHBjS-6Uu9mv",
        "outputId": "f094afe6-9e91-46bf-c4e9-4bde771dac4e"
      },
      "execution_count": 4,
      "outputs": [
        {
          "output_type": "display_data",
          "data": {
            "text/html": [
              "<table class=\"dataframe\">\n",
              "<caption>A matrix: 3 × 3 of type dbl</caption>\n",
              "<tbody>\n",
              "\t<tr><td>7</td><td>1</td><td>8</td></tr>\n",
              "\t<tr><td>3</td><td>6</td><td>3</td></tr>\n",
              "\t<tr><td>2</td><td>3</td><td>1</td></tr>\n",
              "</tbody>\n",
              "</table>\n"
            ],
            "text/markdown": "\nA matrix: 3 × 3 of type dbl\n\n| 7 | 1 | 8 |\n| 3 | 6 | 3 |\n| 2 | 3 | 1 |\n\n",
            "text/latex": "A matrix: 3 × 3 of type dbl\n\\begin{tabular}{lll}\n\t 7 & 1 & 8\\\\\n\t 3 & 6 & 3\\\\\n\t 2 & 3 & 1\\\\\n\\end{tabular}\n",
            "text/plain": [
              "     [,1] [,2] [,3]\n",
              "[1,] 7    1    8   \n",
              "[2,] 3    6    3   \n",
              "[3,] 2    3    1   "
            ]
          },
          "metadata": {}
        }
      ]
    },
    {
      "cell_type": "markdown",
      "source": [
        "satır öncelikli matris oluşturma"
      ],
      "metadata": {
        "id": "m57fhPQHvzqH"
      }
    },
    {
      "cell_type": "code",
      "source": [
        "mx1<-matrix(c(5,1,7,8,3,0,2,-2,6),3,3,byrow = T) # byrow=T satır önceliği tanır\n",
        "mx1"
      ],
      "metadata": {
        "colab": {
          "base_uri": "https://localhost:8080/",
          "height": 163
        },
        "id": "a-y3jtk5vxQf",
        "outputId": "087b8c98-cc35-429e-971d-893936356c04"
      },
      "execution_count": 5,
      "outputs": [
        {
          "output_type": "display_data",
          "data": {
            "text/html": [
              "<table class=\"dataframe\">\n",
              "<caption>A matrix: 3 × 3 of type dbl</caption>\n",
              "<tbody>\n",
              "\t<tr><td>5</td><td> 1</td><td>7</td></tr>\n",
              "\t<tr><td>8</td><td> 3</td><td>0</td></tr>\n",
              "\t<tr><td>2</td><td>-2</td><td>6</td></tr>\n",
              "</tbody>\n",
              "</table>\n"
            ],
            "text/markdown": "\nA matrix: 3 × 3 of type dbl\n\n| 5 |  1 | 7 |\n| 8 |  3 | 0 |\n| 2 | -2 | 6 |\n\n",
            "text/latex": "A matrix: 3 × 3 of type dbl\n\\begin{tabular}{lll}\n\t 5 &  1 & 7\\\\\n\t 8 &  3 & 0\\\\\n\t 2 & -2 & 6\\\\\n\\end{tabular}\n",
            "text/plain": [
              "     [,1] [,2] [,3]\n",
              "[1,] 5     1   7   \n",
              "[2,] 8     3   0   \n",
              "[3,] 2    -2   6   "
            ]
          },
          "metadata": {}
        }
      ]
    },
    {
      "cell_type": "code",
      "source": [
        "mx2<-matrix(c(-1,4,-5,0,3,8),2,3,byrow = T)\n",
        "mx2"
      ],
      "metadata": {
        "colab": {
          "base_uri": "https://localhost:8080/",
          "height": 132
        },
        "id": "UaVhXAKIwYGj",
        "outputId": "5a3632bf-01c8-43cf-ce98-f27566f9ed3e"
      },
      "execution_count": 8,
      "outputs": [
        {
          "output_type": "display_data",
          "data": {
            "text/html": [
              "<table class=\"dataframe\">\n",
              "<caption>A matrix: 2 × 3 of type dbl</caption>\n",
              "<tbody>\n",
              "\t<tr><td>-1</td><td>4</td><td>-5</td></tr>\n",
              "\t<tr><td> 0</td><td>3</td><td> 8</td></tr>\n",
              "</tbody>\n",
              "</table>\n"
            ],
            "text/markdown": "\nA matrix: 2 × 3 of type dbl\n\n| -1 | 4 | -5 |\n|  0 | 3 |  8 |\n\n",
            "text/latex": "A matrix: 2 × 3 of type dbl\n\\begin{tabular}{lll}\n\t -1 & 4 & -5\\\\\n\t  0 & 3 &  8\\\\\n\\end{tabular}\n",
            "text/plain": [
              "     [,1] [,2] [,3]\n",
              "[1,] -1   4    -5  \n",
              "[2,]  0   3     8  "
            ]
          },
          "metadata": {}
        }
      ]
    },
    {
      "cell_type": "code",
      "source": [
        "mx3<-matrix(c(7,1,1,3,2,1,2,1,3,0,6,7),3,4,byrow=T)\n",
        "mx3\n",
        "\n"
      ],
      "metadata": {
        "colab": {
          "base_uri": "https://localhost:8080/",
          "height": 146
        },
        "id": "A5Eoefy8wstC",
        "outputId": "e7dfb7e5-c30f-47de-d4ae-1b8c4279d815"
      },
      "execution_count": 10,
      "outputs": [
        {
          "output_type": "display_data",
          "data": {
            "text/html": [
              "<table class=\"dataframe\">\n",
              "<caption>A matrix: 3 × 4 of type dbl</caption>\n",
              "<tbody>\n",
              "\t<tr><td>7</td><td>1</td><td>1</td><td>3</td></tr>\n",
              "\t<tr><td>2</td><td>1</td><td>2</td><td>1</td></tr>\n",
              "\t<tr><td>3</td><td>0</td><td>6</td><td>7</td></tr>\n",
              "</tbody>\n",
              "</table>\n"
            ],
            "text/markdown": "\nA matrix: 3 × 4 of type dbl\n\n| 7 | 1 | 1 | 3 |\n| 2 | 1 | 2 | 1 |\n| 3 | 0 | 6 | 7 |\n\n",
            "text/latex": "A matrix: 3 × 4 of type dbl\n\\begin{tabular}{llll}\n\t 7 & 1 & 1 & 3\\\\\n\t 2 & 1 & 2 & 1\\\\\n\t 3 & 0 & 6 & 7\\\\\n\\end{tabular}\n",
            "text/plain": [
              "     [,1] [,2] [,3] [,4]\n",
              "[1,] 7    1    1    3   \n",
              "[2,] 2    1    2    1   \n",
              "[3,] 3    0    6    7   "
            ]
          },
          "metadata": {}
        }
      ]
    },
    {
      "cell_type": "markdown",
      "source": [
        " mx3 matrisimizin 1. satır 3. sütününda olan elemanı 9 olarak değiştiriniz"
      ],
      "metadata": {
        "id": "hX-PfQDWxhOO"
      }
    },
    {
      "cell_type": "code",
      "source": [
        "mx3[1,3]<-9\n",
        "mx3"
      ],
      "metadata": {
        "colab": {
          "base_uri": "https://localhost:8080/",
          "height": 146
        },
        "id": "3AAnRv30xgEP",
        "outputId": "b67b341d-edd2-4bd5-b36e-48fc198c8a3a"
      },
      "execution_count": 11,
      "outputs": [
        {
          "output_type": "display_data",
          "data": {
            "text/html": [
              "<table class=\"dataframe\">\n",
              "<caption>A matrix: 3 × 4 of type dbl</caption>\n",
              "<tbody>\n",
              "\t<tr><td>7</td><td>1</td><td>9</td><td>3</td></tr>\n",
              "\t<tr><td>2</td><td>1</td><td>2</td><td>1</td></tr>\n",
              "\t<tr><td>3</td><td>0</td><td>6</td><td>7</td></tr>\n",
              "</tbody>\n",
              "</table>\n"
            ],
            "text/markdown": "\nA matrix: 3 × 4 of type dbl\n\n| 7 | 1 | 9 | 3 |\n| 2 | 1 | 2 | 1 |\n| 3 | 0 | 6 | 7 |\n\n",
            "text/latex": "A matrix: 3 × 4 of type dbl\n\\begin{tabular}{llll}\n\t 7 & 1 & 9 & 3\\\\\n\t 2 & 1 & 2 & 1\\\\\n\t 3 & 0 & 6 & 7\\\\\n\\end{tabular}\n",
            "text/plain": [
              "     [,1] [,2] [,3] [,4]\n",
              "[1,] 7    1    9    3   \n",
              "[2,] 2    1    2    1   \n",
              "[3,] 3    0    6    7   "
            ]
          },
          "metadata": {}
        }
      ]
    },
    {
      "cell_type": "code",
      "source": [
        "mx4<-matrix(c(2,5,0,2,-4,6,-2,1,2),3,3,byrow = T)\n",
        "mx4"
      ],
      "metadata": {
        "colab": {
          "base_uri": "https://localhost:8080/",
          "height": 163
        },
        "id": "LdhFUOqJx7Jy",
        "outputId": "2fa37710-698f-42ff-8f48-1cd19b4a43f4"
      },
      "execution_count": 12,
      "outputs": [
        {
          "output_type": "display_data",
          "data": {
            "text/html": [
              "<table class=\"dataframe\">\n",
              "<caption>A matrix: 3 × 3 of type dbl</caption>\n",
              "<tbody>\n",
              "\t<tr><td> 2</td><td> 5</td><td>0</td></tr>\n",
              "\t<tr><td> 2</td><td>-4</td><td>6</td></tr>\n",
              "\t<tr><td>-2</td><td> 1</td><td>2</td></tr>\n",
              "</tbody>\n",
              "</table>\n"
            ],
            "text/markdown": "\nA matrix: 3 × 3 of type dbl\n\n|  2 |  5 | 0 |\n|  2 | -4 | 6 |\n| -2 |  1 | 2 |\n\n",
            "text/latex": "A matrix: 3 × 3 of type dbl\n\\begin{tabular}{lll}\n\t  2 &  5 & 0\\\\\n\t  2 & -4 & 6\\\\\n\t -2 &  1 & 2\\\\\n\\end{tabular}\n",
            "text/plain": [
              "     [,1] [,2] [,3]\n",
              "[1,]  2    5   0   \n",
              "[2,]  2   -4   6   \n",
              "[3,] -2    1   2   "
            ]
          },
          "metadata": {}
        }
      ]
    },
    {
      "cell_type": "markdown",
      "source": [
        "mx4 matrisinin 3 den büyük olan elamanlarını gösteriniz\n"
      ],
      "metadata": {
        "id": "uCsfBnuKyNmv"
      }
    },
    {
      "cell_type": "code",
      "source": [
        "mx4[mx4>3]\n"
      ],
      "metadata": {
        "colab": {
          "base_uri": "https://localhost:8080/",
          "height": 34
        },
        "id": "BqBuMZcBybu0",
        "outputId": "17ee4f0d-27f8-4bc6-9c25-97e17137bb79"
      },
      "execution_count": 13,
      "outputs": [
        {
          "output_type": "display_data",
          "data": {
            "text/html": [
              "<style>\n",
              ".list-inline {list-style: none; margin:0; padding: 0}\n",
              ".list-inline>li {display: inline-block}\n",
              ".list-inline>li:not(:last-child)::after {content: \"\\00b7\"; padding: 0 .5ex}\n",
              "</style>\n",
              "<ol class=list-inline><li>5</li><li>6</li></ol>\n"
            ],
            "text/markdown": "1. 5\n2. 6\n\n\n",
            "text/latex": "\\begin{enumerate*}\n\\item 5\n\\item 6\n\\end{enumerate*}\n",
            "text/plain": [
              "[1] 5 6"
            ]
          },
          "metadata": {}
        }
      ]
    },
    {
      "cell_type": "code",
      "source": [
        "mx5<-matrix(c(1,6,2,3,4,-6,5,11,4),3,3,byrow = T)\n",
        "mx5"
      ],
      "metadata": {
        "colab": {
          "base_uri": "https://localhost:8080/",
          "height": 163
        },
        "id": "Q3nM9qPyyj03",
        "outputId": "20820e7d-ec90-4338-a2d6-fe2d98d87eda"
      },
      "execution_count": 20,
      "outputs": [
        {
          "output_type": "display_data",
          "data": {
            "text/html": [
              "<table class=\"dataframe\">\n",
              "<caption>A matrix: 3 × 3 of type dbl</caption>\n",
              "<tbody>\n",
              "\t<tr><td>1</td><td> 6</td><td> 2</td></tr>\n",
              "\t<tr><td>3</td><td> 4</td><td>-6</td></tr>\n",
              "\t<tr><td>5</td><td>11</td><td> 4</td></tr>\n",
              "</tbody>\n",
              "</table>\n"
            ],
            "text/markdown": "\nA matrix: 3 × 3 of type dbl\n\n| 1 |  6 |  2 |\n| 3 |  4 | -6 |\n| 5 | 11 |  4 |\n\n",
            "text/latex": "A matrix: 3 × 3 of type dbl\n\\begin{tabular}{lll}\n\t 1 &  6 &  2\\\\\n\t 3 &  4 & -6\\\\\n\t 5 & 11 &  4\\\\\n\\end{tabular}\n",
            "text/plain": [
              "     [,1] [,2] [,3]\n",
              "[1,] 1     6    2  \n",
              "[2,] 3     4   -6  \n",
              "[3,] 5    11    4  "
            ]
          },
          "metadata": {}
        }
      ]
    },
    {
      "cell_type": "markdown",
      "source": [
        "mx5 matrisinin 2. sütünunu silen kodu gösteriniz\n"
      ],
      "metadata": {
        "id": "qRbVD97ty5kQ"
      }
    },
    {
      "cell_type": "code",
      "source": [
        "mx5<-mx5[,-2]\n",
        "mx5"
      ],
      "metadata": {
        "colab": {
          "base_uri": "https://localhost:8080/",
          "height": 198
        },
        "id": "2jSsBeqVzAH4",
        "outputId": "dda3048a-086c-496d-b472-b3bb06da984d"
      },
      "execution_count": 21,
      "outputs": [
        {
          "output_type": "display_data",
          "data": {
            "text/html": [
              "<table class=\"dataframe\">\n",
              "<caption>A matrix: 3 × 2 of type dbl</caption>\n",
              "<tbody>\n",
              "\t<tr><td>1</td><td> 2</td></tr>\n",
              "\t<tr><td>3</td><td>-6</td></tr>\n",
              "\t<tr><td>5</td><td> 4</td></tr>\n",
              "</tbody>\n",
              "</table>\n"
            ],
            "text/markdown": "\nA matrix: 3 × 2 of type dbl\n\n| 1 |  2 |\n| 3 | -6 |\n| 5 |  4 |\n\n",
            "text/latex": "A matrix: 3 × 2 of type dbl\n\\begin{tabular}{ll}\n\t 1 &  2\\\\\n\t 3 & -6\\\\\n\t 5 &  4\\\\\n\\end{tabular}\n",
            "text/plain": [
              "     [,1] [,2]\n",
              "[1,] 1     2  \n",
              "[2,] 3    -6  \n",
              "[3,] 5     4  "
            ]
          },
          "metadata": {}
        }
      ]
    },
    {
      "cell_type": "code",
      "source": [
        "mx6<-matrix(c(2,2,8,10,7,-3),2,3,byrow = T)\n",
        "mx6"
      ],
      "metadata": {
        "colab": {
          "base_uri": "https://localhost:8080/",
          "height": 132
        },
        "id": "Pyhhc1HQzVPW",
        "outputId": "4d72c48e-c289-493c-c5c2-9e1bfe33a888"
      },
      "execution_count": 32,
      "outputs": [
        {
          "output_type": "display_data",
          "data": {
            "text/html": [
              "<table class=\"dataframe\">\n",
              "<caption>A matrix: 2 × 3 of type dbl</caption>\n",
              "<tbody>\n",
              "\t<tr><td> 2</td><td>2</td><td> 8</td></tr>\n",
              "\t<tr><td>10</td><td>7</td><td>-3</td></tr>\n",
              "</tbody>\n",
              "</table>\n"
            ],
            "text/markdown": "\nA matrix: 2 × 3 of type dbl\n\n|  2 | 2 |  8 |\n| 10 | 7 | -3 |\n\n",
            "text/latex": "A matrix: 2 × 3 of type dbl\n\\begin{tabular}{lll}\n\t  2 & 2 &  8\\\\\n\t 10 & 7 & -3\\\\\n\\end{tabular}\n",
            "text/plain": [
              "     [,1] [,2] [,3]\n",
              "[1,]  2   2     8  \n",
              "[2,] 10   7    -3  "
            ]
          },
          "metadata": {}
        }
      ]
    },
    {
      "cell_type": "markdown",
      "source": [
        "mx6 matrisine c(3,4) vektörününü sütün olarak ekleyiniz\n"
      ],
      "metadata": {
        "id": "ryfyknpazhX9"
      }
    },
    {
      "cell_type": "code",
      "source": [
        "#cbind sütün birleştirme rbind ise satır birleştirme\n",
        "mx6<-cbind(mx6,c(3,4))\n",
        "mx6"
      ],
      "metadata": {
        "colab": {
          "base_uri": "https://localhost:8080/",
          "height": 114
        },
        "id": "_FLmnAvvzq5M",
        "outputId": "5dc1d7ca-8ff2-47f1-f395-cf8ee7b7a53d"
      },
      "execution_count": 33,
      "outputs": [
        {
          "output_type": "display_data",
          "data": {
            "text/html": [
              "<table class=\"dataframe\">\n",
              "<caption>A matrix: 2 × 4 of type dbl</caption>\n",
              "<tbody>\n",
              "\t<tr><td> 2</td><td>2</td><td> 8</td><td>3</td></tr>\n",
              "\t<tr><td>10</td><td>7</td><td>-3</td><td>4</td></tr>\n",
              "</tbody>\n",
              "</table>\n"
            ],
            "text/markdown": "\nA matrix: 2 × 4 of type dbl\n\n|  2 | 2 |  8 | 3 |\n| 10 | 7 | -3 | 4 |\n\n",
            "text/latex": "A matrix: 2 × 4 of type dbl\n\\begin{tabular}{llll}\n\t  2 & 2 &  8 & 3\\\\\n\t 10 & 7 & -3 & 4\\\\\n\\end{tabular}\n",
            "text/plain": [
              "     [,1] [,2] [,3] [,4]\n",
              "[1,]  2   2     8   3   \n",
              "[2,] 10   7    -3   4   "
            ]
          },
          "metadata": {}
        }
      ]
    },
    {
      "cell_type": "code",
      "source": [
        "mx7<-matrix(c(2,3,7,1,0,6,1,1,3),3,3,byrow = T)\n",
        "mx8<-matrix(c(1,7,12,7,14,0,8,21,2),3,3,byrow = T)\n",
        "#mx7 ve mx8 matrisimizi satır olarak birleştirelim\n",
        "# satır birleştirme işlemi için rbin kullanılır\n",
        "mx7_8<-rbind(mx7,mx8)\n",
        "mx7_8\n"
      ],
      "metadata": {
        "colab": {
          "base_uri": "https://localhost:8080/",
          "height": 240
        },
        "id": "9WKRZj_L0de2",
        "outputId": "33786d5a-0dc6-4b62-ee8c-2549a0b02c43"
      },
      "execution_count": 35,
      "outputs": [
        {
          "output_type": "display_data",
          "data": {
            "text/html": [
              "<table class=\"dataframe\">\n",
              "<caption>A matrix: 6 × 3 of type dbl</caption>\n",
              "<tbody>\n",
              "\t<tr><td>2</td><td> 3</td><td> 7</td></tr>\n",
              "\t<tr><td>1</td><td> 0</td><td> 6</td></tr>\n",
              "\t<tr><td>1</td><td> 1</td><td> 3</td></tr>\n",
              "\t<tr><td>1</td><td> 7</td><td>12</td></tr>\n",
              "\t<tr><td>7</td><td>14</td><td> 0</td></tr>\n",
              "\t<tr><td>8</td><td>21</td><td> 2</td></tr>\n",
              "</tbody>\n",
              "</table>\n"
            ],
            "text/markdown": "\nA matrix: 6 × 3 of type dbl\n\n| 2 |  3 |  7 |\n| 1 |  0 |  6 |\n| 1 |  1 |  3 |\n| 1 |  7 | 12 |\n| 7 | 14 |  0 |\n| 8 | 21 |  2 |\n\n",
            "text/latex": "A matrix: 6 × 3 of type dbl\n\\begin{tabular}{lll}\n\t 2 &  3 &  7\\\\\n\t 1 &  0 &  6\\\\\n\t 1 &  1 &  3\\\\\n\t 1 &  7 & 12\\\\\n\t 7 & 14 &  0\\\\\n\t 8 & 21 &  2\\\\\n\\end{tabular}\n",
            "text/plain": [
              "     [,1] [,2] [,3]\n",
              "[1,] 2     3    7  \n",
              "[2,] 1     0    6  \n",
              "[3,] 1     1    3  \n",
              "[4,] 1     7   12  \n",
              "[5,] 7    14    0  \n",
              "[6,] 8    21    2  "
            ]
          },
          "metadata": {}
        }
      ]
    }
  ]
}